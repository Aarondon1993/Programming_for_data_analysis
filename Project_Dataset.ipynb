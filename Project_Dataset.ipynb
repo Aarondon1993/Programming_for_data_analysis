{
 "cells": [
  {
   "cell_type": "code",
   "execution_count": 34,
   "metadata": {
    "scrolled": true
   },
   "outputs": [
    {
     "data": {
      "text/plain": [
       "Caucasian   NaN\n",
       "African     NaN\n",
       "Asian       NaN\n",
       "African     NaN\n",
       "Asian       NaN\n",
       "             ..\n",
       "Other       NaN\n",
       "Caucasian   NaN\n",
       "Caucasian   NaN\n",
       "Caucasian   NaN\n",
       "African     NaN\n",
       "Length: 100, dtype: float64"
      ]
     },
     "execution_count": 34,
     "metadata": {},
     "output_type": "execute_result"
    }
   ],
   "source": [
    "\n",
    "race= ['Caucasian', 'African', 'Asian', 'Other']\n",
    "\n",
    "import numpy as np\n",
    "x= np.random.choice(race, size= 100)\n",
    "\n",
    "import pandas as pd\n",
    "s=  {'Race': [x] }\n",
    "\n",
    "d=pd.Series(index= [x]) \n",
    "d\n",
    "\n"
   ]
  },
  {
   "cell_type": "code",
   "execution_count": null,
   "metadata": {},
   "outputs": [],
   "source": []
  }
 ],
 "metadata": {
  "kernelspec": {
   "display_name": "Python 3",
   "language": "python",
   "name": "python3"
  },
  "language_info": {
   "codemirror_mode": {
    "name": "ipython",
    "version": 3
   },
   "file_extension": ".py",
   "mimetype": "text/x-python",
   "name": "python",
   "nbconvert_exporter": "python",
   "pygments_lexer": "ipython3",
   "version": "3.7.4"
  }
 },
 "nbformat": 4,
 "nbformat_minor": 2
}
