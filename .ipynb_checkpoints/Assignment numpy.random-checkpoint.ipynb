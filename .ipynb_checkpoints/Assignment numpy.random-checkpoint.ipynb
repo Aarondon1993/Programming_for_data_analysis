{
 "cells": [
  {
   "cell_type": "markdown",
   "metadata": {},
   "source": [
    "### Assignment- Programming for Data Analysis\n",
    "***\n",
    "#### Aaron Donnelly-G00299531\n",
    "***\n",
    "\n",
    "#### Investigating the numpy.random package in Numpy"
   ]
  },
  {
   "cell_type": "markdown",
   "metadata": {},
   "source": [
    "### Section 1- The overall purpose of the numpy.random package\n",
    "\n",
    "\n",
    "##### NumPy also known as numerical python is a fundamental library for analysing scientifc data using python and is the foundation on which many other python libraries have been built. Numpy was built by an Americandata scientist called Travis Oliphant. NumPy is however open source, with many contributers. The main benefit of NumPy is how it deals with lists. A normal python list is tedious when carrying out calculations across the list. NumPy makes this process much more efficient by its ablility to carry out the calculation across entire lists known as numpy arrays(nparray). Numpy is a very important python library in the ever growing areas of neural networks and artificial intelligence. Numpy.random is a sub package of the Numpy library. This package is primarly used to generate random numbers for a user i.e. numbers that cannot be predicted logically [2]. The ability to generate random numbers is a big business in this day and age. The area of cryptography is  heavily reliant on the ability to use random numbers along with much of the current popular game shows. Random numbers are also used in areas such as gambling and can be used to simulate many of these games from ones computer. In the science field random numbers can be used to simulate potential events an example here would be virus infections This package works to produce “pseudo random” numbers using a combination of a “Bitgenerator”and “generators” [3]. The word pseudo random relates to the fact that the package uses an algorithm to generate therandom numbers and so they can’t be considered truly random. Advantages of these types of random numbers is that they can be generated quickly. The series of numbers can also be saved to memory and recalled at a different time. One downside to these algorithms is that they are ‘periodic’ meaning that eventually the sequence of numbers will eventually repeat.\n"
   ]
  },
  {
   "cell_type": "markdown",
   "metadata": {},
   "source": [
    "### Section 2 - Simple Random Data and Permutations functions\n"
   ]
  },
  {
   "cell_type": "markdown",
   "metadata": {},
   "source": [
    "##### The Simple Random Data function in Numpy is made up of 4 functions. These functions are integers, random, choice and bytes. A breakdown of these 4 functions with examples can be seen below.\n",
    "\n",
    "***"
   ]
  },
  {
   "cell_type": "markdown",
   "metadata": {},
   "source": [
    "#### Integers"
   ]
  },
  {
   "cell_type": "markdown",
   "metadata": {},
   "source": [
    "##### The integer function works by returning 'random integers' from 'low to high exclusive' or hight to low depending on if then enpoint is set to true. An example of this function can be seen below."
   ]
  },
  {
   "cell_type": "code",
   "execution_count": 2,
   "metadata": {},
   "outputs": [
    {
     "data": {
      "text/plain": [
       "array([0, 0, 1, 1, 0, 1, 1, 0, 1, 0, 0, 1, 0, 0, 1, 1, 1, 0, 1, 1],\n",
       "      dtype=int64)"
      ]
     },
     "execution_count": 2,
     "metadata": {},
     "output_type": "execute_result"
    }
   ],
   "source": [
    "import numpy as np\n",
    "rng = np.random.default_rng()\n",
    "x = rng.integers(2, size= 20)\n",
    "# The above will produce 20 integers (size = 20) between 0 and . This assumes the high= 2 the 2nd value between 0 and 1\n",
    "x\n"
   ]
  },
  {
   "cell_type": "code",
   "execution_count": 3,
   "metadata": {},
   "outputs": [
    {
     "data": {
      "text/plain": [
       "array([6, 0, 5, 7, 6, 1, 5, 1, 5, 7, 0, 1, 2, 9, 1, 8, 5, 7, 6, 1],\n",
       "      dtype=int64)"
      ]
     },
     "execution_count": 3,
     "metadata": {},
     "output_type": "execute_result"
    }
   ],
   "source": [
    "x = rng.integers(10, size= 20)\n",
    "# The above will produce 20 integers between 0 and 9 again assuming the high =9 i.e the 10th value between 0 and 9\n",
    "x"
   ]
  },
  {
   "cell_type": "code",
   "execution_count": 5,
   "metadata": {},
   "outputs": [
    {
     "data": {
      "text/plain": [
       "array([28, 21, 22, 26, 25, 29, 24, 22, 23, 25, 24, 21, 24, 23, 29, 21, 27,\n",
       "       24, 23, 20], dtype=int64)"
      ]
     },
     "execution_count": 5,
     "metadata": {},
     "output_type": "execute_result"
    }
   ],
   "source": [
    "x = rng.integers(20,high=30,size= 20,)\n",
    "# This numpy array specifys a high value of 30 and a low value of 20 and so will give 20 integers between 20 and 29\n",
    "x"
   ]
  },
  {
   "cell_type": "markdown",
   "metadata": {},
   "source": [
    "##### Random"
   ]
  },
  {
   "cell_type": "markdown",
   "metadata": {},
   "source": [
    "##### This function works by generating a number of random floating point number between 0 and 1.  In older versions of Numpy this function was given as random.rand however is now generator.random. The inputs for random are (no of rows, no of columns) see example below"
   ]
  },
  {
   "cell_type": "code",
   "execution_count": 7,
   "metadata": {},
   "outputs": [
    {
     "data": {
      "text/plain": [
       "array([[3.88785325e-01, 9.64191462e-01, 5.89719305e-01],\n",
       "       [5.87165695e-01, 7.58638976e-01, 1.24739656e-01],\n",
       "       [1.46104929e-01, 2.27959905e-04, 1.73276871e-01],\n",
       "       [2.54449667e-01, 2.09705193e-01, 1.63751737e-01],\n",
       "       [6.07380410e-01, 1.48550859e-01, 5.01008009e-01],\n",
       "       [2.40271622e-01, 8.76931054e-01, 1.52002921e-01]])"
      ]
     },
     "execution_count": 7,
     "metadata": {},
     "output_type": "execute_result"
    }
   ],
   "source": [
    "# we are going to import numpy and define rng as the generator\n",
    "import numpy as np\n",
    "rng= np.random.default_rng()\n",
    "x= rng.random((6, 3))\n",
    "x\n",
    "# The above code will produce 6 rows x 3 columns of floating point numbers between 0 and 1."
   ]
  },
  {
   "cell_type": "code",
   "execution_count": 8,
   "metadata": {},
   "outputs": [],
   "source": [
    "# In order to increase the range that the .random function can use it is possible to multiply the funtion by whatever\n",
    "# number the user would like to increase the range to . See below"
   ]
  },
  {
   "cell_type": "code",
   "execution_count": 9,
   "metadata": {},
   "outputs": [
    {
     "data": {
      "text/plain": [
       "array([[20.29946527, 69.05692953, 27.91704664],\n",
       "       [52.74584505, 73.91873238, 86.15712437],\n",
       "       [33.93240164, 14.30760152, 66.88907347],\n",
       "       [67.28463538, 20.63589101, 83.58627505],\n",
       "       [59.61363582, 77.44231152, 76.11999812],\n",
       "       [35.14482814, 19.12089075, 11.97323873]])"
      ]
     },
     "execution_count": 9,
     "metadata": {},
     "output_type": "execute_result"
    }
   ],
   "source": [
    "x= 100 * rng.random((6,3))\n",
    "x\n",
    "# The above code is now selecting floating point numbers between the values of 0 and 100."
   ]
  },
  {
   "cell_type": "markdown",
   "metadata": {},
   "source": [
    "##### Choice "
   ]
  },
  {
   "cell_type": "markdown",
   "metadata": {},
   "source": [
    "##### The choice function allows the user to generate a random sample from a 1 dimensional array. See below examples "
   ]
  },
  {
   "cell_type": "code",
   "execution_count": 11,
   "metadata": {},
   "outputs": [
    {
     "data": {
      "text/plain": [
       "array([11,  6,  9,  6,  7, 13], dtype=int64)"
      ]
     },
     "execution_count": 11,
     "metadata": {},
     "output_type": "execute_result"
    }
   ],
   "source": [
    "import numpy as np\n",
    "rng = np.random.default_rng()\n",
    "x= rng.choice (15, 6)\n",
    "x\n",
    "# The above generates a uniform distribution of 6 values between 0 and 15 exclusive"
   ]
  },
  {
   "cell_type": "code",
   "execution_count": 19,
   "metadata": {},
   "outputs": [
    {
     "data": {
      "text/plain": [
       "array([0, 3, 3, 3, 2, 3], dtype=int64)"
      ]
     },
     "execution_count": 19,
     "metadata": {},
     "output_type": "execute_result"
    }
   ],
   "source": [
    "# The below displays a non uniform distribution of 6 values between 0 and 15 exclusive\n",
    "x= rng.choice (6, 6, p= [0.1, 0.1, 0.2,0.4, 0.1, 0.1])\n",
    "x\n",
    "# The 'p' in this case represents the probabilty. as can be seen from the p values they are not\n",
    "# evenly distributed and so do not produce a uniform output of values. "
   ]
  },
  {
   "cell_type": "markdown",
   "metadata": {},
   "source": [
    "##### Bytes"
   ]
  },
  {
   "cell_type": "markdown",
   "metadata": {},
   "source": [
    "##### The bytes sub function in the simple random data function is to return random bytes and this function takes only one argument and that being the number of bytes the user would like to produce. See below an example."
   ]
  },
  {
   "cell_type": "code",
   "execution_count": 21,
   "metadata": {},
   "outputs": [
    {
     "data": {
      "text/plain": [
       "b'}\\x0c~}\\t\\xfe=\\r\\xcc\\x16I\\xebg\\xc0\\xb1\\x96\\x1d\\xc3 \\x85'"
      ]
     },
     "execution_count": 21,
     "metadata": {},
     "output_type": "execute_result"
    }
   ],
   "source": [
    "import numpy as np\n",
    "rng= np.random.default_rng()\n",
    "x= rng.bytes(20)\n",
    "# The number of bytes that the user wants to display is added\n",
    "x"
   ]
  },
  {
   "cell_type": "markdown",
   "metadata": {},
   "source": [
    "***\n",
    "##### Permutations\n",
    " \n"
   ]
  },
  {
   "cell_type": "markdown",
   "metadata": {},
   "source": [
    "##### A permutation can be defined as multitude of possible was a series can be re-arranged, arranged and ordered. There are 2 types of permutation functions in the numpy.random package. These are 'shuffle' and 'permutation'. These two functions are described further below."
   ]
  },
  {
   "cell_type": "markdown",
   "metadata": {},
   "source": [
    "##### Shuffle\n",
    "\n",
    "##### The Shuffle function is used to shuffle a pre-ordered sequence of values. This function requires the use of a numpy range of values in its input The code below shows two examples of the shuffle funtion being used.\n"
   ]
  },
  {
   "cell_type": "code",
   "execution_count": 9,
   "metadata": {},
   "outputs": [
    {
     "data": {
      "text/plain": [
       "array([19,  3, 15,  4,  0, 18, 13,  8, 17,  6, 11, 16, 10, 14,  1, 12,  2,\n",
       "        9,  7,  5])"
      ]
     },
     "execution_count": 9,
     "metadata": {},
     "output_type": "execute_result"
    }
   ],
   "source": [
    "# We start by importing numpy\n",
    "import numpy as np\n",
    "#we then define the random number generator (rng)\n",
    "rng= np.random.default_rng()\n",
    "# We enter the range of values that the user wants to \n",
    "arr = np.arange(20)\n",
    "x = rng.shuffle(arr)\n",
    "arr"
   ]
  },
  {
   "cell_type": "markdown",
   "metadata": {},
   "source": [
    "##### As can be seen above, the shuffle function takes every value within the range that the user chooses and shuffles it outputting all the values in different order."
   ]
  },
  {
   "cell_type": "markdown",
   "metadata": {},
   "source": [
    "##### Permutation\n",
    "\n",
    "##### This function can perform two outputs. The first will randomly permuting a sequence of values and the second will be returning a permuted range. "
   ]
  },
  {
   "cell_type": "code",
   "execution_count": 10,
   "metadata": {},
   "outputs": [
    {
     "data": {
      "text/plain": [
       "array([ 1, 14, 17, 12, 11,  9,  2,  3, 15,  7, 10,  0,  6, 16,  8, 18, 19,\n",
       "        4,  5, 13])"
      ]
     },
     "execution_count": 10,
     "metadata": {},
     "output_type": "execute_result"
    }
   ],
   "source": [
    "import numpy as np\n",
    "rng= np.random.default_rng()\n",
    "x = rng.permutation(20)\n",
    "# This command produces the permutation using np.arange with value 20 (The same as the shuffle function)\n",
    "x"
   ]
  },
  {
   "cell_type": "code",
   "execution_count": 17,
   "metadata": {},
   "outputs": [
    {
     "data": {
      "text/plain": [
       "array([[ 0,  1,  2,  3],\n",
       "       [ 4,  5,  6,  7],\n",
       "       [ 8,  9, 10, 11],\n",
       "       [12, 13, 14, 15]])"
      ]
     },
     "execution_count": 17,
     "metadata": {},
     "output_type": "execute_result"
    }
   ],
   "source": [
    "x = np.arange(16).reshape((4,4))\n",
    "x"
   ]
  },
  {
   "cell_type": "markdown",
   "metadata": {},
   "source": [
    "***"
   ]
  },
  {
   "cell_type": "markdown",
   "metadata": {},
   "source": [
    "### Section 3- Distributions"
   ]
  },
  {
   "cell_type": "markdown",
   "metadata": {},
   "source": [
    "##### The numpy.random package provide a wide array of distributions that can be defined as 'functions that shows the possible values for a variable and how often they occur'. In this investigation we are going to look at 5 diffrent types of distributions and explain their uses. The 5 distributions we are going to look at are Normal Distribution, Binomial Distribution, Uniform Distribution, Poisson Distribution and Weibull Distribution."
   ]
  },
  {
   "cell_type": "markdown",
   "metadata": {},
   "source": [
    "***\n",
    "##### Normal Distribution.\n",
    "\n",
    "\n"
   ]
  },
  {
   "attachments": {
    "image.png": {
     "image/png": "[encoded data removed]"
    }
   },
   "cell_type": "markdown",
   "metadata": {},
   "source": [
    "![image.png](attachment:image.png)"
   ]
  }
 ],
 "metadata": {
  "kernelspec": {
   "display_name": "Python 3",
   "language": "python",
   "name": "python3"
  },
  "language_info": {
   "codemirror_mode": {
    "name": "ipython",
    "version": 3
   },
   "file_extension": ".py",
   "mimetype": "text/x-python",
   "name": "python",
   "nbconvert_exporter": "python",
   "pygments_lexer": "ipython3",
   "version": "3.7.4"
  }
 },
 "nbformat": 4,
 "nbformat_minor": 2
}
