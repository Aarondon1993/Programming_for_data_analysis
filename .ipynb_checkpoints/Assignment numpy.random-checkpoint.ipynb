{
 "cells": [
  {
   "cell_type": "markdown",
   "metadata": {},
   "source": [
    "### Assignment- Programming for Data Analysis\n",
    "***\n",
    "#### Aaron Donnelly-G00299531\n",
    "***\n",
    "\n",
    "#### Investigating the numpy.random package in Numpy"
   ]
  },
  {
   "cell_type": "markdown",
   "metadata": {},
   "source": [
    "### Section 1- The overall purpose of the numpy.random package\n",
    "\n",
    "\n",
    "##### NumPy also known as numerical python is a fundamental library for analysing scientifc data using python and is the foundation on which many other python libraries have been built. Numpy was built by an Americandata scientist called Travis Oliphant. NumPy is however open source, with many contributers. The main benefit of NumPy is how it deals with lists. A normal python list is tedious when carrying out calculations across the list. NumPy makes this process much more efficient by its ablility to carry out the calculation across entire lists known as numpy arrays(nparray). Numpy is a very important python library in the ever growing areas of neural networks and artificial intelligence. Numpy.random is a sub package of the Numpy library. This package is primarly used to generate random numbers for a user i.e. numbers that cannot be predicted logically [2]. The ability to generate random numbers is a big business in this day and age. The area of cryptography is  heavily reliant on the ability to use random numbers along with much of the current popular game shows. Random numbers are also used in areas such as gambling and can be used to simulate many of these games from ones computer. In the science field random numbers can be used to simulate potential events an example here would be virus infections This package works to produce “pseudo random” numbers using a combination of a “Bitgenerator”and “generators” [3]. The word pseudo random relates to the fact that the package uses an algorithm to generate therandom numbers and so they can’t be considered truly random. Advantages of these types of random numbers is that they can be generated quickly. The series of numbers can also be saved to memory and recalled at a different time. One downside to these algorithms is that they are ‘periodic’ meaning that eventually the sequence of numbers will eventually repeat.\n"
   ]
  },
  {
   "cell_type": "markdown",
   "metadata": {},
   "source": [
    "### Section 2 - Simple Random Data and Permutations functions\n"
   ]
  },
  {
   "cell_type": "markdown",
   "metadata": {},
   "source": [
    "##### The Simple Random Data function in Numpy is made up of 4 functions. These functions are integers, random, choice and bytes. A breakdown of these 4 functions with examples can be seen below.\n",
    "\n",
    "***"
   ]
  },
  {
   "cell_type": "markdown",
   "metadata": {},
   "source": [
    "#### Integers"
   ]
  },
  {
   "cell_type": "markdown",
   "metadata": {},
   "source": [
    "##### The integer function works by returning 'random integers' from 'low to high exclusive' or hight to low depending on if then enpoint is set to true. An example of this function can be seen below."
   ]
  },
  {
   "cell_type": "code",
   "execution_count": 2,
   "metadata": {},
   "outputs": [
    {
     "data": {
      "text/plain": [
       "array([0, 0, 1, 1, 0, 1, 1, 0, 1, 0, 0, 1, 0, 0, 1, 1, 1, 0, 1, 1],\n",
       "      dtype=int64)"
      ]
     },
     "execution_count": 2,
     "metadata": {},
     "output_type": "execute_result"
    }
   ],
   "source": [
    "import numpy as np\n",
    "rng = np.random.default_rng()\n",
    "x = rng.integers(2, size= 20)\n",
    "# The above will produce 20 integers (size = 20) between 0 and . This assumes the high= 2 the 2nd value between 0 and 1\n",
    "x\n"
   ]
  },
  {
   "cell_type": "code",
   "execution_count": 3,
   "metadata": {},
   "outputs": [
    {
     "data": {
      "text/plain": [
       "array([6, 0, 5, 7, 6, 1, 5, 1, 5, 7, 0, 1, 2, 9, 1, 8, 5, 7, 6, 1],\n",
       "      dtype=int64)"
      ]
     },
     "execution_count": 3,
     "metadata": {},
     "output_type": "execute_result"
    }
   ],
   "source": [
    "x = rng.integers(10, size= 20)\n",
    "# The above will produce 20 integers between 0 and 9 again assuming the high =9 i.e the 10th value between 0 and 9\n",
    "x"
   ]
  },
  {
   "cell_type": "code",
   "execution_count": 5,
   "metadata": {},
   "outputs": [
    {
     "data": {
      "text/plain": [
       "array([28, 21, 22, 26, 25, 29, 24, 22, 23, 25, 24, 21, 24, 23, 29, 21, 27,\n",
       "       24, 23, 20], dtype=int64)"
      ]
     },
     "execution_count": 5,
     "metadata": {},
     "output_type": "execute_result"
    }
   ],
   "source": [
    "x = rng.integers(20,high=30,size= 20,)\n",
    "# This numpy array specifys a high value of 30 and a low value of 20 and so will give 20 integers between 20 and 29\n",
    "x"
   ]
  },
  {
   "cell_type": "markdown",
   "metadata": {},
   "source": [
    "##### Random"
   ]
  },
  {
   "cell_type": "markdown",
   "metadata": {},
   "source": [
    "##### This function works by generating a number of random floating point number between 0 and 1.  In older versions of Numpy this function was given as random.rand however is now generator.random. The inputs for random are (no of rows, no of columns) see example below"
   ]
  },
  {
   "cell_type": "code",
   "execution_count": 7,
   "metadata": {},
   "outputs": [
    {
     "data": {
      "text/plain": [
       "array([[3.88785325e-01, 9.64191462e-01, 5.89719305e-01],\n",
       "       [5.87165695e-01, 7.58638976e-01, 1.24739656e-01],\n",
       "       [1.46104929e-01, 2.27959905e-04, 1.73276871e-01],\n",
       "       [2.54449667e-01, 2.09705193e-01, 1.63751737e-01],\n",
       "       [6.07380410e-01, 1.48550859e-01, 5.01008009e-01],\n",
       "       [2.40271622e-01, 8.76931054e-01, 1.52002921e-01]])"
      ]
     },
     "execution_count": 7,
     "metadata": {},
     "output_type": "execute_result"
    }
   ],
   "source": [
    "# we are going to import numpy and define rng as the generator\n",
    "import numpy as np\n",
    "rng= np.random.default_rng()\n",
    "x= rng.random((6, 3))\n",
    "x\n",
    "# The above code will produce 6 rows x 3 columns of floating point numbers between 0 and 1."
   ]
  },
  {
   "cell_type": "code",
   "execution_count": 8,
   "metadata": {},
   "outputs": [],
   "source": [
    "# In order to increase the range that the .random function can use it is possible to multiply the funtion by whatever\n",
    "# number the user would like to increase the range to . See below"
   ]
  },
  {
   "cell_type": "code",
   "execution_count": 9,
   "metadata": {},
   "outputs": [
    {
     "data": {
      "text/plain": [
       "array([[20.29946527, 69.05692953, 27.91704664],\n",
       "       [52.74584505, 73.91873238, 86.15712437],\n",
       "       [33.93240164, 14.30760152, 66.88907347],\n",
       "       [67.28463538, 20.63589101, 83.58627505],\n",
       "       [59.61363582, 77.44231152, 76.11999812],\n",
       "       [35.14482814, 19.12089075, 11.97323873]])"
      ]
     },
     "execution_count": 9,
     "metadata": {},
     "output_type": "execute_result"
    }
   ],
   "source": [
    "x= 100 * rng.random((6,3))\n",
    "x\n",
    "# The above code is now selecting floating point numbers between the values of 0 and 100."
   ]
  },
  {
   "cell_type": "markdown",
   "metadata": {},
   "source": [
    "##### Choice "
   ]
  },
  {
   "cell_type": "markdown",
   "metadata": {},
   "source": [
    "##### The choice function allows the user to generate a random sample from a 1 dimensional array. See below examples "
   ]
  },
  {
   "cell_type": "code",
   "execution_count": 11,
   "metadata": {},
   "outputs": [
    {
     "data": {
      "text/plain": [
       "array([11,  6,  9,  6,  7, 13], dtype=int64)"
      ]
     },
     "execution_count": 11,
     "metadata": {},
     "output_type": "execute_result"
    }
   ],
   "source": [
    "import numpy as np\n",
    "rng = np.random.default_rng()\n",
    "x= rng.choice (15, 6)\n",
    "x\n",
    "# The above generates a uniform distribution of 6 values between 0 and 15 exclusive"
   ]
  },
  {
   "cell_type": "code",
   "execution_count": 19,
   "metadata": {},
   "outputs": [
    {
     "data": {
      "text/plain": [
       "array([0, 3, 3, 3, 2, 3], dtype=int64)"
      ]
     },
     "execution_count": 19,
     "metadata": {},
     "output_type": "execute_result"
    }
   ],
   "source": [
    "# The below displays a non uniform distribution of 6 values between 0 and 15 exclusive\n",
    "x= rng.choice (6, 6, p= [0.1, 0.1, 0.2,0.4, 0.1, 0.1])\n",
    "x\n",
    "# The 'p' in this case represents the probabilty. as can be seen from the p values they are not\n",
    "# evenly distributed and so do not produce a uniform output of values. "
   ]
  },
  {
   "cell_type": "markdown",
   "metadata": {},
   "source": [
    "##### Bytes"
   ]
  },
  {
   "cell_type": "markdown",
   "metadata": {},
   "source": [
    "##### The bytes sub function in the simple random data function is to return random bytes and this function takes only one argument and that being the number of bytes the user would like to produce. See below an example."
   ]
  },
  {
   "cell_type": "code",
   "execution_count": 21,
   "metadata": {},
   "outputs": [
    {
     "data": {
      "text/plain": [
       "b'}\\x0c~}\\t\\xfe=\\r\\xcc\\x16I\\xebg\\xc0\\xb1\\x96\\x1d\\xc3 \\x85'"
      ]
     },
     "execution_count": 21,
     "metadata": {},
     "output_type": "execute_result"
    }
   ],
   "source": [
    "import numpy as np\n",
    "rng= np.random.default_rng()\n",
    "x= rng.bytes(20)\n",
    "# The number of bytes that the user wants to display is added\n",
    "x"
   ]
  },
  {
   "cell_type": "markdown",
   "metadata": {},
   "source": [
    "***\n",
    "##### Permutations\n",
    " \n"
   ]
  },
  {
   "cell_type": "markdown",
   "metadata": {},
   "source": [
    "##### A permutation can be defined as multitude of possible was a series can be re-arranged, arranged and ordered. There are 2 types of permutation functions in the numpy.random package. These are 'shuffle' and 'permutation'. These two functions are described further below."
   ]
  },
  {
   "cell_type": "markdown",
   "metadata": {},
   "source": [
    "##### Shuffle\n",
    "\n",
    "##### The Shuffle function is used to shuffle a pre-ordered sequence of values. This function requires the use of a numpy range of values in its input The code below shows two examples of the shuffle funtion being used.\n"
   ]
  },
  {
   "cell_type": "code",
   "execution_count": 9,
   "metadata": {},
   "outputs": [
    {
     "data": {
      "text/plain": [
       "array([19,  3, 15,  4,  0, 18, 13,  8, 17,  6, 11, 16, 10, 14,  1, 12,  2,\n",
       "        9,  7,  5])"
      ]
     },
     "execution_count": 9,
     "metadata": {},
     "output_type": "execute_result"
    }
   ],
   "source": [
    "# We start by importing numpy\n",
    "import numpy as np\n",
    "#we then define the random number generator (rng)\n",
    "rng= np.random.default_rng()\n",
    "# We enter the range of values that the user wants to \n",
    "arr = np.arange(20)\n",
    "x = rng.shuffle(arr)\n",
    "arr"
   ]
  },
  {
   "cell_type": "markdown",
   "metadata": {},
   "source": [
    "##### As can be seen above, the shuffle function takes every value within the range that the user chooses and shuffles it outputting all the values in different order."
   ]
  },
  {
   "cell_type": "markdown",
   "metadata": {},
   "source": [
    "##### Permutation\n",
    "\n",
    "##### This function can perform two outputs. The first will randomly permuting a sequence of values and the second will be returning a permuted range. "
   ]
  },
  {
   "cell_type": "code",
   "execution_count": 10,
   "metadata": {},
   "outputs": [
    {
     "data": {
      "text/plain": [
       "array([ 1, 14, 17, 12, 11,  9,  2,  3, 15,  7, 10,  0,  6, 16,  8, 18, 19,\n",
       "        4,  5, 13])"
      ]
     },
     "execution_count": 10,
     "metadata": {},
     "output_type": "execute_result"
    }
   ],
   "source": [
    "import numpy as np\n",
    "rng= np.random.default_rng()\n",
    "x = rng.permutation(20)\n",
    "# This command produces the permutation using np.arange with value 20 (The same as the shuffle function)\n",
    "x"
   ]
  },
  {
   "cell_type": "code",
   "execution_count": 17,
   "metadata": {},
   "outputs": [
    {
     "data": {
      "text/plain": [
       "array([[ 0,  1,  2,  3],\n",
       "       [ 4,  5,  6,  7],\n",
       "       [ 8,  9, 10, 11],\n",
       "       [12, 13, 14, 15]])"
      ]
     },
     "execution_count": 17,
     "metadata": {},
     "output_type": "execute_result"
    }
   ],
   "source": [
    "x = np.arange(16).reshape((4,4))\n",
    "x"
   ]
  },
  {
   "cell_type": "markdown",
   "metadata": {},
   "source": [
    "***"
   ]
  },
  {
   "cell_type": "markdown",
   "metadata": {},
   "source": [
    "### Section 3- Distributions"
   ]
  },
  {
   "cell_type": "markdown",
   "metadata": {},
   "source": [
    "##### The numpy.random package provide a wide array of distributions that can be defined as 'functions that shows the possible values for a variable and how often they occur'. In this investigation we are going to look at 5 diffrent types of distributions and explain their uses. The 5 distributions we are going to look at are Normal Distribution, Binomial Distribution, Uniform Distribution, Poisson Distribution and Weibull Distribution."
   ]
  },
  {
   "cell_type": "markdown",
   "metadata": {},
   "source": [
    "***\n",
    "##### Normal Distribution.\n",
    "\n",
    "\n"
   ]
  },
  {
   "attachments": {
    "image.png": {
     "image/png": "[encoded data removed]"
    }
   },
   "cell_type": "markdown",
   "metadata": {},
   "source": [
    "![image.png](attachment:image.png)"
   ]
  },
  {
   "cell_type": "markdown",
   "metadata": {},
   "source": [
    "##### Normal Distribution also know as Gaussion Distribution provides the classic bell-shaped curve. The Normal Distribution is always centered on the average value. A distribution of this type ican be observed when obtaining data related to physiological attributes for example height in humans. Normal Distribution curves are drawns such that 95% of the samples fall within 2 standard deviations from the mean. Numpy provides a function for simulating normal distributions (.normal), This function takes 3 inputs these being loc (the mean), scale (the standard deviation of the distribution) and size (output shape).  An example of the Normal Distribution can be seen below."
   ]
  },
  {
   "cell_type": "code",
   "execution_count": 11,
   "metadata": {},
   "outputs": [],
   "source": [
    "%matplotlib notebook"
   ]
  },
  {
   "cell_type": "code",
   "execution_count": 35,
   "metadata": {},
   "outputs": [
    {
     "data": {
      "application/javascript": [
       "/* Put everything inside the global mpl namespace */\n",
       "window.mpl = {};\n",
       "\n",
       "\n",
       "mpl.get_websocket_type = function() {\n",
       "    if (typeof(WebSocket) !== 'undefined') {\n",
       "        return WebSocket;\n",
       "    } else if (typeof(MozWebSocket) !== 'undefined') {\n",
       "        return MozWebSocket;\n",
       "    } else {\n",
       "        alert('Your browser does not have WebSocket support. ' +\n",
       "              'Please try Chrome, Safari or Firefox ≥ 6. ' +\n",
       "              'Firefox 4 and 5 are also supported but you ' +\n",
       "              'have to enable WebSockets in about:config.');\n",
       "    };\n",
       "}\n",
       "\n",
       "mpl.figure = function(figure_id, websocket, ondownload, parent_element) {\n",
       "    this.id = figure_id;\n",
       "\n",
       "    this.ws = websocket;\n",
       "\n",
       "    this.supports_binary = (this.ws.binaryType != undefined);\n",
       "\n",
       "    if (!this.supports_binary) {\n",
       "        var warnings = document.getElementById(\"mpl-warnings\");\n",
       "        if (warnings) {\n",
       "            warnings.style.display = 'block';\n",
       "            warnings.textContent = (\n",
       "                \"This browser does not support binary websocket messages. \" +\n",
       "                    \"Performance may be slow.\");\n",
       "        }\n",
       "    }\n",
       "\n",
       "    this.imageObj = new Image();\n",
       "\n",
       "    this.context = undefined;\n",
       "    this.message = undefined;\n",
       "    this.canvas = undefined;\n",
       "    this.rubberband_canvas = undefined;\n",
       "    this.rubberband_context = undefined;\n",
       "    this.format_dropdown = undefined;\n",
       "\n",
       "    this.image_mode = 'full';\n",
       "\n",
       "    this.root = $('<div/>');\n",
       "    this._root_extra_style(this.root)\n",
       "    this.root.attr('style', 'display: inline-block');\n",
       "\n",
       "    $(parent_element).append(this.root);\n",
       "\n",
       "    this._init_header(this);\n",
       "    this._init_canvas(this);\n",
       "    this._init_toolbar(this);\n",
       "\n",
       "    var fig = this;\n",
       "\n",
       "    this.waiting = false;\n",
       "\n",
       "    this.ws.onopen =  function () {\n",
       "            fig.send_message(\"supports_binary\", {value: fig.supports_binary});\n",
       "            fig.send_message(\"send_image_mode\", {});\n",
       "            if (mpl.ratio != 1) {\n",
       "                fig.send_message(\"set_dpi_ratio\", {'dpi_ratio': mpl.ratio});\n",
       "            }\n",
       "            fig.send_message(\"refresh\", {});\n",
       "        }\n",
       "\n",
       "    this.imageObj.onload = function() {\n",
       "            if (fig.image_mode == 'full') {\n",
       "                // Full images could contain transparency (where diff images\n",
       "                // almost always do), so we need to clear the canvas so that\n",
       "                // there is no ghosting.\n",
       "                fig.context.clearRect(0, 0, fig.canvas.width, fig.canvas.height);\n",
       "            }\n",
       "            fig.context.drawImage(fig.imageObj, 0, 0);\n",
       "        };\n",
       "\n",
       "    this.imageObj.onunload = function() {\n",
       "        fig.ws.close();\n",
       "    }\n",
       "\n",
       "    this.ws.onmessage = this._make_on_message_function(this);\n",
       "\n",
       "    this.ondownload = ondownload;\n",
       "}\n",
       "\n",
       "mpl.figure.prototype._init_header = function() {\n",
       "    var titlebar = $(\n",
       "        '<div class=\"ui-dialog-titlebar ui-widget-header ui-corner-all ' +\n",
       "        'ui-helper-clearfix\"/>');\n",
       "    var titletext = $(\n",
       "        '<div class=\"ui-dialog-title\" style=\"width: 100%; ' +\n",
       "        'text-align: center; padding: 3px;\"/>');\n",
       "    titlebar.append(titletext)\n",
       "    this.root.append(titlebar);\n",
       "    this.header = titletext[0];\n",
       "}\n",
       "\n",
       "\n",
       "\n",
       "mpl.figure.prototype._canvas_extra_style = function(canvas_div) {\n",
       "\n",
       "}\n",
       "\n",
       "\n",
       "mpl.figure.prototype._root_extra_style = function(canvas_div) {\n",
       "\n",
       "}\n",
       "\n",
       "mpl.figure.prototype._init_canvas = function() {\n",
       "    var fig = this;\n",
       "\n",
       "    var canvas_div = $('<div/>');\n",
       "\n",
       "    canvas_div.attr('style', 'position: relative; clear: both; outline: 0');\n",
       "\n",
       "    function canvas_keyboard_event(event) {\n",
       "        return fig.key_event(event, event['data']);\n",
       "    }\n",
       "\n",
       "    canvas_div.keydown('key_press', canvas_keyboard_event);\n",
       "    canvas_div.keyup('key_release', canvas_keyboard_event);\n",
       "    this.canvas_div = canvas_div\n",
       "    this._canvas_extra_style(canvas_div)\n",
       "    this.root.append(canvas_div);\n",
       "\n",
       "    var canvas = $('<canvas/>');\n",
       "    canvas.addClass('mpl-canvas');\n",
       "    canvas.attr('style', \"left: 0; top: 0; z-index: 0; outline: 0\")\n",
       "\n",
       "    this.canvas = canvas[0];\n",
       "    this.context = canvas[0].getContext(\"2d\");\n",
       "\n",
       "    var backingStore = this.context.backingStorePixelRatio ||\n",
       "\tthis.context.webkitBackingStorePixelRatio ||\n",
       "\tthis.context.mozBackingStorePixelRatio ||\n",
       "\tthis.context.msBackingStorePixelRatio ||\n",
       "\tthis.context.oBackingStorePixelRatio ||\n",
       "\tthis.context.backingStorePixelRatio || 1;\n",
       "\n",
       "    mpl.ratio = (window.devicePixelRatio || 1) / backingStore;\n",
       "\n",
       "    var rubberband = $('<canvas/>');\n",
       "    rubberband.attr('style', \"position: absolute; left: 0; top: 0; z-index: 1;\")\n",
       "\n",
       "    var pass_mouse_events = true;\n",
       "\n",
       "    canvas_div.resizable({\n",
       "        start: function(event, ui) {\n",
       "            pass_mouse_events = false;\n",
       "        },\n",
       "        resize: function(event, ui) {\n",
       "            fig.request_resize(ui.size.width, ui.size.height);\n",
       "        },\n",
       "        stop: function(event, ui) {\n",
       "            pass_mouse_events = true;\n",
       "            fig.request_resize(ui.size.width, ui.size.height);\n",
       "        },\n",
       "    });\n",
       "\n",
       "    function mouse_event_fn(event) {\n",
       "        if (pass_mouse_events)\n",
       "            return fig.mouse_event(event, event['data']);\n",
       "    }\n",
       "\n",
       "    rubberband.mousedown('button_press', mouse_event_fn);\n",
       "    rubberband.mouseup('button_release', mouse_event_fn);\n",
       "    // Throttle sequential mouse events to 1 every 20ms.\n",
       "    rubberband.mousemove('motion_notify', mouse_event_fn);\n",
       "\n",
       "    rubberband.mouseenter('figure_enter', mouse_event_fn);\n",
       "    rubberband.mouseleave('figure_leave', mouse_event_fn);\n",
       "\n",
       "    canvas_div.on(\"wheel\", function (event) {\n",
       "        event = event.originalEvent;\n",
       "        event['data'] = 'scroll'\n",
       "        if (event.deltaY < 0) {\n",
       "            event.step = 1;\n",
       "        } else {\n",
       "            event.step = -1;\n",
       "        }\n",
       "        mouse_event_fn(event);\n",
       "    });\n",
       "\n",
       "    canvas_div.append(canvas);\n",
       "    canvas_div.append(rubberband);\n",
       "\n",
       "    this.rubberband = rubberband;\n",
       "    this.rubberband_canvas = rubberband[0];\n",
       "    this.rubberband_context = rubberband[0].getContext(\"2d\");\n",
       "    this.rubberband_context.strokeStyle = \"#000000\";\n",
       "\n",
       "    this._resize_canvas = function(width, height) {\n",
       "        // Keep the size of the canvas, canvas container, and rubber band\n",
       "        // canvas in synch.\n",
       "        canvas_div.css('width', width)\n",
       "        canvas_div.css('height', height)\n",
       "\n",
       "        canvas.attr('width', width * mpl.ratio);\n",
       "        canvas.attr('height', height * mpl.ratio);\n",
       "        canvas.attr('style', 'width: ' + width + 'px; height: ' + height + 'px;');\n",
       "\n",
       "        rubberband.attr('width', width);\n",
       "        rubberband.attr('height', height);\n",
       "    }\n",
       "\n",
       "    // Set the figure to an initial 600x600px, this will subsequently be updated\n",
       "    // upon first draw.\n",
       "    this._resize_canvas(600, 600);\n",
       "\n",
       "    // Disable right mouse context menu.\n",
       "    $(this.rubberband_canvas).bind(\"contextmenu\",function(e){\n",
       "        return false;\n",
       "    });\n",
       "\n",
       "    function set_focus () {\n",
       "        canvas.focus();\n",
       "        canvas_div.focus();\n",
       "    }\n",
       "\n",
       "    window.setTimeout(set_focus, 100);\n",
       "}\n",
       "\n",
       "mpl.figure.prototype._init_toolbar = function() {\n",
       "    var fig = this;\n",
       "\n",
       "    var nav_element = $('<div/>');\n",
       "    nav_element.attr('style', 'width: 100%');\n",
       "    this.root.append(nav_element);\n",
       "\n",
       "    // Define a callback function for later on.\n",
       "    function toolbar_event(event) {\n",
       "        return fig.toolbar_button_onclick(event['data']);\n",
       "    }\n",
       "    function toolbar_mouse_event(event) {\n",
       "        return fig.toolbar_button_onmouseover(event['data']);\n",
       "    }\n",
       "\n",
       "    for(var toolbar_ind in mpl.toolbar_items) {\n",
       "        var name = mpl.toolbar_items[toolbar_ind][0];\n",
       "        var tooltip = mpl.toolbar_items[toolbar_ind][1];\n",
       "        var image = mpl.toolbar_items[toolbar_ind][2];\n",
       "        var method_name = mpl.toolbar_items[toolbar_ind][3];\n",
       "\n",
       "        if (!name) {\n",
       "            // put a spacer in here.\n",
       "            continue;\n",
       "        }\n",
       "        var button = $('<button/>');\n",
       "        button.addClass('ui-button ui-widget ui-state-default ui-corner-all ' +\n",
       "                        'ui-button-icon-only');\n",
       "        button.attr('role', 'button');\n",
       "        button.attr('aria-disabled', 'false');\n",
       "        button.click(method_name, toolbar_event);\n",
       "        button.mouseover(tooltip, toolbar_mouse_event);\n",
       "\n",
       "        var icon_img = $('<span/>');\n",
       "        icon_img.addClass('ui-button-icon-primary ui-icon');\n",
       "        icon_img.addClass(image);\n",
       "        icon_img.addClass('ui-corner-all');\n",
       "\n",
       "        var tooltip_span = $('<span/>');\n",
       "        tooltip_span.addClass('ui-button-text');\n",
       "        tooltip_span.html(tooltip);\n",
       "\n",
       "        button.append(icon_img);\n",
       "        button.append(tooltip_span);\n",
       "\n",
       "        nav_element.append(button);\n",
       "    }\n",
       "\n",
       "    var fmt_picker_span = $('<span/>');\n",
       "\n",
       "    var fmt_picker = $('<select/>');\n",
       "    fmt_picker.addClass('mpl-toolbar-option ui-widget ui-widget-content');\n",
       "    fmt_picker_span.append(fmt_picker);\n",
       "    nav_element.append(fmt_picker_span);\n",
       "    this.format_dropdown = fmt_picker[0];\n",
       "\n",
       "    for (var ind in mpl.extensions) {\n",
       "        var fmt = mpl.extensions[ind];\n",
       "        var option = $(\n",
       "            '<option/>', {selected: fmt === mpl.default_extension}).html(fmt);\n",
       "        fmt_picker.append(option);\n",
       "    }\n",
       "\n",
       "    // Add hover states to the ui-buttons\n",
       "    $( \".ui-button\" ).hover(\n",
       "        function() { $(this).addClass(\"ui-state-hover\");},\n",
       "        function() { $(this).removeClass(\"ui-state-hover\");}\n",
       "    );\n",
       "\n",
       "    var status_bar = $('<span class=\"mpl-message\"/>');\n",
       "    nav_element.append(status_bar);\n",
       "    this.message = status_bar[0];\n",
       "}\n",
       "\n",
       "mpl.figure.prototype.request_resize = function(x_pixels, y_pixels) {\n",
       "    // Request matplotlib to resize the figure. Matplotlib will then trigger a resize in the client,\n",
       "    // which will in turn request a refresh of the image.\n",
       "    this.send_message('resize', {'width': x_pixels, 'height': y_pixels});\n",
       "}\n",
       "\n",
       "mpl.figure.prototype.send_message = function(type, properties) {\n",
       "    properties['type'] = type;\n",
       "    properties['figure_id'] = this.id;\n",
       "    this.ws.send(JSON.stringify(properties));\n",
       "}\n",
       "\n",
       "mpl.figure.prototype.send_draw_message = function() {\n",
       "    if (!this.waiting) {\n",
       "        this.waiting = true;\n",
       "        this.ws.send(JSON.stringify({type: \"draw\", figure_id: this.id}));\n",
       "    }\n",
       "}\n",
       "\n",
       "\n",
       "mpl.figure.prototype.handle_save = function(fig, msg) {\n",
       "    var format_dropdown = fig.format_dropdown;\n",
       "    var format = format_dropdown.options[format_dropdown.selectedIndex].value;\n",
       "    fig.ondownload(fig, format);\n",
       "}\n",
       "\n",
       "\n",
       "mpl.figure.prototype.handle_resize = function(fig, msg) {\n",
       "    var size = msg['size'];\n",
       "    if (size[0] != fig.canvas.width || size[1] != fig.canvas.height) {\n",
       "        fig._resize_canvas(size[0], size[1]);\n",
       "        fig.send_message(\"refresh\", {});\n",
       "    };\n",
       "}\n",
       "\n",
       "mpl.figure.prototype.handle_rubberband = function(fig, msg) {\n",
       "    var x0 = msg['x0'] / mpl.ratio;\n",
       "    var y0 = (fig.canvas.height - msg['y0']) / mpl.ratio;\n",
       "    var x1 = msg['x1'] / mpl.ratio;\n",
       "    var y1 = (fig.canvas.height - msg['y1']) / mpl.ratio;\n",
       "    x0 = Math.floor(x0) + 0.5;\n",
       "    y0 = Math.floor(y0) + 0.5;\n",
       "    x1 = Math.floor(x1) + 0.5;\n",
       "    y1 = Math.floor(y1) + 0.5;\n",
       "    var min_x = Math.min(x0, x1);\n",
       "    var min_y = Math.min(y0, y1);\n",
       "    var width = Math.abs(x1 - x0);\n",
       "    var height = Math.abs(y1 - y0);\n",
       "\n",
       "    fig.rubberband_context.clearRect(\n",
       "        0, 0, fig.canvas.width / mpl.ratio, fig.canvas.height / mpl.ratio);\n",
       "\n",
       "    fig.rubberband_context.strokeRect(min_x, min_y, width, height);\n",
       "}\n",
       "\n",
       "mpl.figure.prototype.handle_figure_label = function(fig, msg) {\n",
       "    // Updates the figure title.\n",
       "    fig.header.textContent = msg['label'];\n",
       "}\n",
       "\n",
       "mpl.figure.prototype.handle_cursor = function(fig, msg) {\n",
       "    var cursor = msg['cursor'];\n",
       "    switch(cursor)\n",
       "    {\n",
       "    case 0:\n",
       "        cursor = 'pointer';\n",
       "        break;\n",
       "    case 1:\n",
       "        cursor = 'default';\n",
       "        break;\n",
       "    case 2:\n",
       "        cursor = 'crosshair';\n",
       "        break;\n",
       "    case 3:\n",
       "        cursor = 'move';\n",
       "        break;\n",
       "    }\n",
       "    fig.rubberband_canvas.style.cursor = cursor;\n",
       "}\n",
       "\n",
       "mpl.figure.prototype.handle_message = function(fig, msg) {\n",
       "    fig.message.textContent = msg['message'];\n",
       "}\n",
       "\n",
       "mpl.figure.prototype.handle_draw = function(fig, msg) {\n",
       "    // Request the server to send over a new figure.\n",
       "    fig.send_draw_message();\n",
       "}\n",
       "\n",
       "mpl.figure.prototype.handle_image_mode = function(fig, msg) {\n",
       "    fig.image_mode = msg['mode'];\n",
       "}\n",
       "\n",
       "mpl.figure.prototype.updated_canvas_event = function() {\n",
       "    // Called whenever the canvas gets updated.\n",
       "    this.send_message(\"ack\", {});\n",
       "}\n",
       "\n",
       "// A function to construct a web socket function for onmessage handling.\n",
       "// Called in the figure constructor.\n",
       "mpl.figure.prototype._make_on_message_function = function(fig) {\n",
       "    return function socket_on_message(evt) {\n",
       "        if (evt.data instanceof Blob) {\n",
       "            /* FIXME: We get \"Resource interpreted as Image but\n",
       "             * transferred with MIME type text/plain:\" errors on\n",
       "             * Chrome.  But how to set the MIME type?  It doesn't seem\n",
       "             * to be part of the websocket stream */\n",
       "            evt.data.type = \"image/png\";\n",
       "\n",
       "            /* Free the memory for the previous frames */\n",
       "            if (fig.imageObj.src) {\n",
       "                (window.URL || window.webkitURL).revokeObjectURL(\n",
       "                    fig.imageObj.src);\n",
       "            }\n",
       "\n",
       "            fig.imageObj.src = (window.URL || window.webkitURL).createObjectURL(\n",
       "                evt.data);\n",
       "            fig.updated_canvas_event();\n",
       "            fig.waiting = false;\n",
       "            return;\n",
       "        }\n",
       "        else if (typeof evt.data === 'string' && evt.data.slice(0, 21) == \"data:image/png;base64\") {\n",
       "            fig.imageObj.src = evt.data;\n",
       "            fig.updated_canvas_event();\n",
       "            fig.waiting = false;\n",
       "            return;\n",
       "        }\n",
       "\n",
       "        var msg = JSON.parse(evt.data);\n",
       "        var msg_type = msg['type'];\n",
       "\n",
       "        // Call the  \"handle_{type}\" callback, which takes\n",
       "        // the figure and JSON message as its only arguments.\n",
       "        try {\n",
       "            var callback = fig[\"handle_\" + msg_type];\n",
       "        } catch (e) {\n",
       "            console.log(\"No handler for the '\" + msg_type + \"' message type: \", msg);\n",
       "            return;\n",
       "        }\n",
       "\n",
       "        if (callback) {\n",
       "            try {\n",
       "                // console.log(\"Handling '\" + msg_type + \"' message: \", msg);\n",
       "                callback(fig, msg);\n",
       "            } catch (e) {\n",
       "                console.log(\"Exception inside the 'handler_\" + msg_type + \"' callback:\", e, e.stack, msg);\n",
       "            }\n",
       "        }\n",
       "    };\n",
       "}\n",
       "\n",
       "// from http://stackoverflow.com/questions/1114465/getting-mouse-location-in-canvas\n",
       "mpl.findpos = function(e) {\n",
       "    //this section is from http://www.quirksmode.org/js/events_properties.html\n",
       "    var targ;\n",
       "    if (!e)\n",
       "        e = window.event;\n",
       "    if (e.target)\n",
       "        targ = e.target;\n",
       "    else if (e.srcElement)\n",
       "        targ = e.srcElement;\n",
       "    if (targ.nodeType == 3) // defeat Safari bug\n",
       "        targ = targ.parentNode;\n",
       "\n",
       "    // jQuery normalizes the pageX and pageY\n",
       "    // pageX,Y are the mouse positions relative to the document\n",
       "    // offset() returns the position of the element relative to the document\n",
       "    var x = e.pageX - $(targ).offset().left;\n",
       "    var y = e.pageY - $(targ).offset().top;\n",
       "\n",
       "    return {\"x\": x, \"y\": y};\n",
       "};\n",
       "\n",
       "/*\n",
       " * return a copy of an object with only non-object keys\n",
       " * we need this to avoid circular references\n",
       " * http://stackoverflow.com/a/24161582/3208463\n",
       " */\n",
       "function simpleKeys (original) {\n",
       "  return Object.keys(original).reduce(function (obj, key) {\n",
       "    if (typeof original[key] !== 'object')\n",
       "        obj[key] = original[key]\n",
       "    return obj;\n",
       "  }, {});\n",
       "}\n",
       "\n",
       "mpl.figure.prototype.mouse_event = function(event, name) {\n",
       "    var canvas_pos = mpl.findpos(event)\n",
       "\n",
       "    if (name === 'button_press')\n",
       "    {\n",
       "        this.canvas.focus();\n",
       "        this.canvas_div.focus();\n",
       "    }\n",
       "\n",
       "    var x = canvas_pos.x * mpl.ratio;\n",
       "    var y = canvas_pos.y * mpl.ratio;\n",
       "\n",
       "    this.send_message(name, {x: x, y: y, button: event.button,\n",
       "                             step: event.step,\n",
       "                             guiEvent: simpleKeys(event)});\n",
       "\n",
       "    /* This prevents the web browser from automatically changing to\n",
       "     * the text insertion cursor when the button is pressed.  We want\n",
       "     * to control all of the cursor setting manually through the\n",
       "     * 'cursor' event from matplotlib */\n",
       "    event.preventDefault();\n",
       "    return false;\n",
       "}\n",
       "\n",
       "mpl.figure.prototype._key_event_extra = function(event, name) {\n",
       "    // Handle any extra behaviour associated with a key event\n",
       "}\n",
       "\n",
       "mpl.figure.prototype.key_event = function(event, name) {\n",
       "\n",
       "    // Prevent repeat events\n",
       "    if (name == 'key_press')\n",
       "    {\n",
       "        if (event.which === this._key)\n",
       "            return;\n",
       "        else\n",
       "            this._key = event.which;\n",
       "    }\n",
       "    if (name == 'key_release')\n",
       "        this._key = null;\n",
       "\n",
       "    var value = '';\n",
       "    if (event.ctrlKey && event.which != 17)\n",
       "        value += \"ctrl+\";\n",
       "    if (event.altKey && event.which != 18)\n",
       "        value += \"alt+\";\n",
       "    if (event.shiftKey && event.which != 16)\n",
       "        value += \"shift+\";\n",
       "\n",
       "    value += 'k';\n",
       "    value += event.which.toString();\n",
       "\n",
       "    this._key_event_extra(event, name);\n",
       "\n",
       "    this.send_message(name, {key: value,\n",
       "                             guiEvent: simpleKeys(event)});\n",
       "    return false;\n",
       "}\n",
       "\n",
       "mpl.figure.prototype.toolbar_button_onclick = function(name) {\n",
       "    if (name == 'download') {\n",
       "        this.handle_save(this, null);\n",
       "    } else {\n",
       "        this.send_message(\"toolbar_button\", {name: name});\n",
       "    }\n",
       "};\n",
       "\n",
       "mpl.figure.prototype.toolbar_button_onmouseover = function(tooltip) {\n",
       "    this.message.textContent = tooltip;\n",
       "};\n",
       "mpl.toolbar_items = [[\"Home\", \"Reset original view\", \"fa fa-home icon-home\", \"home\"], [\"Back\", \"Back to previous view\", \"fa fa-arrow-left icon-arrow-left\", \"back\"], [\"Forward\", \"Forward to next view\", \"fa fa-arrow-right icon-arrow-right\", \"forward\"], [\"\", \"\", \"\", \"\"], [\"Pan\", \"Pan axes with left mouse, zoom with right\", \"fa fa-arrows icon-move\", \"pan\"], [\"Zoom\", \"Zoom to rectangle\", \"fa fa-square-o icon-check-empty\", \"zoom\"], [\"\", \"\", \"\", \"\"], [\"Download\", \"Download plot\", \"fa fa-floppy-o icon-save\", \"download\"]];\n",
       "\n",
       "mpl.extensions = [\"eps\", \"jpeg\", \"pdf\", \"png\", \"ps\", \"raw\", \"svg\", \"tif\"];\n",
       "\n",
       "mpl.default_extension = \"png\";var comm_websocket_adapter = function(comm) {\n",
       "    // Create a \"websocket\"-like object which calls the given IPython comm\n",
       "    // object with the appropriate methods. Currently this is a non binary\n",
       "    // socket, so there is still some room for performance tuning.\n",
       "    var ws = {};\n",
       "\n",
       "    ws.close = function() {\n",
       "        comm.close()\n",
       "    };\n",
       "    ws.send = function(m) {\n",
       "        //console.log('sending', m);\n",
       "        comm.send(m);\n",
       "    };\n",
       "    // Register the callback with on_msg.\n",
       "    comm.on_msg(function(msg) {\n",
       "        //console.log('receiving', msg['content']['data'], msg);\n",
       "        // Pass the mpl event to the overridden (by mpl) onmessage function.\n",
       "        ws.onmessage(msg['content']['data'])\n",
       "    });\n",
       "    return ws;\n",
       "}\n",
       "\n",
       "mpl.mpl_figure_comm = function(comm, msg) {\n",
       "    // This is the function which gets called when the mpl process\n",
       "    // starts-up an IPython Comm through the \"matplotlib\" channel.\n",
       "\n",
       "    var id = msg.content.data.id;\n",
       "    // Get hold of the div created by the display call when the Comm\n",
       "    // socket was opened in Python.\n",
       "    var element = $(\"#\" + id);\n",
       "    var ws_proxy = comm_websocket_adapter(comm)\n",
       "\n",
       "    function ondownload(figure, format) {\n",
       "        window.open(figure.imageObj.src);\n",
       "    }\n",
       "\n",
       "    var fig = new mpl.figure(id, ws_proxy,\n",
       "                           ondownload,\n",
       "                           element.get(0));\n",
       "\n",
       "    // Call onopen now - mpl needs it, as it is assuming we've passed it a real\n",
       "    // web socket which is closed, not our websocket->open comm proxy.\n",
       "    ws_proxy.onopen();\n",
       "\n",
       "    fig.parent_element = element.get(0);\n",
       "    fig.cell_info = mpl.find_output_cell(\"<div id='\" + id + \"'></div>\");\n",
       "    if (!fig.cell_info) {\n",
       "        console.error(\"Failed to find cell for figure\", id, fig);\n",
       "        return;\n",
       "    }\n",
       "\n",
       "    var output_index = fig.cell_info[2]\n",
       "    var cell = fig.cell_info[0];\n",
       "\n",
       "};\n",
       "\n",
       "mpl.figure.prototype.handle_close = function(fig, msg) {\n",
       "    var width = fig.canvas.width/mpl.ratio\n",
       "    fig.root.unbind('remove')\n",
       "\n",
       "    // Update the output cell to use the data from the current canvas.\n",
       "    fig.push_to_output();\n",
       "    var dataURL = fig.canvas.toDataURL();\n",
       "    // Re-enable the keyboard manager in IPython - without this line, in FF,\n",
       "    // the notebook keyboard shortcuts fail.\n",
       "    IPython.keyboard_manager.enable()\n",
       "    $(fig.parent_element).html('<img src=\"' + dataURL + '\" width=\"' + width + '\">');\n",
       "    fig.close_ws(fig, msg);\n",
       "}\n",
       "\n",
       "mpl.figure.prototype.close_ws = function(fig, msg){\n",
       "    fig.send_message('closing', msg);\n",
       "    // fig.ws.close()\n",
       "}\n",
       "\n",
       "mpl.figure.prototype.push_to_output = function(remove_interactive) {\n",
       "    // Turn the data on the canvas into data in the output cell.\n",
       "    var width = this.canvas.width/mpl.ratio\n",
       "    var dataURL = this.canvas.toDataURL();\n",
       "    this.cell_info[1]['text/html'] = '<img src=\"' + dataURL + '\" width=\"' + width + '\">';\n",
       "}\n",
       "\n",
       "mpl.figure.prototype.updated_canvas_event = function() {\n",
       "    // Tell IPython that the notebook contents must change.\n",
       "    IPython.notebook.set_dirty(true);\n",
       "    this.send_message(\"ack\", {});\n",
       "    var fig = this;\n",
       "    // Wait a second, then push the new image to the DOM so\n",
       "    // that it is saved nicely (might be nice to debounce this).\n",
       "    setTimeout(function () { fig.push_to_output() }, 1000);\n",
       "}\n",
       "\n",
       "mpl.figure.prototype._init_toolbar = function() {\n",
       "    var fig = this;\n",
       "\n",
       "    var nav_element = $('<div/>');\n",
       "    nav_element.attr('style', 'width: 100%');\n",
       "    this.root.append(nav_element);\n",
       "\n",
       "    // Define a callback function for later on.\n",
       "    function toolbar_event(event) {\n",
       "        return fig.toolbar_button_onclick(event['data']);\n",
       "    }\n",
       "    function toolbar_mouse_event(event) {\n",
       "        return fig.toolbar_button_onmouseover(event['data']);\n",
       "    }\n",
       "\n",
       "    for(var toolbar_ind in mpl.toolbar_items){\n",
       "        var name = mpl.toolbar_items[toolbar_ind][0];\n",
       "        var tooltip = mpl.toolbar_items[toolbar_ind][1];\n",
       "        var image = mpl.toolbar_items[toolbar_ind][2];\n",
       "        var method_name = mpl.toolbar_items[toolbar_ind][3];\n",
       "\n",
       "        if (!name) { continue; };\n",
       "\n",
       "        var button = $('<button class=\"btn btn-default\" href=\"#\" title=\"' + name + '\"><i class=\"fa ' + image + ' fa-lg\"></i></button>');\n",
       "        button.click(method_name, toolbar_event);\n",
       "        button.mouseover(tooltip, toolbar_mouse_event);\n",
       "        nav_element.append(button);\n",
       "    }\n",
       "\n",
       "    // Add the status bar.\n",
       "    var status_bar = $('<span class=\"mpl-message\" style=\"text-align:right; float: right;\"/>');\n",
       "    nav_element.append(status_bar);\n",
       "    this.message = status_bar[0];\n",
       "\n",
       "    // Add the close button to the window.\n",
       "    var buttongrp = $('<div class=\"btn-group inline pull-right\"></div>');\n",
       "    var button = $('<button class=\"btn btn-mini btn-primary\" href=\"#\" title=\"Stop Interaction\"><i class=\"fa fa-power-off icon-remove icon-large\"></i></button>');\n",
       "    button.click(function (evt) { fig.handle_close(fig, {}); } );\n",
       "    button.mouseover('Stop Interaction', toolbar_mouse_event);\n",
       "    buttongrp.append(button);\n",
       "    var titlebar = this.root.find($('.ui-dialog-titlebar'));\n",
       "    titlebar.prepend(buttongrp);\n",
       "}\n",
       "\n",
       "mpl.figure.prototype._root_extra_style = function(el){\n",
       "    var fig = this\n",
       "    el.on(\"remove\", function(){\n",
       "\tfig.close_ws(fig, {});\n",
       "    });\n",
       "}\n",
       "\n",
       "mpl.figure.prototype._canvas_extra_style = function(el){\n",
       "    // this is important to make the div 'focusable\n",
       "    el.attr('tabindex', 0)\n",
       "    // reach out to IPython and tell the keyboard manager to turn it's self\n",
       "    // off when our div gets focus\n",
       "\n",
       "    // location in version 3\n",
       "    if (IPython.notebook.keyboard_manager) {\n",
       "        IPython.notebook.keyboard_manager.register_events(el);\n",
       "    }\n",
       "    else {\n",
       "        // location in version 2\n",
       "        IPython.keyboard_manager.register_events(el);\n",
       "    }\n",
       "\n",
       "}\n",
       "\n",
       "mpl.figure.prototype._key_event_extra = function(event, name) {\n",
       "    var manager = IPython.notebook.keyboard_manager;\n",
       "    if (!manager)\n",
       "        manager = IPython.keyboard_manager;\n",
       "\n",
       "    // Check for shift+enter\n",
       "    if (event.shiftKey && event.which == 13) {\n",
       "        this.canvas_div.blur();\n",
       "        event.shiftKey = false;\n",
       "        // Send a \"J\" for go to next cell\n",
       "        event.which = 74;\n",
       "        event.keyCode = 74;\n",
       "        manager.command_mode();\n",
       "        manager.handle_keydown(event);\n",
       "    }\n",
       "}\n",
       "\n",
       "mpl.figure.prototype.handle_save = function(fig, msg) {\n",
       "    fig.ondownload(fig, null);\n",
       "}\n",
       "\n",
       "\n",
       "mpl.find_output_cell = function(html_output) {\n",
       "    // Return the cell and output element which can be found *uniquely* in the notebook.\n",
       "    // Note - this is a bit hacky, but it is done because the \"notebook_saving.Notebook\"\n",
       "    // IPython event is triggered only after the cells have been serialised, which for\n",
       "    // our purposes (turning an active figure into a static one), is too late.\n",
       "    var cells = IPython.notebook.get_cells();\n",
       "    var ncells = cells.length;\n",
       "    for (var i=0; i<ncells; i++) {\n",
       "        var cell = cells[i];\n",
       "        if (cell.cell_type === 'code'){\n",
       "            for (var j=0; j<cell.output_area.outputs.length; j++) {\n",
       "                var data = cell.output_area.outputs[j];\n",
       "                if (data.data) {\n",
       "                    // IPython >= 3 moved mimebundle to data attribute of output\n",
       "                    data = data.data;\n",
       "                }\n",
       "                if (data['text/html'] == html_output) {\n",
       "                    return [cell, data, j];\n",
       "                }\n",
       "            }\n",
       "        }\n",
       "    }\n",
       "}\n",
       "\n",
       "// Register the function which deals with the matplotlib target/channel.\n",
       "// The kernel may be null if the page has been refreshed.\n",
       "if (IPython.notebook.kernel != null) {\n",
       "    IPython.notebook.kernel.comm_manager.register_target('matplotlib', mpl.mpl_figure_comm);\n",
       "}\n"
      ],
      "text/plain": [
       "<IPython.core.display.Javascript object>"
      ]
     },
     "metadata": {},
     "output_type": "display_data"
    },
    {
     "data": {
      "text/html": [
       "<img src=\"data:image/png;base64,iVBORw0KGgoAAAANSUhEUgAAAyAAAAJYCAYAAACadoJwAAAgAElEQVR4XuzdB3hVRfrH8V9CCC303kNvinSp0kEERNG/orLg2nXVXUVZO6DuqqxdXF1XBSys2EVUijSl9x46ofceSCDt/5wTgqHm3szk5N6b73ken3WTOe/MfOb1eebNvedMWGpqaqq4EEAAAQQQQAABBBBAAAEPBMIoQDxQpgsEEEAAAQQQQAABBBBwBShASAQEEEAAAQQQQAABBBDwTIACxDNqOkIAAQQQQAABBBBAAAEKEHIAAQQQQAABBBBAAAEEPBOgAPGMmo4QQAABBBBAAAEEEECAAoQcQAABBBBAAAEEEEAAAc8EKEA8o6YjBBBAAAEEEEAAAQQQoAAhBxBAAAEEEEAAAQQQQMAzAQoQz6jpCAEEEEAAAQQQQAABBChAyAEEEEAAAQQQQAABBBDwTIACxDNqOkIAAQQQQAABBBBAAAEKEHIAAQQQQAABBBBAAAEEPBOgAPGMmo4QQAABBBBAAAEEEECAAoQcQAABBBBAAAEEEEAAAc8EKEA8o6YjBBBAAAEEEEAAAQQQoAAhBxBAAAEEEEAAAQQQQMAzAQoQz6jpCAEEEEAAAQQQQAABBChAyAEEEEAAAQQQQAABBBDwTIACxDNqOkIAAQQQQAABBBBAAAEKEHIAAQQQQAABBBBAAAEEPBOgAPGMmo4QQAABBBBAAAEEEECAAoQcQAABBBBAAAEEEEAAAc8EKEA8o6YjBBBAAAEEEEAAAQQQoAAhBxBAAAEEEEAAAQQQQMAzAQoQz6jpCAEEEEAAAQQQQAABBChAyAEEEEAAAQQQQAABBBDwTIACxDNqOkIAAQQQQAABBBBAAAEKEHIAAQQQQAABBBBAAAEEPBOgAPGMmo4QQAABBBBAAAEEEECAAoQcQAABBBBAAAEEEEAAAc8EKEA8o6YjBBBAAAEEEEAAAQQQoAAhBxBAAAEEEEAAAQQQQMAzAQoQz6jpCAEEEEAAAQQQQAABBChAyAEEEEAAAQQQQAABBBDwTIACxDNqOkIAAQQQQAABBBBAAAEKEHIAAQQQQAABBBBAAAEEPBOgAPGMmo4QQAABBBBAAAEEEECAAoQcQAABBBBAAAEEEEAAAc8EKEA8o6YjBBBAAAEEEEAAAQQQoAAhBxBAAAEEEEAAAQQQQMAzAQoQz6jpCAEEEEAAAQQQQAABBChAyAEEEEAAAQQQQAABBBDwTIACxDNqOkIAAQQQQAABBBBAAAEKEHIAAQQQQAABBBBAAAEEPBOgAPGMmo4QQAABBBBAAAEEEECAAoQcQAABBBBAAAEEEEAAAc8EKEA8o6YjBBBAAAEEEEAAAQQQoAAhBxBAAAEEEEAAAQQQQMAzAQoQz6jpCAEEEEAAAQQQQAABBChAyAEEEEAAAQQQQAABBBDwTIACxDNqOkIAAQQQQAABBBBAAAEKEHIAAQQQQAABBBBAAAEEPBOgAPGMmo4QQAABBBBAAAEEEECAAoQcQAABBBBAAAEEEEAAAc8EKEA8o6YjBBBAAAEEEEAAAQQQoAAhBxBAAAEEEEAAAQQQQMAzAQoQz6jpCAEEEEAAAQQQQAABBChAyAEEEEAAAQQQQAABBBDwTIACxDNqOkIAAQQQQAABBBBAAAEKEHIAAQQQQAABBBBAAAEEPBOgAPGMmo4QQAABBBBAAAEEEECAAoQcQAABBBBAAAEEEEAAAc8EKEA8o6YjBBBAAAEEEEAAAQQQoAAhBxBAAAEEEEAAAQQQQMAzAQoQz6jpCAEEEEAAAQQQQAABBChAyAEEEEAAAQQQQAABBBDwTIACxDNqOkIAAQQQQAABBBBAAAEKEHIAAQQQQAABBBBAAAEEPBOgAPGMmo4QQAABBBBAAAEEEECAAoQcQAABBBBAAAEEEEAAAc8EKEA8o868o/3792vixImKjo5WgQIFMr+BFggggAACCCCAAAKeCsTHxys2Nlbdu3dXqVKlPO07VDqjAAmglfz888/Vv3//ABoRQ0EAAQQQQAABBBC4kMBnn32m2267DZwsCFCAZAEtu26ZNWuW2rZtKyeh69Wrl13dEBcBBBBAAAEEEEAgiwIxMTHuH4xnzpypNm3aZDFK7r6NAiSA1n/x4sVq2rSpFi1apCZNmgTQyBgKAggggAACCCCAgCPAfs08DyhAzA2tRSChrVESCAEEEEAAAQQQyBYB9mvmrBQg5obWIpDQ1igJhAACCCCAAAIIZIsA+zVzVgoQc0NrEUhoa5QEQgABBBBAAAEEskWA/Zo5KwWIuaG1CCS0NUoCIYAAAggggAAC2SLAfs2clQLE3NBaBBLaGiWBEEAAAQQQQACBbBFgv2bOSgFibmgtAgltjZJACCCAAAIIIIBAtgiwXzNnpQAxN7QWgYS2RkkgBBBAAAEEEEAgWwTYr5mzUoCYG1qLQEJboyQQAggggAACCCCQLQLs18xZQ6oAWbhwoXuK+NSpU7V582YVKlRIDRo00JNPPqkuXbr4pLVy5UoNHjzYPd3SuZyTyYcPH67LLrvsvPv9aetL5yS0L0q0QQABBBBAAAEEck6A/Zq5fUgVIDfeeKNmzJihG264wT1JPC4uTiNHjpRTKPz73//W/ffff0mx9evXq3nz5ipRooQeeught+3bb7+tw4cPa/78+apVq9aZ+/1p6+sykdC+StEOAQQQQAABBBDIGQH2a+buIVWAzJo1S82aNVO+fPnOyMTHx6tRo0bat2+f9u7dq4iIiIuqOQXMhAkTFBMTo8qVK7vttm3bpnr16qlHjx766quvztzrT1tfl4mE9lWKdggggAACCCCAQM4IsF8zdw+pAuRiHIMGDdLrr7+urVu3nikszm3rfFpSsmRJ9evXT6NHjz7r1wMHDtTYsWO1f/9+RUVFuZ+s+NrWnyUiof3Roi0CCCCAAAIIIOC9APs1c/NcUYDccsst+vrrr92vUjnPhVzomjNnjlq3bq333ntP991331lNnJ898MADctq0bNnS/V9f2/qzRCS0P1q0RQABBBBAAAEEvBdgv2ZuHvIFiPN1KucrWL169dI333xzUTHnd87XqsaNG6fevXuf1c75WZ8+fdwixnm+xJ+2F+tw165dcv7JeDlj7d+/vxYtWuQ+w8KFAAIIIIAAAgggEFgCFCDm6xHSBciRI0fUqlUrd6O/bNkyValS5aJin376qQYMGKCJEyeqW7duZ7WbNGmSunfvLqeNUyD40/ZiHQ4dOlTDhg274K8pQMwTmwgIIIAAAggggEB2CFCAmKuGbAHiPHzuFA0LFixwHyxv3779JbX8+VTDn7Z8AmKepERAAAEEEEAAAQQCRYACxHwlQrIAOXXqlK699lr3PJBvv/3W/fpVZpc/z3X40zazfjP+noT2R4u2CCCAAAIIIICA9wLs18zNQ64ASUpKcp/l+PHHH/X555+7b7Xy5crszVZffPGFDhw44NNbsDK29aXv9DYktD9atEUAAQQQQAABBLwXYL9mbh5SBUhKSopuvfVW95W5H3zwge6+++4LCiUmJmrjxo0qWrSoypcvf6aN84C58wzImjVrVKlSJffn6eeAOF/nyvgQuz9tfV0mEtpXKdohgAACCCCAAAI5I8B+zdw9pAqQRx99VG+88Yb7vMddd911nk7Xrl1VtmxZxcbGqlq1anLO9xg1atSZdmvXrlWLFi3cMz4efvhh9+fOSejOJx/OSeh16tTJUltfl4mE9lWKdgggEEwCY+Zt9Wm4t1558ReF+BSARggggIAHAuzXzJFDqgDp0KGDZsyYcVGVadOmyWlzsQLEuXH58uUaPHiwnFPVnatt27Z65ZVX1LBhw/Pi+tPWl6UioX1Rog0CCASbAAVIsK0Y40UAgUsJsF8zz4+QKkDMOXI2Agmds/70jgACmQts2HtMn8zZogNxpxSVL0KF8kUoKn+EihfMq/rli+iyikXdn2W8KEAyd6UFAggEjwD7NfO1ogAxN7QWgYS2RkkgBBDIosDFioW9RxM0de1erdh+RKmXiB0eJtUuW1hXVCqmWmWjVKFYAa3ccURFC+R1C5awsLCL3s1XsLK4aNyGAAKeCrBfM+emADE3tBaBhLZGSSAEEMiiwLkFyOETpzRh1e7zCo+8ecKUmHypUuT8AeTPG6565Yro8opFVbNMlCLyhJ/ViAIki4vGbQgg4KkA+zVzbgoQc0NrEUhoa5QEQgCBLApkLECOJSTqvekbdTg+8Uy0qiUKqnO9sqpRupD7SUhiUooSklJ0ND5R2w+d0PZD8dp2KF77405ecgTpxUi7WqVVrmh+ty0FSBYXjdsQQMBTAfZr5twUIOaG1iKQ0NYoCYQAAlkUSC9AEpNT9NHMzdp68IQbqUqJgupyuvC41Neo0rtNSEzWoROndOREog7FJ8r5JCV2/3G3OMl45YsI193tqrtf1aIAyeKicRsCCHgqwH7NnJsCxNzQWgQS2holgRBAIIsCTgGSmpqqrxZt19Jth90o1UsX0p9bV1Me5wEPw8spSpxnQlbsOOJ+WuJchfNF6N72NfRgp5qG0bkdAQQQyH4B9mvmxhQg5obWIpDQ1igJhAACWRRwCpDpa/dq0uo9boSShSJ1f4caKhh59putshj+zG1OkTN++S7N2XTgTD+TH22vEoUiTUNzPwIIIJCtAuzXzHkpQMwNrUUgoa1REggBBLIo8NS3KzRmftrBgc5zGve3r6nShfNlMdqlb0tJTdUX87dq5c6jbsNGlYtpzN1XWi92smXwBEUAgVwrwH7NfOkpQMwNrUUgoa1REggBBLIgsOXAcXV5fYb7divn21YDW0erVpnCWYjk+y3OsyajZsdq8/7j7k0d65TWfwc0O+8NWb5HpCUCCCCQvQLs18x9KUDMDa1FIKGtURIIAQSyIPDQ/5box2U73Tt7X1FBraqXzEIU/2+JP5WsD37fqD1H096cNezaBm7xw4UAAggEogD7NfNVoQAxN7QWgYS2RkkgBBDwU8A5YLD3iJnuXc6rdu+5qvolDw30M3ymzY/EJ+rf0zfoWEKSyhXJrxmDOyhfRJ5M76MBAggg4LUA+zVzcQoQc0NrEUhoa5QEQgABPwX6fzhPMzfsd++696rqqlqykJ8RzJvvPpqgt6esdwP94/rLdNuVVc2DEgEBBBCwLMB+zRyUAsTc0FoEEtoaJYEQQMAPgd/X79OfPprv3lGvfBH9qWXObPyvubyc2r4yTXEnk1SxWAFNf7yD8p5zWrof06IpAgggkC0C7NfMWSlAzA2tRSChrVESCAEEfBRISUl1v3q1audR98HzhzrVUtkiaSeTe305BxH+a+IavTtto9v18Bsa6qbmlb0eBv0hgAAClxRgv2aeIBQg5obWIpDQ1igJhAACPgr8sHSH/vrFUrf1Tc0qqVHl4j7eab+ZU4AcPH5KbV+ZqhOnkt3T16cOas8bsexTExEBBAwE2K8Z4J2+lQLE3NBaBBLaGiWBEEDAB4FTSSnq/Pp0bTsYr3wR4Zr2WAdNX7vPhzuzp4lTgDjXSz/H6D+/bXL//bX/u0I3NK2UPR0SFQEEEMiCAPu1LKCdcwsFiLmhtQgktDVKAiGAgA8Co2fHasi4VW7Le9tX15M96sk5CT2nrvQCZN+xk2o3fKoSElNUvVQhOSek53G+H8aFAAIIBIAA+zXzRaAAMTe0FoGEtkZJIAQQyEQgOSVVVw2fph2H41Ukf4R+H9xJRQvmDYgCxBn6C+NX66OZm91ZvNWvkfo0qsiaIoAAAgEhwH7NfBkoQMwNrUUgoa1REggBBDIRmLx6j+7+ZKHb6oEONTT46rruvwfCJyDOOPYeTVDb4dPkfE2sbrnC+uWv7Tw9l4QEQgABBC4mwH7NPDcoQMwNrUUgoa1REggBBDIR+NNH8/T7+v3um69+/3sn97W3OV2AnDvk75bs0ILYg2eKpErFC55pkv51LRYaAQQQ8FqA/Zq5OAWIuaG1CCS0NUoCIYDAJQQ27I1Tl9dnuC26Nyir//yp2ZnWOfkJyLlD3nEoXu9O3+D+uHl0cV3f+I+H0SlASHEEEMgpAfZr5vIUIOaG1iKQ0NYoCYQAAucIZCwsfly2U3M2HXBb3Nm2mmqUjgpIr9TUVI2YtkG7jiQoMiJcT/aoq3wRedyxUoAE5JIxKARyhQD7NfNlpgAxN7QWgYS2RkkgBBC4SAFyMjFZL09Yo5NJKSpTOJ/+2rlWQD9bMXfTAY1bttOdTd/GFdUsugQFCNmNAAI5KsB+zZyfAsTc0FoEEtoaJYEQQOAiBYjzyYfzCYhzXXtFBbWsXjKgreJPJeulX2KUlJKqysUL6P4ONSlAAnrFGBwCoS/Afs18jSlAzA2tRSChrVESCAEELlCAOF9pevPX9doXd9I9ePCJDF9pCmSwrxZu05Jth90hPty5lsoVyc9XsAJ5wRgbAiEuwH7NfIEpQMwNrUUgoa1REggBBC5QgDgPn388K+1sjVY1Sqp3wwpB4bR5/3H99/e0k9Fb1yipXg0rUIAExcoxSARCU4D9mvm6UoCYG1qLQEJboyQQAghcoAD5bO4Wrd511P3No11qq1ThfEHh5Hxy88av67U/7qQK5M3jfnIzsHV0UIydQSKAQOgJsF8zX1MKEHNDaxFIaGuUBEIAgXME3pu+UcMnrFGqpFplovTnNtWCyuj39fv0y8rd7phvblZZr9zYMKjGz2ARQCB0BNivma8lBYi5obUIJLQ1SgIhgMA5Avd+ukgTV6Vt4PtfWUX1KxQNKqO4k0l6+ZcYpaRK1UsX0tRBHYJq/AwWAQRCR4D9mvlaUoCYG1qLQEJboyQQAghkEHC+wnTlP6do77GTKhiZ9hWmiPDwoDP6fN4WrdqZ9hWyGY93UNWShYJuDgwYAQSCX4D9mvkaUoCYG1qLQEJboyQQAghkEFi544h6vTPT/Ynz2l3n9bvBeK3bc0yjZse6Q3+gQw0NvrpuME6DMSOAQJALsF8zX0AKEHNDaxFIaGuUBEIAgQwCw35cpZGz0jbu97evocolCgalT0pqql6duFaH4xNVunA+zXmikyLyBN8nOUGJz6ARQOCMAPs182SgADE3tBaBhLZGSSAEEDgtkJicolYvTdH+uFMqFZVPj3QJ7JPPM1u4KWv2aErMXrfZB39qqm4NymV2C79HAAEErAqwXzPnpAAxN7QWgYS2RkkgBBA4LTB1zR7dMWqh+/+61i+rjnXKBLXN4ROn9K+Ja923eXWuW0Yf3d48qOfD4BFAIPgE2K+ZrxkFiLmhtQgktDVKAiGAwGmBB8cs1vjlu9z/93j3OipeMDLobUbPjtXaPccUHibNeqKTyhctEPRzYgIIIBA8AuzXzNeKAsTc0FoEEtoaJYEQQEDS0YRENXvxV51KSlG1UoV0d7vqIeGyaucRfT5vqzuXQV1r66HOtUJiXkwCAQSCQ4D9mvk6UYCYG1qLQEJboyQQAghIGrtgq/7+zQrXom/jimoWXSIkXJJTUvXWlLST0SsVL6DfHu+ocOfjEC4EEEDAAwH2a+bIFCDmhtYikNDWKAmEAAKSbvrPHM3ffFD5IsL196vrKn/ePCHjsvXgCb0/Y6M7n0/vbKF2tUqHzNyYCAIIBLYA+zXz9aEAMTe0FoGEtkZJIARyvcC2gyfUbvg016H3FRXUqnrJkDJpVaOkOr463Z1Tz4bl9e6tTUJqfkwGAQQCV4D9mvnaUICYG1qLQEJboyQQArleYMTU9Xp10jrXYeTtzbXrSEJImdx6ZRX1+2CO5m46qLx5wjT3yc4qGZUvpObIZBBAIDAF2K+ZrwsFiLmhtQgktDVKAiGQ6wV6vPW7YnYdVclCkZr3VGd9uXB7SJk4Bcj3S3bob2OXuvN6+pp6uvuq0HjIPqQWiskgEIIC7NfMF5UCxNzQWgQS2holgRDI1QKx+4+rw+mvJ93SorJe6ttQY06/NSpUYJwCJCExWS3+8auOJiSpTtnCmvC3dgoL42H0UFlj5oFAoAqwXzNfGQoQc0NrEUhoa5QEQiBXC7w3faNembDGNRh9Rwu1r1065AqQ9AX+YekOzdt80P2/D3asqQrFzj4TxClUuBBAAAGbAuzXzDVDqgCJi4vTq6++qkWLFmnhwoXavXu3Bg4cqFGjRmUqFRsbq2rVql20XUREhBITE8/8/vbbb9fo0aMv2H7btm2qVKlSpn2e24CE9puMGxBA4AICfUbM1LLtR1Qkf4QWPtNVkRHhIVuAZHwbVpsaJdWzYYWzRChA+E8EAQRsC7BfMxcNqQIkvYgoX768mjZtqvHjx/tcgBw/flzffffdeaJOMfHUU0+pd+/eGjdu3HkFiFOEhIeHn3Vf3759VbBgQb9Xh4T2m4wbEEDgHIEdh+PV5uWp7k/7Nqmo129q5P57qH0FK33aqampen3yOh04fkqF8kXoiavrKk+GM0EoQPhPBAEEbAuwXzMXDakC5OTJk9q/f78qVqyopKQk5c2b1+cC5GKUL774op599ll98803cgqL9Cv9ExDnUxHn0xEbFwltQ5EYCORugY9mbtYL41e7CB8OaKYu9cuGdAHiTG7qmj36NWavO8+BraqqTrkiZ5KAAiR3//fA7BHIDgH2a+aqIVWAZOSwVYDUrl1bBw8e1M6dOxUZGXleAXLq1CnFx8crKirqvE9C/F0eEtpfMdojgMC5Av/3/mwtiD2kQpF5tOjZrmcOHwzVT0Cc+R88fkqvTlrrUjSsVFT9mv/x3AcFCP+NIICAbQH2a+aiFCCXMJw9e7batGmjBx98UO+8885ZLdM/ASlcuLCOHTumAgUKqEePHho+fLhq1KiRpZUhobPExk0IIHBaYO/RBF350hSlpqYdPvjOLY3P2IRyAeJM8oPfNin2wHFFhIfpqWvqnSm8KED4zwMBBGwLsF8zF6UAuYThvffeqw8++EALFixQs2bNzmr5xBNPuA+lO8+a5MuXT3PnznWLFKcgcR6Ar1q16iVXZ9euXXL+yXjFxMSof//+7kP0TZpwqq95ehMBgdAWOLeomLvpgMYt2+lO+pYWVXR5xaKhDZBhdgtjD+rbJTvcn/RtXFHNoku4/04BkmtSgIki4JkABYg5NQXIRQyd50nKlSvnPk+ycuVKn6QnT56sbt26+fTcydChQzVs2LALxqUA8YmbRgjkeoFzC5APZ27Spn3H3ZPBn76mvvv2q9xyOWeC/PPnGCWlpKpaqUK6u13aoYQUILklA5gnAt4JUICYW1OAXMTwyy+/1M033+x+perxxx/3Wdr5RMT5ZMN5ZuRSF5+A+ExKQwQQuIhAxgLk+MkkvfRLjFJSpfrli6h/y0t/ChuKqP+bv1Urdhxxp/Z4tzoqXiiSAiQUF5o5IZDDAhQg5gtAAXIRw549e2rixIlyXsPrvNbX18t5U5bz+l/n4XR/LxLaXzHaI5C7BTIWIBm/gnRTs0pqVLl4rsNZu/uoRs/Z4s67S72y6lS3DAVIrssCJoxA9guwXzM3pgC5gKFzgKFzkKDzdaqff/7ZL+WGDRvq0KFDbuHi70VC+ytGewRyt0DGAmTU7M1atyfOPQPj6QwPYecmoeSUVL08YY2cT4NKRUXqkS61dVsu/CQoN605c0UgJwTYr5mr58oCxHl4fOPGjSpatOgFP9147bXX9Nhjj2ns2LG66aabzlN2Di10zv5wHj7PeDnt+/XrJ+fh9ffff9/v1SGh/SbjBgRytUB6AeI8//CPn2KUnJqqOmULa2Dr6Fzr8tPynZq18YA7/wc61NDgq+vmWgsmjgAC2SPAfs3cNeQKkBEjRujw4cNKSUnRkCFD1Lhx4zMHCF577bVyPqFIPzF94MCBGjVq1HmKThvnEwznk5Bziwyn8dKlS+V8Reu6665TrVq13PNB5syZozFjxqhy5cqaN2+eypZNO/zLn4uE9keLtgggkF6AOM89OM8/ONf1jSqqebW0N0DlxmvbwRN6b8ZGd+rta5fW6Dta5EYG5owAAtkowH7NHDfkCpDo6Ght2ZL2HeBzr5EjR8o5v+NSBciSJUvcV+Ded999eu+99y4YxylMBg0a5L6e13nY3PlExSk8evfuraefflqlSpXK0sqQ0Fli4yYEcq1AegHy9aLtWrz1kOvwxNV1VaRA3lxrkpqaquET1+pIfKJKForUwme6KCwsLNd6MHEEELAvwH7N3DTkChBzkpyLQELnnD09IxCMAk4BkpKaqpd+SXvuoUKx/HqwY61gnIrVMY9fvlOzT38Na8Lf2qluuSJW4xMMAQRytwD7NfP1pwAxN7QWgYS2RkkgBHKFgFOAZPzKUcc6ZdS1vv9f/ww1rM37j+u/v29yp/Vw51p6tGvtUJsi80EAgRwUYL9mjk8BYm5oLQIJbY2SQAjkCgGnAJm8eo+mrd3rzvf+9jVUuUTBXDH3S03S+VTolV/W6NjJJNUuG6VJj7TP9SYAIICAPQH2a+aWFCDmhtYikNDWKAmEQK4QcAqQEdPWa+fhBBXKF6Ene9RVOM87uGv/w9Idmrf5oPvvvz7aXjXLROWKnGCSCCCQ/QLs18yNKUDMDa1FIKGtURIIgVwh8P70je65F87VpEpx3di0Uq6Yty+T3LgvTh/N3Ow2faxbbT3YiWdjfHGjDQIIZC7Afi1zo8xaUIBkJuTh70loD7HpCoEQEHhk7FJ9t2SHO5NbW1TRZRWLhsCs7EzBOZTwpV9idOJUshpUKKKfHm5nJzBREEAg1wuwXzNPAQoQc0NrEUhoa5QEQiBXCPR463fF7DqqPGFherpnPeXPmydXzNvXSX67eLsWbkl7PfFvj3dUlZI8H+OrHe0QQODiAuzXzLODAsTc0FoEEtoaJYEQCHkB5/TzhkMn6VRyimqULqQ721YP+Tn7O8F1e45p1OxY9zbn+Zh729fwNwTtEUAAgfME2K+ZJwUFiLmhtQgktDVKAiEQ8gIz1u3TwI/nu/O85vLyalszaweghjJUUkqK/jVxrY4lJKlR5WL6/i9tQnm6zBER9+cAACAASURBVA0BBDwSYL9mDk0BYm5oLQIJbY2SQAiEvMDQcavO/HXfOeeiVFS+kJ9zVia4MPagvj39nMzsJzqpQrECWQnDPQgggMAZAfZr5slAAWJuaC0CCW2NkkAIhLRAamqqrvrXNG07GK+ShSI1qFudkJ6vyeRKF86nuz9Z6IZ4rld93dG2mkk47kUAAQTEfs08CShAzA2tRSChrVESCIGQFli/55i6vvGbO8c2NUqqZ8MKIT1fk8n1bVJRTV6Y7L4Nq1X1kvrfPS1NwnEvAgggQAFiIQcoQCwg2gpBAWJLkjgIhLbAB79t1D9/Tjv/44421Thk7xLLfeuVVXTvpws1cdUeRYSHadGzXVW0QN7QThBmhwAC2SrAfs2clwLE3NBaBBLaGiWBEAhpgQEfz9dv6/Ypb54wPdurviLCw0N6viaTcwqQLxdu0+Cvl7th3r6lsa69gk+MTEy5F4HcLsB+zTwDKEDMDa1FIKGtURIIgZAVOJmUrEbDJis+MVm1y0bp9tY803CpxXYKkP1xJ9X8H78qNVXq06iC3urXOGTzg4khgED2C7BfMzemADE3tBaBhLZGSSAEQlZg7qYD6vfBXHd+PS4rp3a1SofsXG1MzClAnOv6f8/Skq2H3a9fLXqmiyLy8KmRDV9iIJAbBdivma86BYi5obUIJLQ1SgIhELICr01aq3embnDn91CnmipflNfKXmqx0wuQd6dtcM8Eca4v7mmpltVLhmyOMDEEEMheAfZr5r4UIOaG1iKQ0NYoCYRAyAqk/yXfef3uI11rKzwsLGTnamNi6QXImt1HdfWbv7sh725XTU/3rG8jPDEQQCAXCrBfM190ChBzQ2sRSGhrlARCICQFjiYkqvHzk5WckqpeDcurdQ1OP89sodMLEOfslLavTNOOw/GqXqqQpj7WIbNb+T0CCCBwQQH2a+aJQQFibmgtAgltjZJACISkwOTVe84cqvdy38uVkhqS07Q6qfQCxAk65IeVGj1nixt/yqD2qlE6ympfBEMAgdwhwH7NfJ0pQMwNrUUgoa1REgiBkBQYOm6VRs2Odef2++CO+n39/pCcp81JZSxAnFcXO68wdq6nrqmre66qYbMrYiGAQC4RYL9mvtAUIOaG1iKQ0NYoCYRASAp0eX2GNuyNU9WSBTXj8Y4aM29rSM7T5qQyFiDOK4ybPD9Zx08lq0W1Evry3lY2uyIWAgjkEgH2a+YLTQFibmgtAgltjZJACIScwJ6jCbryn1Pced3Soope6ns5BYgPq5yxAHGa3//ZIv2ycrfyOKeiP9NFxQpG+hCFJggggMAfAuzXzLOBAsTc0FoEEtoaJYEQCDmBbxdv16NfLnPn9e6tTdSzYXkKkCys8uIth/T14u3unTc1q6RGlYufiXJusZKF8NyCAAK5QID9mvkiU4CYG1qLQEJboyQQAiEn8OiXS/Xt4h1y3rq76JmuKlEokgIkC6scdzJJL/0cI+f5/csrFnU/TUq/KECyAMotCORCAfZr5otOAWJuaC0CCW2NkkAIhJSA8wrZli9N0Z6jJ3VZxSIa/1A7d348A5K1ZX5/xkZtPXhC+fOG6+lr6rtfx3IuCpCseXIXArlNgP2a+YpTgJgbWotAQlujJBACISXgPHjuPIDuXPdeVV1PXlOPAsRghaev3atJq/e4Ee5pV13RpQpRgBh4cisCuU2A/Zr5ilOAmBtai0BCW6MkEAJBLXDuJxtzNu7Xj8t3uXP6c+to1SpbOKjnl9ODdw4jfHfaBncYHeuUUdf6ZSlAcnpR6B+BIBJgv2a+WBQg5obWIpDQ1igJhEBQC5xbgHw6d4tidh11vyr0bM/6iowID+r55fTgU1JT3edAnNfxVipeQA90qEkBktOLQv8IBJEA+zXzxaIAMTe0FoGEtkZJIASCWiBjAeJsll/8abUSElNUrVQh3d2uelDPLVAGP3bBVi3bfkTO0x9P96yngpERPAMSKIvDOBAIcAH2a+YLRAFibmgtAgltjZJACAS1QMYCZO/RBL05Zb07n4xfFwrqCQbA4DO+jrdf88pqWKkYBUgArAtDQCAYBNivma8SBYi5obUIJLQ1SgIhENQCGQuQhbEH9e2SHe58BraqqjrligT13AJl8EcTEvXyL2vc4TSrWlx9m1SiAAmUxWEcCAS4APs18wWiADE3tBaBhLZGSSAEglogYwHiHEC4cMshdz7PnP6qUFBPLoAG//aU9dp9NEFFC+TV4O51dFvLqgE0OoaCAAKBKsB+zXxlKEDMDa1FIKGtURIIgaAWyFiAvPnrOu09dlKlovLp0a61g3pegTb4X1bs0u8b9rvD+lvnWvobvoG2RIwHgYAUYL9mviwUIOaG1iKQ0NYoCYRAUAukFyAJicl6Yfxq99TuJlWK68amlYJ6XoE2+PV7j2nkrFh3WD0vL693b2sSaENkPAggEIAC7NfMF4UCxNzQWgQS2holgRAIaoH0AiTjBvm6RhXVolqJoJ5XoA0+MTnFfcNYYnKqapeN0qRH2gfaEBkPAggEoAD7NfNFoQAxN7QWgYS2RkkgBIJaIL0AmbJmj6bE7HXn8nCnWipXNH9QzysQBz9q9mat2xOnvHnCtHJYd+WLyBOIw2RMCCAQQALs18wXgwLE3NBaBBLaGiWBEAhqgfQCJH1znC8iXM/2qq/wMOfUCi6bAjM37NfPK9JOmf/8rivVpmYpm+GJhQACISjAfs18USlAzA2tRSChrVESCIGgFnAKkIwHENYoXUh3tuUAwuxY1D1HE/TW6XNW7m1fXU/2qJcd3RATAQRCSID9mvliUoCYG1qLQEJboyQQAkEt4BQgZx9AWFpd65cL6jkF6uBTU1P1yoQ1OpqQpHrli+iXv7YL1KEyLgQQCBAB9mvmC0EBYm5oLQIJbY2SQAgEtYBTgHAAoXdL+M3i7Vp0+qyV+U93VpnCPGvjnT49IRB8AuzXzNeMAsTc0FoEEtoaJYEQCGoBpwD5bsl2LYjlAEIvFnL59sP6YsE2t6vXb7rCPRWdCwEEELiYAPs189ygADE3tBaBhLZGSSAEglrAKUDemrJOe45yAKEXC3niZJJe/DnG7ermZpX1yo0NveiWPhBAIEgF2K+ZL1xIFSBxcXF69dVXtWjRIi1cuFC7d+/WwIEDNWrUKJ+kbr/9do0ePfqCbbdt26ZKlc7+q9jKlSs1ePBgzZw5072nbdu2Gj58uC677DKf+ju3EQmdJTZuQiDkBD6euTnDAYTFdGPTyiE3x0CbUPqJ89VKFdK0xzoE2vAYDwIIBJAA+zXzxQipAiQ2NlbVqlVT+fLl1bRpU40fPz5LBYhThISHh5+l27dvXxUsWPDMz9avX6/mzZurRIkSeuihh9yfv/322zp8+LDmz5+vWrVq+b06JLTfZNyAQEgKDPtx1ZkTuvs0qqArq5UMyXkG0qR+WLpD8zYfdIfEcyCBtDKMBYHAE2C/Zr4mIVWAnDx5Uvv371fFihWVlJSkvHnzZqkASUxMVERExCV1b7zxRk2YMEExMTGqXDntr5POpyT16tVTjx499NVXX/m9OiS032TcgEBICtw5esGZAwgf6lRT5YsWCMl5BtKklm0/rLGnnwN599Ym6tmwfCANj7EggEAACbBfM1+MkCpAMnKYFCCnTp1SfHy8oqKizvskxOnD+apXyZIl1a9fv/O+suV85Wvs2LFuIeTc789FQvujRVsEQleg2xsz3NO5OYDQuzU+Ep/ovo7XuQa2qqphfbL2VVrvRkxPCCCQUwLs18zlKUAyGKY/A1K4cGEdO3ZMBQoUcD/NcJ7rqFGjxpmWc+bMUevWrfXee+/pvvvuO2sVnJ898MADctq0bNnSrxUiof3iojECISmQkpKqBkMmKj4xWRxA6O0Svz9jo7YePKG65Qprwt+u8rZzekMAgaARYL9mvlQUIBkMn3jiCTlfv3KeH8mXL5/mzp2rd955R05B4jzUXrVqVbf1N998I+crWOPGjVPv3r3PWgXnZ3369NHXX3+tG2644aIrtGvXLjn/ZLycr3P179/ffYi+SZMm5qtLBAQQCDqBDXvj1OX1Ge64O9QprW4cQOjZGi7eekhfL9qusDBp6bPdVLRgXs/6piMEEAgeAQoQ87WiAMnEcPLkyerWrdtZz5J8+umnGjBggCZOnOj+LuM1adIkde/eXU4bp5i42DV06FANGzbsgr+mADFPbCIgEKwCzgb4sa+WucMf0Kqq6pYrEqxTCbpxR4SHafA3y91xfzSwmTrXKxt0c2DACCCQ/QIUIObGFCA+GDqfiDifVuzcudNtzScgPqDRBAEEsiSQ8Q1YT/aoq8L5+St8liCzcFPrGiXV4dXp7p33tq+uJ3vUy0IUbkEAgVAXoAAxX2EKEB8MnVfwOq/0dR5Ody6eAfEBjSYIIJAlgZven6P5sQdVOH8EG+AsCWb9pltaVFaLf07RvmMn1bhKMX33QJusB+NOBBAIWQEKEPOlpQDxwbBhw4Y6dOiQ+5pd58rsLVhffPGFDhw4wFuwfLClCQII/CHgPIDecNgkxZ1MUp2yhTWwdTQ8HgrcemUV/WXMYv20fJecr2MtH9pNBSMv/Up2D4dHVwggECACFCDmC5ErCxDnQfONGzeqaNGi7qGFznX8+HH37A/n4fOMl/NKXed1u/fee6/ef//9M79yHjB3ngFZs2bNmRPS088BcZ4Bcb6m5e9FQvsrRnsEQktg8/7j6nj6K0Ad65RWVx5A93SBnQLkkzmxeu6HVW6/Y+66Uq1rlvJ0DHSGAAKBL8B+zXyNQq4AGTFihHsaeUpKioYMGaLGjRvL+QqVc1177bVyPs1IPzHdObNj1KhR7u+WLl2qnj176rrrrnNPMY+MjHS/ajVmzBj3oMF58+apbNk/Hkhcu3atWrRo4Z4H8vDDD7sxnJPQnU8+nJPQ69Sp4/fqkNB+k3EDAiElMH75Tj04Zok7p9uurKIGFYqG1PwCfTJOARKz66h6vPW7O9S/dq6lR7rWDvRhMz4EEPBYgP2aOXjIFSDR0dHasmXLBWVGjhwp56yPCxUgu3fv1qBBg7RgwQL3YXPnUxKn8HBes/v000+rVKnz/wq2fPlyDR48WLNmzXL7a9u2rV555RW3yMnKRUJnRY17EAgdgZd/WSPnLArnerxbHRUvFBk6kwuCmTgFiPM1uEbPT9LRhCS1ql5S/7vHv/OcgmCaDBEBBAwF2K8ZAkoKuQLEnCTnIpDQOWdPzwgEgsCfPpqn39fvV4G8efRMz3oKcw6k4PJMwClAnOuu0Qv0a8xe5c8bruVDuisyItyzMdARAggEvgD7NfM1ogAxN7QWgYS2RkkgBIJOIDU1VU1f/FUHj59S9dKFdFfb6kE3h2AfcHoB8p8ZG/XSL2vc6Xxzf2s1rVo82KfG+BFAwKIA+zVzTAoQc0NrEUhoa5QEQiDoBHYdiVerl6a6425Xs5R6XJ72ggwu7wTSC5AlWw/p+n/Pdjv++9V1dX+HGt4Ngp4QQCDgBdivmS8RBYi5obUIJLQ1SgIhEHQCk1fv0d2fLHTHfVOzympUuVjQzSHYB5xegCQmp6jh0EmKT0xWp7pl9PHtzYN9aowfAQQsCrBfM8ekADE3tBaBhLZGSSAEgk7gzV/X6c1f17vj/luXWipTOH/QzSHYB5xegDjzuO3DuZq14YB7IOSy57opPJzncYJ9fRk/ArYE2K+ZS1KAmBtai0BCW6MkEAJBJ3DX6IX6NWaP+wD60z3rKZwH0D1fw4wFyOuT1urtqRvcMUx+5CrVKlvY8/HQIQIIBKYA+zXzdaEAMTe0FoGEtkZJIASCTqD1S1O080iC+8DzDU0qBd34Q23Aa3cf0+g5se60+jauqGbRJc5MMWOhEmrzZj4IIJC5APu1zI0ya0EBkpmQh78noT3EpisEAkjAefNVkxcmuyMa0Kqq6pYrEkCjy51DiT+VrBd+Wu1OvlnV4uqboSikAMmdOcGsEUgXYL9mngsUIOaG1iKQ0NYoCYRAUAn8vn6f/vTRfHfMw29oqKSU1KAaf6gO9o1f12nfsZMqUzif/tbljxPRKUBCdcWZFwK+CbBf883pUq0oQMwNrUUgoa1REgiBoBJ4b/pGvTIh7dyJ8Q+11fLtR4Jq/KE62G8Wb9eiLYfc6T3bs74KROZx/50CJFRXnHkh4JsA+zXfnChAzJ08iUBCe8JMJwgEnMCDYxZr/PJdypsnTKuGXa2vF20PuDHmxgEtiD2o75bscKd+e+to1T79IDoFSG7MBuaMwB8C7NfMs4FPQMwNrUUgoa1REgiBoBLo+Op0bd5/XA0qFNFPD7fTmHlbg2r8oTrYPUcT9NaUtFcjO+eBdKlX1v13CpBQXXHmhYBvAuzXfHO6VCsKEHNDaxFIaGuUBEIgaASOJSTq8qGT3PHe3KyyXrmxIQVIgKxeSmqqXvxptRISU1SzTJTuaFONAiRA1oZhIJCTAuzXzPUpQMwNrUUgoa1REgiBoBGYv/mgbvrPHHe8z/dpoAGtoilAAmj1Rs7arPV745QvIlzP9qrvns/CJyABtEAMBYEcEGC/Zo5OAWJuaC0CCW2NkkAIBI2As8Ed9mPa616/ub+1ew4IX8EKnOWbErNHU9bsdQf0cOdaKlckPwVI4CwPI0EgRwTYr5mzU4CYG1qLQEJboyQQAkEjMOjLZXLetuQcfL5qWHcVjIygAAmg1Vu/55hGzk47kPD6RhXVvFoJCpAAWh+GgkBOCLBfM1enADE3tBaBhLZGSSAEgkbg6jd/05rdx1SjdCFNGdTBHTefgATO8iUkJuuF8avlnMzSpEpx3di0EgVI4CwPI0EgRwTYr5mzU4CYG1qLQEJboyQQAkEh4GxuGwyZqOSUVF3XqILe7NeYAiQAV+7NX9dp77GTKhWVT492rU0BEoBrxJAQ8FKA/Zq5NgWIuaG1CCS0NUoCIRAUAou3HlLff892x/pMz3q6q111CpAAXLlvF2/XwtMHEmZcpwAcKkNCAAEPBNivmSNTgJgbWotAQlujJBACQSHwyZxYPffDKnesY+9pqSurl6QACcCVWxh7UN+ePpBwYKuqGtbnsgAcJUNCAAGvBNivmUtTgJgbWotAQlujJBACQSHw+FfL9NWitAfQVwztrqh8ERQgAbhye48m6M3TBxJ2rFNaI//cIgBHyZAQQMArAfZr5tIUIOaG1iKQ0NYoCYRAUAikP4BevXQhTT39ALozcB5CD6zlcw4k/MdPMYpPTD7rZQGBNUpGgwACXgmwXzOXpgAxN7QWgYS2RkkgBAJeIOMD6H0aVdBbpx9ApwAJzKUbNXuz1u2JU2REuGKev1p5wsMCc6CMCgEEsl2A/Zo5MQWIuaG1CCS0NUoCIRDwAku2HtL1F3gAnQIkMJdu6po9+jUm7UDCnx9up/oVigTmQBkVAghkuwD7NXNiChBzQ2sRSGhrlARCIOAFPp0Tq2dPP4D+xT0t1fL0A+gUIIG5dBv2xunjWZvdwb1w3WX6U8uqgTlQRoUAAtkuwH7NnJgCxNzQWgQS2holgRAIeIHBXy/Tlwu3u+NcMbSbCufPe2bMPAMSeMt3MjFZz58+kDDjmS2BN1JGhAAC2S3Afs1cmALE3NBaBBLaGiWBEAh4gWve+l2rdx1V9VKFNPWxtBPQ0y8KkMBcvhFT12vnkQRVKl5AM//eKTAHyagQQCDbBdivmRNTgJgbWotAQlujJBACAS3gPIB+2ZCJSkpJVe8rKuidW9JOQKcACehl07hlOzV30wF3kPOe6qyyRfIH9oAZHQIIZIsA+zVzVgoQc0NrEUhoa5QEQiCgBZZtO6w+785yx/jUNXV1z1U1KEACesXSBrds+2GNXbDN/fd3b22ing3LB8GoGSICCNgWYL9mLkoBYm5oLQIJbY2SQAgEtMBnc7fome9XumMcc/eVal2jFAVIQK9Y2uAOnzil4RPXuv/+5zbRGtK7QRCMmiEigIBtAfZr5qIUIOaG1iKQ0NYoCYRAQAs88c1yfXH6L+nLh3ZTkQwPoLtFybytAT3+3Dy4Vyas0ZH4RDWsVFTjHmybmymYOwK5VoD9mvnSU4CYG1qLQEJboyQQAgEt0PPt37Vq51FFlyyo6Y93PG+sFCCBu3xfLNiq5duPuAcROm8vKxgZEbiDZWQIIJAtAuzXzFkpQMwNrUUgoa1REgiBgBU4mZT2AHpicqp6NSyvEbc2oQAJ2NU6f2BzNu7Xj8t3ub+40NfngmgqDBUBBLIowH4ti3AZbqMAMTe0FoGEtkZJIAQCVmD59sO6dkTaA+hP9qire9uf/QC6u7HlK1gBu347D8drxLQN7vgGda2thzrXCtixMjAEEMgeAfZr5q4UIOaG1iKQ0NYoCYRAwAmkFxXzNh/QD0t3uuO7s2011SgdFXBjZUAXF0hOSdXLv8To+Klkta9dWqPvaAEXAgjkMgH2a+YLTgFibmgtAgltjZJACAScQHoB8t2S7VoQe8gd37M966tAZJ6AGysDurTAzyt2aeaG/SqcP0LLnuum8PAwyBBAIBcJsF8zX2wKEHNDaxFIaGuUBEIg4ATSC5AR09Zr5+EElSgUqce61Qm4cTKgzAX2HE3QW1PWuw0n/K2d6pYrkvlNtEAAgZARYL9mvpQUIOaG1iKQ0NYoCYRAwAk4BUhScoqG/bhayampuqxiUd3aokrAjZMBZS5QuUQB/emj+W7DF6+7TP1bVs38JloggEDICLBfM19KChBzQ2sRSGhrlARCIOAEnAJk+6ET+vf0je7Yujco5z5DwBV8Atc2qqCGQycqJVW6vnFFvXFzo+CbBCNGAIEsC7BfyzLdmRspQMwNrUUgoa1REgiBgBNwChDnuQHn+QHnuqtdNVUvxQPoAbdQPgzo1iurKP0sF+fTkN8Hd/LhLpoggECoCLBfM19JChBzQ2sRSGhrlARCIOAEnALks7lbtHrXUfcQu+d61VfePOEBN04GlLmAU4AM+WGlRs/Z4jae/1RnlSmSP/MbaYEAAiEhwH7NfBkpQMwNrUUgoa1REgiBgBNwio9//hyjE6eS3RPQ77nq/PM/Am7QDOiCAk4BMm7ZTj38vyXu7/99WxNdc3l5tBBAIJcIsF8zX+iQKkDi4uL06quvatGiRVq4cKF2796tgQMHatSoUZlKnThxQp988onGjRunFStW6MCBA4qOjlavXr301FNPqVixYmfFuP322zV69OgLxt22bZsqVaqUaZ/nNiCh/SbjBgSCRuCNyevOvDmpQ53S6la/XNCMnYGeLeAUIM6BhK1fnur+4o421fRc7/owIYBALhFgv2a+0CFVgMTGxqpatWoqX768mjZtqvHjx/tcgKxcuVINGzZUu3bt1L17d5UpU8YtZD788EO3EHH+vUiRP161mF6AOEVIePjZX6Po27evChYs6PfqkNB+k3EDAkEj4Py13PmruXP9uU20apUpHDRjZ6DnFyDOT1q/NEU7jyTo8opF9eNDbWFCAIFcIsB+zXyhQ6oAOXnypPbv36+KFSsqKSlJefPm9bkAce7buXOnW4RkvD7++GPdeeedeu211/Too4+e+VV6AZKYmKiIiAjzlZBEQlthJAgCASnQ+52ZWrHjiJwz657tVV/5IjiAMCAXyodBOZ+AONdfv1jinmrvrOmyId1UOH9eH+6mCQIIBLsA+zXzFQypAiQjh78FyMUojx49qqJFi+qOO+7QRx99dF4BcurUKcXHxysqKuq8T0L8XR4S2l8x2iMQHAKpqalqOGySjiUkqVLxAnqgQ83gGDijvKBAegHivFjgqe9WuG1G/rm5OtYpgxgCCOQCAfZr5otMAZKJ4dq1a1W3bl098cQTeumll84rQAoXLqxjx46pQIEC6tGjh4YPH64aNbL2cCkJbZ7QREAgEAVi9x9Xh1enu0NrV7OUevDAciAuk89jSi9ANu6LU+fXZrj33de+hp7oUdfnGDREAIHgFWC/Zr52FCCZGA4YMECfffaZlixZoiuuuOJMa6cgcb5+5Txrki9fPs2dO1fvvPOOnILEeQC+atVLn4y7a9cuOf9kvGJiYtS/f3/3eZMmTZqYry4REEAgIAS+XLBNg79Z7o7lTy2rql75P54nC4gBMgi/BNILEOeTreb/mKL9cSfVpEoxfftAG7/i0BgBBIJTgALEfN0oQC5h+MEHH+jee+91n/1wngHJ7Jo8ebK6devm03MnQ4cO1bBhwy4YkgIkM2l+j0BwCQz6cpm+WbxdYZKe6VlfBSJ5/iO4VvDs0aYXIM5P//L5Yv20YpciwsO0fGg3FYy080xgMPswdgRCXYACxHyFKUAuYvj999/rxhtv1DXXXKNvv/3W5wfNnU9EnE82nAfaL3XxCYh58hIBgWARaDd8qrYdjFf5ovn1UKdawTJsxnkRgYwFyCdzYvXcD6vclp/deaXa1iqFGwIIhLgABYj5AlOAXMBw0qRJuvbaa9W6dWv9/PPPyp/f9xNunVfwOq//dR5O9/ciof0Voz0CgS+Q8byIVtVLqvcVFQJ/0IzwkgIZC5C1u4+p+5u/ue0f6lRTg7rVQQ8BBEJcgP2a+QJTgJxjOGPGDPdh8ssvv1xTpkxx327lz+W8xvfQoUNyDiP09yKh/RWjPQKBL/DD0h366xdL3YHe0qKKe2YEV3ALZCxAUlJS1fTFyTp0IlEtokvoy/taBffkGD0CCGQqwH4tU6JMG+TKAsR5eHzjxo3u63WdQwvTr3nz5qlLly7uYYZOIVK8ePELAh4/ftz9Spbz8HnGa+zYserXr5/73Mj777+fKf65DUhov8m4AYGAF3jy2xX63/yt7jif7FGXsyICfsUyH2DGAsRpfc8nCzVp9R5F5gl3nwPJn5dnfDJXpAUCwSvAfs187UKuABkxYoQOHz6slJQUDRkyRI0bN5bztSjncr5W5XxCkX5i+sCBAzVq1Cj3d1u2bHHbOq/Uffnll1W2lHFpDAAAIABJREFUbNmzdJ3/37VrV/dnS5cuVc+ePXXdddepVq1aioyM1Jw5czRmzBhVrlxZTiFz7v2+LBUJ7YsSbRAILoHOr03Xxn3HVSoqnx7tWju4Bs9ofRKYtWG/+yC6c93Vrpqql/rjk/NzixWfAtIIAQQCWoD9mvnyhFwBEh0d7RYTF7pGjhwp5wTzCxUg06dPV8eOHS8q2r59ezltnGv37t0aNGiQFixY4D5s7nyi4hQevXv31tNPP61SpbL2ECIJbZ7QREAgkASc17M2e/FXd0jNo4vr+saVAml4jMWSgPOcz4hpG9xoneuVUee6f/wBiwLEEjJhEAggAfZr5osRcgWIOUnORSChc86enhHIDoFfVuzS/Z8vdkP/X9NKalzlwl/rzI6+iemdQEpqql78abUSElNUvXQh3dW2+pnOKUC8Wwd6QsArAfZr5tIUIOaG1iKQ0NYoCYRAQAgMHbdKo2bHumMZ3L2OihWMDIhxMQj7As7reNfsPqa8ecL0bK/6iggPdzuhALFvTUQEclqA/Zr5ClCAmBtai0BCW6MkEAI5LuCckt3h1enacuCEqpQoqPva18jxMTGA7BP4bd0+TVi12+3g3quqq2rJQhQg2cdNZARyVID9mjk/BYi5obUIJLQ1SgIhkOMCG/bGqcvrM9xx3N46WrXLFs7xMTGA7BPYdvCE3pux0e2gW/2y6lCnDAVI9nETGYEcFWC/Zs5PAWJuaC0CCW2NkkAI5LjAf2Zs1Eu/rHHH4ZyQvfXgiRwfEwPIPoHklFS98NNqnUpKUa0yUfpzm2oUINnHTWQEclSA/Zo5PwWIuaG1CCS0NUoCIZDjAje9P0fzYw+qcL4ILXq2q75etD3Hx8QAsldg5KzNWr83TpER4Xq2Z33lCQ/jGZDsJSc6AjkiwH7NnJ0CxNzQWgQS2holgRDIUYFDx0+5p2OnpEo9Ly+vd29rojHz0g4j5Apdgelr97oHEjrX/e1rqHKJghQgobvczCwXC7BfM198ChBzQ2sRSGhrlARCIEcFvluyXY+MXeaO4bX/u0I3NK1EAZKjK+JN51sOHNd/ftvkdtbjsnJqV6s0BYg39PSCgKcC7NfMuSlAzA2tRSChrVESCIEcFXhwzGKNX75L4WHSwme6qkShSAqQHF0RbzpPSknRC+NXKzE5VXXLFdaAVtEUIN7Q0wsCngqwXzPnpgAxN7QWgYS2RkkgBHJMIDE5RU1emKxjCUlqVrW4vr6/tTsWvoKVY0viaccfztykTfuOK3/ecD3Ts776t6zqaf90hgAC2S/Afs3cmALE3NBaBBLaGiWBEMgxgdkb9uvWD+e5/f/96rq6v0Pa+R8UIDm2JJ52PGXNHk2J2ev2+WDHmnqsex1P+6czBBDIfgH2a+bGFCDmhtYikNDWKAmEQI4JPP/jan08a7Pb/+RHrlKt0+d/UIDk2JJ42vGmfXH6cGba+qe/gMDTAdAZAghkuwD7NXNiChBzQ2sRSGhrlARCIEcEzj39fMbjHRQWFuaOhQIkR5bE806dr+A9P361nHNB6pcvop//2s7zMdAhAghkrwD7NXNfChBzQ2sRSGhrlARCIEcENuw9pi6v/+b2/ec20RrSu8GZcVCA5MiS5EinH/y2UbEHTqhgZB6tHNpd4c7bCLgQQCBkBNivmS8lBYi5obUIJLQ1SgIh4JlAxsLit3X7NGHVbrfvO9pUU80yUZ6Ng44CR2Dy6t2atnafO6CJf7tKdcoVDpzBMRIEEDAWYL9mTCgKEHNDaxFIaGuUBELAM4GMBUj6X77zRYTr6Z71FBEe7tk46ChwBDbsjTvzHNDzfRq4r+PlQgCB0BFgv2a+lhQg5obWIpDQ1igJhIBnAukFyImTSfrHzzFKlXRZxaK6tUUVz8ZAR4ElcCrJeQ5klVJSeRA9sFaG0SBgR4D9mrkjBYi5obUIJLQ1SgIh4JlAegGyZOshfbVou9vv/zWtpMZVins2BjoKPIH3pm/QtkPxKhWVTwue7nzmZQSBN1JGhAAC/gqwX/NX7Pz2FCDmhtYikNDWKAmEgGcC6QXI/+Zv1YodR+Q8bvz0NfVUMF+EZ2Ogo8ATmLByt35bn/YcyJRB7VWjNM8DBd4qMSIEsibAfi1rbhnvogAxN7QWgYS2RkkgBDwTcAoQ55WrL/60WieTUlS1ZEHde1Xa4YNcuVdg7e5jGj0n1gX45/WX69Yr+Upe7s0GZh5qAuzXzFeUAsTc0FoEEtoaJYEQ8EzAKUA27ovTR6cPn+veoJza1y7tWf90FJgCCYnJemH8aveZoD6NKuitfo0Dc6CMCgEE/BZgv+Y32Xk3UICYG1qLQEJboyQQAp4JOAXIT8t3atbGA26ff+1cS2WL5PesfzoKXIF3p23QjsPxKlckv+Y82YnnQAJ3qRgZAn4JsF/zi+uCjSlAzA2tRSChrVESCAHPBD6fu0WvTV6ng8dPqUShSA3qWpuNpmf6gd3Rzyt2aeaG/e4gf3u8o6qULBjYA2Z0CCDgkwD7NZ+YLtmIAsTc0FoEEtoaJYEQ8Ezgzcnr9OaU9W5/rWuUVK+GFTzrm44CWyBm11F9OneLO8jhNzbUTc0qB/aAGR0CCPgkwH7NJyYKEHMmbyKQ0N440wsCNgXu+3QRp5/bBA2hWPGnkvXiz6uVmird0KSSXrvpihCaHVNBIPcKsF8zX3s+ATE3tBaBhLZGSSAEPBPo8K9pij1wQpx+7hl5UHXkfALifBJSqXgBzfx7p6AaO4NFAIELC7BfM88MChBzQ2sRSGhrlARCwBOBQ8dPqckLkzn93BPt4Oxk3Z5jGjU77XW8s57opIrFCgTnRBg1AgicEWC/Zp4MFCDmhtYikNDWKAmEgCcC3y3ZrkfGLnP74vRzT8iDrpPiBfPq/s8Xu+N+4+YrdH3jSkE3BwaMAAJnC7BfM88IChBzQ2sRSGhrlARCwBOBv4xZrJ+W7+L0c0+0g7OT7g3KqumLv7qD79e8sl6+oWFwToRRI4DAGQH2a+bJQAFibmgtAgltjZJACGS7QGJyipo8P1nHTiZx+nm2awdvB84J6F1fn6H1e+NUrVQhTXusQ/BOhpEjgIArwH7NPBEoQMwNrUUgoa1REgiBbBeYvWG/bv1wntvP1Q3K6SpOP89282DswClAnvl+hT6bu9Ud/vynOqsMB1UG41IyZgT4BMRiDlCAWMQ0DUUBYirI/Qh4J/Di+NX6cOZmt0NOP/fOPdh6cgqQcct26uH/LXGH/vYtjXXtFZwVE2zryHgRyCjAfs08HyhAzA2tRSChrVESCIFsF7j6zd+0ZvcxFSuQV493r8Pp59kuHpwdOAXI3qMJavHPKe4E+resohevuzw4J8OoEUDAFWC/Zp4IFCDmhtYikNDWKAmEQLYK7Dt2Us3/kfZgcdOqxd1D5rgQuJCAU4A4V8dXp2vz/uOqVSZKkx9tDxYCCASxAPs188WjADE3tBaBhLZGSSAEslXgh6U79Ncvlrp93Ny8sq6oVCxb+yN48AqkFyBPfLNcXyzY5k5k0TNdVDIqX/BOipEjkMsF2K+ZJwAFiLmhtQgktDVKAiGQrQKDv16mLxdud/t46pp6isoXka39ETx4BdILkG8Xb9ejX6adGfPebU3U4/LywTspRo5ALhdgv2aeABQg5obWIpDQ1igJhEC2CaSmpqrNy1O180iC6pUvoj+1rJptfRE4+AXSC5Adh+PdvHGu21tHa+i1DYJ/cswAgVwqwH7NfOEpQMwNrUUgoa1REgiBbBPYtC9OnV6b4ca/u101VSsVlW19ETj4BdILEGcmbV+Zqu2H4t3C9Ze/tgv+yTEDBHKpAPs184WnADE3tBaBhLZGSSAEsk3g0zmxevaHVW78UX9urp2HE7KtLwIHv0DGAmTQl8v0zeLtCguTlj7bTUUL5g3+CTIDBHKhAPs180WnADE3tBaBhLZGSSAEsk3g3k8XauKqPYrME66lQ7rq+yU7s60vAge/QMYC5MuF2zT46+XupP47oJm61i8b/BNkBgjkQgH2a+aLTgFibmgtAgltjZJACGSLQHJKqho9P0nHEpLUsnoJfXFPK42Zl3bCNRcCFxLIWIBsOXBc7f813W12V9tqeqZXfdAQQCAIBdivmS8aBYi5obUIJLQ1SgIhkC0CS7cd1nXvznJjP9atth7sVIsCJFukQzOo8wKDVyas0dGEJFUsVkB/6VjzzEQzFiqhOXtmhUDoCLBfM19LChBzQ2sRSGhrlARCIFsERkxdr1cnrXNjf/dAazWuUpwCJFukQzfo2AVbtWz7EYVJerZXfeXPm8edLAVI6K45Mws9AfZr5msaUgVIXFycXn31VS1atEgLFy7U7t27NXDgQI0aNcpnqZUrV2rw4MGaOXOme0/btm01fPhwXXbZZefF8KetLwMgoX1Rog0COSfQ74M5mrvpoArnj9CSZ7sqIk84BUjOLUdQ9jx/80F9v3SHO/aBraJVp1xhCpCgXEkGnZsF2K+Zr35IFSCxsbGqVq2aypcvr6ZNm2r8+PF+FSDr169X8+bNVaJECT300EOu7ttvv63Dhw9r/vz5qlWr1hlxf9r6ukwktK9StEPAe4ETp5LUaNhknUpOUbf6ZfXBgGbuIHgGxPu1COYe9x07qTd+TfsU7apapXX1ZeUoQIJ5QRl7rhRgv2a+7CFVgJw8eVL79+9XxYoVlZSUpLx58/pVgNx4442aMGGCYmJiVLlyZVd327Ztqlevnnr06KGvvvrqjLg/bX1dJhLaVynaIeC9wIx1+zTw4/lux8/3aaABraIpQLxfhqDv0XkO5KVf1ijuZJIqFy+g+zukPQfCV7CCfmmZQC4SYL9mvtghVYBk5PC3AHG+vlWyZEn169dPo0ePPkvW+RrX2LFj3eImKipK/rT1Z4lIaH+0aIuAtwL//DlGH/y2ye106qD2ql467QBCPgHxdh1Cobcx87dq5Y4jCg+TnuvVQJER4RQgobCwzCHXCLBfM19qCpDThnPmzFHr1q313nvv6b777jtL1vnZAw88IKdNy5Yt3f/1ta0/S0RC+6NFWwS8Fbjmrd+1etdRVSiaX7Oe6KQw5zQ5ChBvFyFEepuz6YB+XJZ2fswdbaqpZpkoCpAQWVumkTsE2K+ZrzMFyGnDb775Rs7XqsaNG6fevXufJev8rE+fPvr66691ww03yJ+2F1uiXbt2yfkn4+V89at///7uQ/RNmjQxX10iIICAFYGDx0+pyQuT3Vg3Nq2kV//vijNx+QTECnGuCrL7aILenrLenXPHOqXVtX45CpBclQFMNtgFKEDMV5AC5LThp59+qgEDBmjixInq1q3bWbKTJk1S9+7d5bRxCgR/2l5siYYOHaphw4Zd8NcUIOaJTQQEbApMWLlL93222A35+k1XqG+TShQgNoFzWayU1FQ5X+k7cSpZ0SUL6p6ralCA5LIcYLrBLUABYr5+FCCnDf35VMOfthdbIj4BMU9eIiDglcCQH1Zq9Jwtbnezn+ikCsUKUIB4hR+i/Xw2d4v7lb484WF6rld9DWyd9lIDLgQQCHwBChDzNaIAOW3oz3Md/rT1Z4lIaH+0aIuAdwLd3/hNa/ccU9WSBTXj8Y5ndcxXsLxbh1DqadaG/fppRdrXcO9qW03P9KofStNjLgiEtAD7NfPlpQA5bZjZm62++OILHThwwKe3YGVs688SkdD+aNEWgewTyFhUOK9Ldb4u41zNqhY/6+tX2TcCIoe6wM7D8RoxbYM7zc71yuijgc1DfcrMD4GQEWC/Zr6UubIASUxM1MaNG1W0aFH30ML0y3nA3HkGZM2aNapUKe073unngDjPgDhfvcpKW1+XiYT2VYp2CGSvQMYCZMWOI/rf/K1uhzc1q6RGlYtnb+dEzxUCznMgL/60WgmJKapeupCmDuqQK+bNJBEIBQH2a+arGHIFyIgRI9yTy1NSUjRkyBA1btxYffv2daWuvfZaNWzYUOknpjvne4waNeqM4tq1a9WiRQv3PJCHH37Y/blzErrzyYdzEnqdOnWy1NbXZSKhfZWiHQLZK5CxAPlh6Q7N23zQ7fDvV9dV0QJ5s7dzoucagdGzY92v9uXNE6ZVw652zwPhQgCBwBdgv2a+RiFXgERHR2vLlrSHRc+9Ro4cqdtvv/2iBYjTfvny5Ro8eLBmzZrl3t62bVu98sorbuFy7uVPW1+WioT2RYk2CGS/QMYC5M1f12nvsZMqWShSg7r98UeI7B8FPYS6wG/r9mnCqt3uNL++r5WaRZcI9SkzPwRCQoD9mvkyhlwBYk6ScxFI6Jyzp2cEMgqkFyDHEhL10i9r3F81jy6u6xv/8fpdxBAwFdh28ITem7HRDfN49zr6S8eapiG5HwEEPBBgv2aOTAFibmgtAgltjZJACBgJpBcgy7cf1hcLtrmxbmpWWY0qFzOKy80IZBRITknVCz+t1qmkFF1Vu7Q+uaMFQAggEAQC7NfMF4kCxNzQWgQS2holgRAwEkgvQL5fukPzTz//8cTVdVWE5z+MXLn5fIGRszZr/d44FYrMo2VDuikiD8+BkCcIBLoA+zXzFaIAMTe0FoGEtkZJIASMBNILkDcmr9O+uJMqFRWpR7vy/IcRKjdfUGD62r2atHqP+7vv/9KGT9nIEwSCQID9mvkiUYCYG1qLQEJboyQQAkYCTgFyNCFRL59+/qNFdAld17iiUUxuRuBCAlsOHNd/ftvk/urJHnV1b/saQCGAQIALsF8zXyAKEHNDaxFIaGuUBELASMApQJZtP6yxp5//uLl5ZV1Riec/jFC5+YICSSkpemH8aiUmp6pT3TL6+HYOJCRVEAh0AfZr5itEAWJuaC0CCW2NkkAIGAk4Bch3S3ZoQWza+R/OX6YL5+f8DyNUbr6owIczN2nTvuMqnD9CS5/rpjzhYWghgEAAC7BfM18cChBzQ2sRSGhrlARCwEjAKUBen7xW++NOqXRUPj3StbZRPG5G4FICU9bs0ZSYvW6T8Q+11WUViwKGAAIBLMB+zXxxKEDMDa1FIKGtURIIASOB96dv1MsT0s7/uLJaCfVpxPMfRqDcfEmBTfvi9OHMzW6bZ3vV151tqyGGAAIBLMB+zXxxKEDMDa1FIKGtURIIASOBwV8v15cL087/6Ne8shry/IeRJzdfWiAxOUX/+ClGp5JT1K1+WX0woBlkCCAQwALs18wXhwLE3NBaBBLaGiWBEDAS6Pvv2Vq89ZAb46lr6ikqX4RRPG5GIDOB75fs0PzYgypWMK8WP9NV4TwHkhkZv0cgxwTYr5nTU4CYG1qLQEJboyQQAlkWSE1N1RXDJuloQpLKF82vhzrVynIsbkTAV4FdR+L1ztQNbvOJf7tKdcoV9vVW2iGAgMcC7NfMwSlAzA2tRSChrVESCIEsC2zYe0xdXv/Nvb9drVLqcVn5LMfiRgR8FahSoqD6fzTPbf58nwYa0Cra11tphwACHguwXzMHpwAxN7QWgYS2RkkgBLIsMHLWZg37cbV7/5/bRKtWGf4SnWVMbvRZ4LrGFdRw6CQlpaSq5+Xl9e5tTXy+l4YIIOCtAPs1c28KEHNDaxFIaGuUBEIgywJ3jlqgKWv2KiI8zH0jUd484VmOxY0I+Cpw65VVdP2/Z2nJ1sMqFRWpBU93UVgY54H46kc7BLwUYL9mrk0BYm5oLQIJbY2SQAhkScB5G1GjYZN0/FSyapaO0h28DjVLjtzkv4BTgLz8yxq9P2Oje/Ovj7ZXzTJR/gfiDgQQyHYB9mvmxBQg5obWIpDQ1igJhECWBOZvPqib/jPHvffqBuV0Ve3SWYrDTQj4K+AUINPW7tWfRy5wb/3n9ZfL+RkXAggEngD7NfM1oQAxN7QWgYS2RkkgBLIk8PqktXr79JuIHuxYUxWKFchSHG5CwF8Bp9g4lpDovoEtJVXq06iC3urX2N8wtEcAAQ8E2K+ZI1OAmBtai0BCW6MkEAJZErju3Vlauu2wCkXm0ZPX1FM438HPkiM3+S+Q/mlH73dmasWOIypXJL/mPNmJ50D8p+QOBLJdgP2aOTEFiLmhtQgktDVKAiHgt8CRE4lq/ELaX58bViqqfs35+ovfiNyQZYH0AuTF8av14czNbpwZj3dQ1ZKFshyTGxFAIHsE2K+Zu1KAmBtai0BCW6MkEAJ+C0xYuUv3fbbYva9v44pqFl3C7xjcgEBWBdILkMmr9+juTxa6YYbf0FA3Na+c1ZDchwAC2STAfs0clgLE3NBaBBLaGiWBEPBb4OnvVujzeVvd+wZ3r6NiBSP9jsENCGRVIL0AcT6Ja/TCJKWmSjc0qaTXbroiqyG5DwEEskmA/Zo5LAWIuaG1CCS0NUoCIeC3QPt/TdOWAydUvXQh3dW2ut/3cwMCJgIZ33h19Zu/ac3uY6pUvIBm/r2TSVjuRQCBbBBgv2aOSgFibmgtAgltjZJACPglsO3gCbUbPs29Z2CrqqpTrohf99MYAVOBjAXI0HGrNGp2rBvy98EdVblEQdPw3I8AAhYF2K+ZY1KAmBtai0BCW6MkEAJ+CYyZt1VPfbfCvee/A5pp37GTft1PYwRMBTIWIJNW7dY9ny5yQ75yw+W6mRcimPJyPwJWBdivmXNSgJgbWotAQlujJBACfgk88Pki/bxit/KEh2npc13147Jdft1PYwRMBTIWIEfiE9X4+bQ3sl17RQW9fQvngZj6cj8CNgXYr5lrUoCYG1qLQEJboyQQAj4LJCWnqMkLk3U0IUnNqhbX1/e3lvOJCBcCXgqce+p5nxEztWz7EZWKyqcFT3fmPBAvF4O+EMhEgP2aeYpQgJgbWotAQlujJBACPgvM23RAN38w123/ePc6+kvHmhQgPuvR0JbAuQXIKxPW6L3pG93wkx65SrXLFrbVFXEQQMBQgP2aIaAkChBzQ2sRSGhrlARCwGeBl36J0X9mbHLb//xwO9WvUIQCxGc9GmaXwIa9cfp4VtqBhL0allfrGqXOdHVusZJdYyAuAghcWID9mnlmUICYG1qLQEJboyQQAj4LdHtjhtbtiVP5ovk1+4lO7ldd+AqWz3w0zCaBU0kpeuGn1UpOSVW98kX0p5ZVKUCyyZqwCPgrwH7NX7Hz21OAmBtai0BCW6MkEAI+CWR8/a7zV+V/Xn+5ex8FiE98NMpmgf/+vkmb9x9X/rzheqZnfYWHhbk98glINsMTHoFMBNivmacIBYi5obUIJLQ1SgIh4JPAJ3Ni9dwPq9y2Hw5opi71y1KA+CRHIy8Epq7Zo19j9rpdPdChhioVTzsPhALEC336QODiAuzXzLODAsTc0FoEEtoaJYEQ8Eng9pHzNX3tPkVGhLuv3y0YGUEB4pMcjbwQ2HLguP7zW9rzSd0blFP72qUpQLyApw8EMhFgv2aeIhQg5obWIpDQ1igJhECmAvGnktXo+Uk6mZTibuxG39HizD18BStTPhp4IOA8/+E8B+I8D1KzTJTuaFONAsQDd7pAIDMB9muZCWX+ewqQzI08a0FCe0ZNRwhoSswe3Tl6oSsx7NoGGtg6mgKEvAg4gdGzY7V2zzHlzROmZ3vWV0SecL6CFXCrxIBymwD7NfMVpwAxN7QWgYS2RkkgBC4okPGTje+X7tD8zQfddo91q6MShSJRQyDgBH5fv0+/rNztjuuudtVUvVQUBUjArRIDym0C7NfMV5wCxNzQWgQS2holgRC4ZAGSmpqq4RPX6kh8okoXzqdHutRGDIGAFNh5OF4jpm1wx/b/7d0JXFZV/j/wD7sgigKKqIiCey65m2iapqVpOWblNOaSzF/HMqdcxnSaqfmlllYzZqaWpbY4ma1OmUtuuW+5Jq6AihsuKMi+/V/nIAQI8jzPOTw8z72f+3r5EuHe7z3nfQ7X833uvef0bFoTDzYLYgLikC3FQplJgOM19dZmAqJuqC0CO7Q2SgaiwF0TkEs30/DuhpNyn24NA9G3ZTDFKOCQAjm5uZixKgopGdkI9ffB6O7hTEAcsqVYKDMJcLym3tpMQNQNtUVgh9ZGyUAUuGsCsvl4PNYcvSz3iezaAGE1fClGAYcVWLbrDI5cSISrC/BK/+YYeftldIctMAtGAYMLcLym3sBMQNQNtUVgh9ZGyUAUuGsCsvCX0zhzLUUu8DatX3O4iZEdNwo4qMCumGv4/sAFWbrh99XHa4/d46AlZbEoYA4BjtfU25kJiLqhtgjs0NooGYgCpSYgKRlZmP5jFHIBtKzjhz92rEctCji0wNVb6Xhn3QlZxojwAHz+584OXV4WjgJGF+B4Tb2FmYCoG2qLwA6tjZKBKFBqAnLw3A0s33tO/nxwu7poW686tSjg0AJi0oS31h5HQkomalbxwu5pDzp0eVk4ChhdgOM19RY2VAKSnZ2N2bNnY9GiRTh37hxCQkIQGRmJSZMmwc3NrVSt2NhYNGiQt8BTSZu7uzsyMzMLfjRixAgsXbq0xH3FeevWrWtTy7BD28TGgyhgsYCYhvfLvedw4NwNiIeuXu7XDL5eeaufc6OAIwt8u/889sTmTRu94+WeCPbzduTismwUMLQAx2vqzWuoBGTs2LGYP38+Ro4ciS5dumD79u1YvHgxxPfnzZtXqlZycjK+/fbbO34ukompU6diwIABWLly5R0JiEhCXF1dixw3aNAg+Pj42NQy7NA2sfEgClgs8NnOM/Lxq9TMbIRU98ZfejS0+FjuSIGKFDhy/iaW7T4rizDr8VZ4skNIRRaH56aAqQU4XlNvfsMkIIcPH0br1q0xbtw4zJkzp0Bm/PjxmDt3Lg4ePIiWLVtaJfb666/jlVdewddffw2RWORv+XdAxF0RcXdE18YOrUuScShQssDMVVFY+Eu0/OGDzWqiZ9MgUlHAKQRSM7Lx+o9H5btL/VsF472n2zpFuVlIChhRgOM19VY1TAIybdo0zJgxA9HR0UUep4qJiUFYWJi8kzF9+nSrxBo3bozr16/jwoUL8PRiMGRtAAAgAElEQVT8fZXk/AQkIyMDqamp8PX1veNOiFUnur0zO7QtajyGApYLDP94NzafuCIPeO6BhqhTjY+xWK7HPStaYMHm0zh7PQXVfDyw7++9OXtbRTcIz29aAY7X1JveMAnIQw89JO9yXLp06Q6VoKAgtGnTBqtXr7ZYTDy+FRERgeeff17eQSm85ScgVapUQVJSEry9vdG3b1/MmjUL4eHhFp+j+I7s0DbT8UAKWCTQecZ6XEpMQ5VK7pjycFO4uHD6XYvguJNDCKyPuoz1x+JlWb5/LgKtQ6o5RLlYCAqYTYDjNfUWN0wCIh6vEncp9u3bd4dK27Zt5Uvk4jEtS7fRo0fjgw8+wJ49e9C+ffsih02ZMkXGa9euHby8vLBz506ZpIiEZO/evQgNDS3zNBcvXoT4U3iLiorC0KFDZR1EmblRgAL6BC7cSEWXNzbIgO1Dq2NQW9smi9BXIkaigHUCZ68lY8HtRwgn9mmM53s2si4A96YABbQIMAFRZzRMAiLuPIg7HeLORfFNvJAeHx+PU6dOWSSWnp6OWrVqoU6dOjhy5IhFx6xbtw59+vTB8OHDsWTJkjKPefXVV/Haa6+VuB8TkDL5uAMFrBb4fNcZTPs27/f5T53q4Z7aflbH4AEUqEiB7JxcTF91FGmZOehY3x9fjrmvIovDc1PAtAJMQNSb3jAJiM47IF9++SWeeuop+UiVmMLX0k3cERF3NcQ7I2VtvANSlhB/TgG9ApFL9+DnqHj53Pzf+zWDl0fpU3PrPTOjUUCfgEikf7uQCHdXF+z/R29UqeShLzgjUYACFgkwAbGI6a47GSYB0fkOyCOPPII1a9bItUSCg4MtVhYzZf3www8QL6fbsrFD26LGYyhQtkBaZjba/GudnH63YU1fPBtR+ro/ZUfjHhSoOIE9Mdfx7YHzsgAfPNMOfe6pVXGF4ZkpYFIBjtfUG94wCYiY5WrmzJnKs2CJl9jFQoLicapVq1ZZJdyqVSskJCTIxMWWjR3aFjUeQ4GyBTYdj8eIxXvkjo+0DEZEw8CyD+IeFHBAgYSUDMxec1yW7JnOofi/gS0csJQsEgWMLcDxmnr7GiYBETNgiZmuSlsH5MCBAxAJgnh5/PTp0/Dz8yvx7sbbb7+NiRMnYvny5XjyySfvEBaLFoq1P8TL54U3sf+QIUMgXl5fsGCBTS3DDm0TGw+iQJkC//z+CJbuOCP3m9C7MQJ8i/7+lhmAO1DAgQQWbY1G9JVkhAb4YPOkBxyoZCwKBcwhwPGaejsbJgERFGPGjMHChQvlSuhiCt1t27bJldALJwWxsbFynZDSXhYXSYq4gyHuhBRPMsQ5RCIjHtEaOHAgGjVqJGfe2rFjB5YtW4aQkBDs2rVLvgxvy8YObYsaj6HA3QVyc3Nx/+yNOHc9FYG+nnipdxOSUcCpBU5cTsKS7bGyDpsn9UBoQGWnrg8LTwFnE+B4Tb3FDJWAZGVlyRfHFy1ahLi4OPkoVWRkJCZPnlywYvndEpD9+/fL6W9FIjN//vwSdUViMmHCBDk9r3jZXNxREYnHgAEDIBZDDAy0/dEOdmj1Ds0IFCgucCo+CQ++84v8dkR4AB5pVZtIFHBqgaCqXhi1dK+sg3gESzyKxY0CFLCfAMdr6taGSkDUOSo2Ajt0xfrz7MYUWLj5NGb+dExWTrx8Ll5C50YBZxZ47N7auPdfa5GZnYvezYPw4bCia1U5c91Ydgo4gwDHa+qtxARE3VBbBHZobZQMRIECgacW7sCumOvw9XLH5IebwN3VlToUcGqBpzvVw5APdmBn9HVU9nTDr//oDS93Tivt1I3KwjuVAMdr6s3FBETdUFsEdmhtlAxEASlwMzUTbf9vHcQCbg/fUwv3N65BGQo4vYBIQArf2fs8shNndnP6VmUFnEmA4zX11mICom6oLQI7tDZKBqKAFPjh0AU8v2y//HrW4FbIys6lDAWcXkAkICcvJ6H3v/PebRrVtQFe6d/c6evFClDAWQQ4XlNvKSYg6obaIrBDa6NkIApIgZe+PIBvfs1btG33tF74+Wg8ZSjg9AIiARGzu3WbtRFxCakIC6yMDRN7OH29WAEKOIsAx2vqLcUERN1QWwR2aG2UDEQB5OTkosP0n3EtOQOt6vph5fNdsWzXWcpQwOkFRAIitn98fwSf3F7fZtPEHqgfyOl4nb5xWQGnEOB4Tb2ZmICoG2qLwA6tjZKBKID9ZxPwh/e3S4nxvRrhxd6NmYCwXxhCID8B2XgsHiOX7JF1+ueA5hgZ0cAQ9WMlKODoAhyvqbcQExB1Q20R2KG1UTIQBfDO2uN4d8MpKfH9cxFoHVKNCQj7hSEE8hOQtMxsOR1vWmYOujUKxKejOhmifqwEBRxdgOM19RZiAqJuqC0CO7Q2SgaiAPrP3YIj5xMR6OuF3VN7wdXVhQkI+4XhBJZuj8Xxy0lwc3XB3x9pVmQ63vxExXCVZoUoUMECHK+pNwATEHVDbRHYobVRMpDJBeIT09BxxnqpMLhdXbz1RGv5Nd8BMXnHMGD1d0Zfw8qDF2TNxIrozYKrFtSSCYgBG5xVcggBjtfUm4EJiLqhtgjs0NooGcjkAsv3nMXfvj4sFd7/U1v0axnMBMTkfcKo1U9IycDsNcdl9TrU98cf2tRhAmLUxma9HEaA4zX1pmACom6oLQI7tDZKBjK5wOhP92LNb5fh7uoiV4muWsmDCYjJ+4SRq/+fn08gPikdft4emPxQE7i4uMjq8g6IkVuddatIAY7X1PWZgKgbaovADq2NkoFMLJCelY02/1qHlIxsdAkPwLI/dy7Q4CNYJu4YBq766iMX8cvJq7KG43o2RLCfNxMQA7c3q1bxAhyvqbcBExB1Q20R2KG1UTKQiQW2nLyCZz7aLQXES7mR3cKYgJi4P5ih6jFXk/HhlmhZ1T7Ng9CjSU0mIGZoeNaxwgQ4XlOnZwKibqgtAju0NkoGMrHAa//7DYu3xUqB9RO6I7yGLxMQE/cHM1Q9OycX01cdldPxhvr7YHT3cCYgZmh41rHCBDheU6dnAqJuqC0CO7Q2SgYysUCP2RsRey0FoQE+EKtD5z8PL0j4CJaJO4bBq/7f3Wdx+PxNiLc/pvVrBh8vd74DYvA2Z/UqToDjNXV7JiDqhtoisENro2QgEwkUTiquJqXjnZ9PyNrfFx6AAa1qm0iCVTWzwK9nE/DVvjhJ8FT7ELnwJl9CN3OPYN3LU4DjNXVdJiDqhtoisENro2QgEwkUTkC2nrqKVYcvytqP7FIfjYKqmEiCVTWzwK30LMxcFYVcAPeGVMOT7UOYgJi5Q7Du5SrA8Zo6LxMQdUNtEdihtVEykIkECicgH22NxukryfB0c5UvoLu7uZpIglU1u8D8TadwLiEVPp5umNqvGYZ2DjU7CetPgXIR4HhNnZUJiLqhtgjs0NooGchEAvkJSHpmNl7/MQrZublyNWixKjQ3CphJYP2xy1gfFS+rPPr+MLzcr5mZqs+6UsBuAhyvqVMzAVE31BaBHVobJQOZSCA/ATly/iaW7T4ra/6He+ugQwN/EymwqhQAziekYt6mU5KiR5MaWDKyI1koQIFyEOB4TR2VCYi6obYI7NDaKBnIRAL5CcjXv8Zh35kEWfO/PdxUrgrNjQJmEsjJzcWbPx1DUnoWgv0qYcfLvcxUfdaVAnYT4HhNnZoJiLqhtgjs0NooGchEAiIBKTzwqu1XCc/3bGQiAVaVAr8LFE7Ed77cC7X8KpGHAhTQLMDxmjooExB1Q20R2KG1UTKQiQREAlL40ZMHmtRA7+a1TCTAqlLgd4HCjyK+MaglhnSsRx4KUECzAMdr6qBMQNQNtUVgh9ZGyUAmEhAJyPqoy1h/LO/l2zHdw1HP38dEAqwqBX4XSMvMxvTbkzH0aR6ED4a1Jw8FKKBZgOM1dVAmIOqG2iKwQ2ujZCATCYgE5P1NpxBXaPpRVxexHjQ3CphTYNHWaERfSZbT8e7/R294ubuZE4K1pkA5CXC8pg7LBETdUFsEdmhtlAxkIoGFm09j5k/HZI3bhFTDE+1DTFR7VpUCdwpsPXkFq45ckj/4dFRHdGtUg0wUoIBGAY7X1DGZgKgbaovADq2NkoFMJDDhy4MQL96KbUiHELSqW81EtWdVKXCnQHxSGv7z80n5g2cjGuAfA5qTiQIU0CjA8Zo6JhMQdUNtEdihtVEykIkE+r+7BUcuJMLVBZjWrzm8Pfm4iYman1UtQSA3NxdvrzuB68kZaBBYGRsn9qATBSigUYDjNXVMJiDqhtoisENro2QgkwhkZuegxT/XID0rB/UDKuP/3R9mkpqzmhS4u8D/Dl7AjuhrcieRgIhEhBsFKKBHgOM1dUcmIOqG2iKwQ2ujZCCTCGw/fRVPf7hL1vbhe2rh/sZ81t0kTc9qliFw4nISlmyPlXv9o39zPNu1Ac0oQAFNAhyvqUMyAVE31BaBHVobJQOZROD1H45i0dYYWdvxvRohqCoXXTNJ07OaZQiIu4Nv/HQMqZnZiGgYgM8jO9OMAhTQJMDxmjokExB1Q20R2KG1UTKQCQTEc+493tqEM9dSUN3HAxP7NIELp981QcuzipYKbDoej7VHL8Pd1QX7/t4bfj4elh7K/ShAgbsIcLym3j2YgKgbaovADq2NkoFMIHDsUiIe/s8WWdOuDQPRr2WwCWrNKlLAcgFPd1dMXHFQHvCfp+7FwDZ1LD+Ye1KAAqUKcLym3jmYgKgbaovADq2NkoFMIPDu+pN4Z90JWdM/dwvjS7YmaHNW0TqBvi1qod3r65CTC/RrWQvv/6mddQG4NwUoUKIAx2vqHYMJiLqhtgjs0NooGcgEAo+8uwW/XUhEZU83vNyvGbj6uQkanVW0SuDpTvUw5IMd2Bl9Xa6K/usrvVHJg9NUW4XInSlQggDHa+rdggmIuqG2COzQ2igZyOACcQkp6PrmRlnL9qHVMahtXYPXmNWjgPUCIgH5eGsM/vXDUXnwxyPao2fTIOsD8QgKUKCIAMdr6h2CCYi6obYI7NDaKBnI4AKFB1XDOoeiaXBVg9eY1aOA9QIiATl3PQXdZuUl60M6hOCNx1tZH4hHUIACTEA09wEmIJpBVcIxAVHR47FmEij8WMnfHm4KDzdXM1WfdaWARQIiARFbvzlbcPRiIgJ9PbFr6oNwc3Wx6HjuRAEKlCzA8Zp6z2ACom6oLQI7tDZKBjKwQEJyRpEXa7s25OKDBm5uVk1BID8B+fe6E5iz/qSM9NWY+9C+vr9CVB5KAQpwvKbeB5iAqBtqi8AOrY2SgQwssGLvOUz66pCsoZhaNCUj28C1ZdUoYLtAfgLy24WbeOTdrTLQ/7s/DFP7NbM9KI+kAAXA8Zp6J2ACom6oLQI7tDZKBjKwwJ8/2Yt1+YurvdIbPx66aODasmoUsF0gPwERi3aKSRvO30hFaIAPNk3swUU7bWflkRRgAqKhDzAB0YCoKwQTEF2SjGNUgZSMLLT51zqkZ+WgW6NAfDqqE5btOmvU6rJeFFASyE9ARJDX/vcbFm+LlfHWvng/GgdVUYrNgylgZgGO19Rb31AJSHZ2NmbPno1Fixbh3LlzCAkJQWRkJCZNmgQ3t7vPfT5ixAgsXbq0RFERq27dotN8HjlyBJMnT8bWrXm3tbt27YpZs2ahRYsWNrcKO7TNdDzQJAKrj1zCmM/2ydr+38AWeKZzKBMQk7Q9q2m9QOEEZMfpa/jjhztlkIl9GuP5no2sD8gjKEABKcDxmnpHMFQCMnbsWMyfPx8jR45Ely5dsH37dixevBji+/PmzburVn4CIpIQV9eiM+oMGjQIPj4+BcefPHkSHTp0gL+/P8aNGye//+677+LGjRvYvXs3GjWy7cLODq3eoRnB2AIvLT+Ab/afl5Xc+XIv1PKrxATE2E3O2ikIFE5AsrJz0H76z7iRkolWdf2w8vmuCpF5KAXMLcDxmnr7GyYBOXz4MFq3bi0Tgjlz5hTIjB8/HnPnzsXBgwfRsmXLUsXyE5DMzEy4u7vfVXbw4MFYvXo1oqKi5F0WsYm7JM2aNUPfvn2xYsUKm1qGHdomNh5kEoFMMYB6/WfcTM1E65Bq+P65CFlzPoJlkg7AalotUDgBEQdP+PIgvv41TsbZNqUn6lTztjomD6AABXgHREcfMEwCMm3aNMyYMQPR0dFo0KBBgU1MTAzCwsIwdepUTJ8+vcwEJCMjA6mpqfD19b3jTog4+NatWwgICMCQIUPueGRr+PDhWL58Oa5evSqPt3ZjAmKtGPc3k8DG4/EYuXiPrLJY++MvPcKZgJipA7CuVgsUT0DE5A1iEgexvdy3KUZ3z/sd4kYBClgnwPGadV4l7W2YBOShhx6SdzkuXbp0Rz2DgoLQpk0bedeitC3/DkiVKlWQlJQEb29veTdDvNcRHv77RXrHjh3y8S7xqNeYMWOKhBPfE497iX06d+5sdeuwQ1tNxgNMJPDSlwfwza95j19tmfwAQvzzHovkHRATdQJW1SqB4glIRlYOOkzPu4vYPLgqVo3vZlU87kwBCuQJcLym3hMMk4CIx6s8PT2xb1/eC6qFt7Zt20I8WiUe0yptmzJlitynXbt28PLyws6dO+WjWyIh2bt3L0JDQ+WhX3/9NcQjWCtXrsSAAQOKhBPfe+yxx/DVV1/h8ccfv2vrXLx4EeJP4U080jV06FBZB1FmbhSgQJ5AWma2fPzqVnoW7g2phu9uP34lfsYEhL2EApYLfPNrHPaeSZAH/LVXI9SsWkl+XTxZsTwi96SA+QSYgKi3uWESEHGXQtzpEC+eF9/EHYv4+HicOnXKKrF169ahT58+EI9WLVmyRB776aefYtiwYVizZo38WeFt7dq1EHdixD4ikbjb9uqrr+K1114rcRcmIFY1E3c2gUDh2a9e6d8co7r+/pglExATdABWUZvA6Su38NHWGBnvgSY10bt5EBMQbboMZBYBJiDqLW2YBET1DkhplOKOiLhTceHCBbkL74CodzpGoIAlAoUTi//uPovD52/CBcDkh5vCz9vDkhDchwIUKCaQk5uLWauPITEtC/6VPTGhd2O5KCHvgLCrUMByASYglluVtqdhEhDVd0BKAxJT8P7www8QL6eLje+AqHc6RqCAJQL5CYh4bn36qqPIzM5Fg8DK+HO3MEsO5z4UoEApAqsOX8TWU1flT8f2CEfd6j5MQNhbKGCFABMQK7BK2dUwCYiY5WrmzJk2z4JVGmWrVq2QkJAgp9kVW1mzYH3xxRe4du0aZ8FS75uMYHKB/ATkYNwNLN+T9/v3aOva6BwWYHIZVp8CagJxCSl4f9NpGSQiPACPtKrNBESNlEebTIAJiHqDGyYBETNgiZmuSlsH5MCBAxDJhHjR/PTp0/Dz80NwcLAUTE5Olmt/iJfPC29iSl0x3e7o0aOxYMGCgh+JF8zFOyDHjh0rWCE9fx0QcSdGPKZly8YObYsajzGqQH4C8unOM4i6mAhXF2BK32bw9br7Oj1G9WC9KKBLIDc3F++sO4FryRmo4uWOv/VtiqGd8yZa4UYBCpQtwPFa2UZl7WGYBERUVEyLu3DhQrkSekREBLZt2yZXQi+cQMTGxsp1Qgq/WC6Sk0ceeQQDBw6Uq5iL2bTEo1bLli2TCw3u2rVLvuCevx0/fhwdO3aU64G88MIL8ttiJXRx50OshN6kSZOy3Ev8OTu0TWw8yKACIgERs19NXxWF7JxcNKrpi5ERv798btBqs1oUsIvAz1GXseFYvDyXmNRBTO7AjQIUsEyA4zXLnO62l6ESkKysLLlux6JFixAXFyfvTkRGRmLy5MkFq5uXlICItUMmTJiAPXv2yJfNxV0SkXiIaXbFAoeBgYF3GB46dEjGFUmO2Lp27Yo333xT3mWxdWOHtlWOxxlRQCQgv55JwFe3V25+vG0dtAv1N2JVWScK2F3gSlI6/v3zCXne9qHV8dVfuti9DDwhBZxVgOM19ZYzVAKizlGxEdihK9afZ3csAZGALNkegxOXb8HNxQVT+zWDt6ebYxWSpaGAEwu8t/EkLtxIQyUPVxz8Zx94ufP3y4mbk0W3owDHa+rYTEDUDbVFYIfWRslABhD48JdozPwpCjm5QNNaVTDsvvoGqBWrQAHHEdhy8gp+OnJJFuiDZ9qhzz21HKdwLAkFHFiA4zX1xmECom6oLQI7tDZKBjKAwPgv9uP7A3nr7zzZPkSugM6NAhTQJ3AzNVOuCZILyAUJPxzWXl9wRqKAgQU4XlNvXCYg6obaIrBDa6NkIAMIdHtzA84lpMLDzQVT+zaDlwcfDzFAs7IKDiaweFsMTsbfkrPMbZvSE8F+3g5WQhaHAo4nwPGaepswAVE31BaBHVobJQM5ucCp+CQ8+M4vshZtQqrhifYhTl4jFp8Cjilw9MJNfLbrrCzc+F6N8GLvxo5ZUJaKAg4kwPGaemMwAVE31BaBHVobJQM5uYB492Ph5mhZi8iuDRBWw9fJa8TiU8AxBcQU17PXHENiWhaCqnph6996wsPN1TELy1JRwEEEOF5TbwgmIOqG2iKwQ2ujZCAnFsjKzsF9b2yAmCa0uo8HJvRpAlcXFyeuEYtOAccWWB91GetvrwmyYGg7PNyCL6M7douxdBUtwPGaegswAVE31BaBHVobJQM5scCGY5fx7JK9sga9mtZEr2a/LwLqxNVi0SngsALiZfS31h6XC352axSIT0d1ctiysmAUcAQBjtfUW4EJiLqhtgjs0NooGciJBcZ+vg+rDudNDTqpTxNUr+zpxLVh0SngHAKbT8RjzW+XZWE3TeyB+oGVnaPgLCUFKkCA4zV1dCYg6obaIrBDa6NkICcVSEjOQKcZ65GRnYOwGpUR2TXMSWvCYlPAuQRC/L3xzEe7ZaH/3/1hcuFPbhSgQMkCHK+p9wwmIOqG2iKwQ2ujZCAnFViyLQav/u+oLP0T7eqiTb3qTloTFpsCziUwpEMIHnh7E85cS5HvXu14uRcqcepr52pEltZuAhyvqVMzAVE31BaBHVobJQM5qUD/uVtw5HwifL3cMbFPE3i6czYeJ21KFtvJBJ7uVA8f/HIaM1YdkyX/91Ot8Yc2dZ2sFiwuBewjwPGaujMTEHVDbRHYobVRMpATCkRdTETfOVtkycWnsa3qcuVzJ2xGFtlJBUQCcj05A51nrkdGVg7ahVbH13/p4qS1YbEpUL4CHK+p+zIBUTfUFoEdWhslAzmhwL/+dxQfb4uRJf9qzH04cfmWE9aCRaaAcwqIBERsLy4/gG/3n5dff/dcBO4N4QcBztmiLHV5CnC8pq7LBETdUFsEdmhtlAzkZAJpmdno8sYG+QlsWGBlrJ/QHf/dfc7JasHiUsB5BfITkENxN/Doe9tkRfq1rIX3/9TOeSvFklOgnAQ4XlOHZQKibqgtAju0NkoGcjKBb36Nw0tfHpSl/tvDTfGXHuFYtuusk9WCxaWAMQQWbY1G9JVkiOU/X+rdGAG+XgUVy09UjFFT1oICtglwvGabW+GjmICoG2qLwA6tjZKBnEzgD+9vw/6zN+RL5ztf7gX/yp5MQJysDVlc4wicuJyEJdtjZYU6NvDHwHvrMAExTvOyJhoEOF5TR2QCom6oLQI7tDZKBnIigSPnb6L/3K2yxIPa1sE7T94rv+YdECdqRBbVUAK5ubmYu+EULiWmwd3VBZMfbipnphMb74AYqqlZGRsFOF6zEa7QYUxA1A21RWCH1kbJQE4k8LevDmH53rz3Pb4d26Vg7Q8mIE7UiCyq4QQOnEvAl3vjZL0eaFITvZsHMQExXCuzQrYKcLxmq9zvxzEBUTfUFoEdWhslAzmJwM2UTHSa+TPSMnPQso4fVj4fARcX8eQ574A4SROymAYVyM7JxVtrj+Nmaia8Pdww+eEm8HJ34x0Qg7Y3q2WdAMdr1nmVtDcTEHVDbRHYobVRMpCTCCzaEo3Xf4ySpZ31eCs82SGkoOS8A+IkjchiGlZg26mr+PHwRVm//q2C0SU8kAmIYVubFbNGgOM1a7RK3pcJiLqhtgjs0NooGcgJBHJyctHrnc2IuZoMP28P+fK5t6cbExAnaDsW0RwC6VnZmLX6OFIzs1HN2wMT+jTBM/eFmqPyrCUF7iLA8Zp692ACom6oLQI7tDZKBnJQgcJ3NU5eTsLi2zPtdG0YiH4tgx201CwWBcwrsPboJWw6fkUCPNk+BLMGtzIvBmtOgdsCHK+pdwUmIOqG2iKwQ2ujZCAHFSicgHy68wyiLibKkk4ottaAgxafxaKA6QSS0jIxe81xZOXkItivErZP6VnwnpbpMFhhCjAB0dYHmIBoo1QPxARE3ZARHFsgPwG5kZIhBzW5ABrV9MXIiAaOXXCWjgImFvhu/3nsjr0uBT55tiPub1zDxBqsOgUAjtfUewETEHVDbRHYobVRMpCDCuQnID8dvogtp67KUj7TORTNgqs6aIlZLApQ4OqtdPx73Qn5gUFEwwB8HtmZKBQwtQDHa+rNzwRE3VBbBHZobZQM5KACIgFJy8zGm6uPIT0rBwGVPfFi78ZwvT31roMWm8WigOkFPt91Br9dyHtk8odxXdGijp/pTQhgXgGO19TbngmIuqG2COzQ2igZyEEFRAKy5eQV/HTkkizho61ro3NYgIOWlsWiAAXyBc5dT8H8zaflPwe0ro25f2xDHAqYVoDjNfWmZwKibqgtAju0NkoGclCBT3bE4q01x5GYlgUfTzdMfqgpPN1dHbS0LBYFKFBY4INfohF7LRmuLsDmSQ8gxN+HQBQwpQDHa+rNzgRE3VBbBHZobZQM5KACk1YcxIp9cbJ0PZvWxIPNghy0pCwWBShQXODYpUR8suOM/Pbw+0Lx2mMtiEQBUwpwvKbe7ExA1A21RWCH1kbJQA4okJubi/tmbsClxDS4u7pg8sNN4evl7oAlZZEoQIGSBHJycyHuYp64fAuVPFyxfUov+Ff2JL3qM6EAACAASURBVBYFTCfA8Zp6kzMBUTfUFoEdWhslAzmggHj345mPdsuSdazvj4Ft6jhgKVkkClDgbgLikcmJKw7KXf76YCP89cHGBKOA6QQ4XlNvciYg6obaIrBDa6NkIAcUeOajXdhy8ipcALz4YGMEVvFywFKySBSgwN0EBreri/tnbZR3Mqv7eGDblJ7w8eSdTPYacwlwvKbe3kxA1A21RWCH1kbJQA4mIFY87ztniyxV8+CqGNo51MFKyOJQgAKWCDzdqR4+/CUa01dFyd3/0b85nu3KhUQtseM+xhHgeE29LZmAqBtqi8AOrY2SgRxM4KXlB/DN/vOyVKPvD0NoQGUHKyGLQwEKWCIgEpBb6VmIeGMDbqZmItivkpwRi7PZWaLHfYwiwPGaeksyAVE31BaBHVobJQM5kMDZayl44O1NyM7JRUh1b/ylR0MHKh2LQgEKWCMgEhCxvbPuBN5df1J+PWtwKzzZPsSaMNyXAk4twPGaevMxAVE31BaBHVobJQM5kMDL3xzCf3efkyUa1jkUTYOrOlDpWBQKUMAagfwEJCE5A13e2IDUzGyE1aiMdS92h5tYIIQbBUwgwPGaeiMzAVE31BaBHVobJQM5iMD5G6noMXsjMrNzcU/tqni6Yz24uHCQ4iDNw2JQwGqB/AREHPiv/x3Fx9tiZIz5f2qLvi2DrY7HAyjgjAIcr6m3GhMQdUNtEdihtVEykIMI/PP7I1h6e+GyBUPb4npypoOUjMWgAAVsESicgFy8mSpnxBIfMLSs44eVz0fwAwZbUHmM0wlwvKbeZExA1A21RWCH1kbJQA4gEJ+Yhq6zNiIjKweNg3yxevz9+GJP3qNY3ChAAWMIfL0vDvvOJsjKjIyoj0Y1qxRUrHCyYozashYUyBPgeE29JzABUTfUFoEdWhslAzmAwOs/HMWirXmPZ8wZci8eu7cOlu066wAlYxEoQAFdAleS0vGfn08gF0BYYGVEdgtjAqILl3EcVoDjNfWmYQKibqgtAju0NkoGqmCBa7fS0fXNjfIF1QaBlfHzS3kvqDIBqeCG4ekpUA4Cn+86g98uJMrIY7qHo56/j/yad0DKAZshHUKA4zX1ZjBUApKdnY3Zs2dj0aJFOHfuHEJCQhAZGYlJkybBzc2tVK2UlBR88sknWLlyJQ4fPoxr166hfv366N+/P6ZOnYpq1aoVOXbEiBFYunRpifHEeevWrWtTy7BD28TGgxxQYNbqY3h/02lZstmDW+GJ21N0MgFxwMZikSigKHA+IRXzNp2SUcTjliO65C1MyAREEZaHO6wAx2vqTWOoBGTs2LGYP38+Ro4ciS5dumD79u1YvHgxxPfnzZtXqtaRI0fQqlUrdOvWDQ899BBq1qyJffv2yURGJCLi66pVf586ND8BEUmIq6trkbiDBg2Cj0/epz/WbuzQ1opxf0cUuJmSiYg3N8jFyupW98bGiT3g4Zb3e8IExBFbjGWigLrA0u2xOH45SQb6S/dwhPj7MAFRZ2UEBxXgeE29YQyTgIg7F61bt8a4ceMwZ86cApnx48dj7ty5OHjwIFq2bFmi2NWrV3HhwgWZhBTePv74Y4waNQpvv/02XnrppYIf5ScgmZmZcHd3V2+F2xHYobVRMpCdBQonFmt/u4RNJ67IEjx2b210ahBg59LwdBSggL0F4hJSCu56NgmqguFd6jMBsXcj8Hx2E+B4TZ3aMAnItGnTMGPGDERHR6NBg7zbv2KLiYlBWFiYfJRq+vTpVoklJibCz88Pzz77LD766KM7EpCMjAykpqbC19f3jjshVp2ICYgtXDzGgQTyExBx1+OtNceRkZ2Daj4eeKl3Y7gXu0voQMVmUShAAY0Cxe+C/K1vU43RGYoCjiPABES9LQyTgIhHp8RdjkuXLt2hEhQUhDZt2mD16tVWiR0/fhxNmzbFlClTMHPmzDsSkCpVqiApKQne3t7o27cvZs2ahfDwcKvOUXhndmib6XhgBQvkJyA/HrqAbaevydI83rYO2oX6V3DJeHoKUMBeAsXvgqx58X57nZrnoYBdBTheU+c2TAIiHq/y9PSU72sU39q2bQvxuJR4TMuabdiwYfjss8+wf/9++XhX/iYSEhGvXbt28PLyws6dO+VjXiIh2bt3L0JDQ8s8zcWLFyH+FN6ioqIwdOhQWQdRZm4UcBYBkYDcTM3E22uPIysnFwGVPfHXBxvLma+4UYAC5hEofBfku+cicG9I0UlczCPBmhpZgAmIeusaJgERdx7EnQ7x4nnxTbyQHh8fj1On8mbpsGT74IMPMHr0aPnuh3gHpKxt3bp16NOnD4YPH44lS5aUtTteffVVvPbaayXuxwSkTD7u4GACIgH5/sB57Iq5Lkv2VPsQtObAw8FaicWhQPkLnLuegvmb82bAe6BJDSwe2bH8T8ozUMDOAkxA1MENk4DovAPy3XffYfDgwejXrx+++eYbi180F3dExF0N8UJ7WRvvgJQlxJ87k8B7G07hnXXHkZMLBFX1wriejeDqwrsfztSGLCsFdAkUvgvy/XMR/DBCFyzjOIwAExD1pjBMAqLrHZC1a9fi0UcfldP4rlq1CpUqVbJYWUzB+8MPP0C8nG7Lxg5tixqPcQSBQe9vx69nE2RRhnaqh+a1/RyhWCwDBShQAQKF74Lc37gGPnmWd0EqoBl4ynIU4HhNHdcwCYiY5Uq8KK4yC9bmzZvly+Tibsr69evl7FbWbGIa34SEBLkIoi0bO7QtajymogVOX7mFB9/ejFwAdap5Y2yPcLjw7kdFNwvPT4EKFSh8F2TJyA7o0aRmhZaHJ6eATgGO19Q1DZOAiBmwxExXpa0DcuDAAbnOh3h5/PTp03J63eDg4ALBXbt24cEHH5RT+IpEpHr16iXqJicny0eyxMvnhbfly5djyJAh8r2RBQsW2NQy7NA2sfGgChYY+/k+rDqcN/vciC710TioSgWXiKenAAUqWuByYhre23gK2Tm5aFTTFz+N7wb32wuSVnTZeH4KqApwvKYqCBgmAREUY8aMwcKFC+VK6BEREdi2bZtcCb1wUhAbGyuTjMIvi585c0YmL2JK3TfeeEO+zF54E//u3bu3/JZIZB555BEMHDgQjRo1kjNv7dixA8uWLUNISAhEIlP8eEubiR3aUinu5ygCe2Kv44kFO2Rx6gf44M/dwnj3w1Eah+WgQAULRF1MxKc7z8hS/N9j9+CZ++pXcIl4egroEeB4Td3RUAlIVlaWXItj0aJFiIuLQ926dREZGYnJkycXvEheUgKyadMmPPDAA6Vqdu/eHWIfsYl1RiZMmIA9e/bIl83FHRWReAwYMABiMcTAwECbW4Ud2mY6HlgBAjk5uRj4/jYcirspzy4evapb3acCSsJTUoACjijwcIta6D57I5LSslDdxwObJj0AP28PRywqy0QBqwQ4XrOKq8SdDZWAqHNUbAR26Ir159mtE/h2fxxeXH5QHtQmpBqeaB9iXQDuTQEKGFrg6U718OEv0Zi+KkrWM7JrA/y9f3ND15mVM4cAx2vq7cwERN1QWwR2aG2UDFTOAqkZ2ej59iZcvJmGSh6uGN+rMT/ZLGdzhqeAswmIBCQ9Kxt9/v0LzlxLgYebC9a+2B0NAis7W1VYXgoUEeB4Tb1DMAFRN9QWgR1aGyUDlbPAnJ9P4t8/n5BneaFXI9Sqavl01eVcNIanAAUcREAkIGJbfeQSxny2T37dp3kQPhjW3kFKyGJQwDYBjtdscyt8FBMQdUNtEdihtVEyUDkKiNlteszehNTMbNSs4oVNk3rgu/1lL75ZjkViaApQwAEF8hOQ3NxcDPlgJ3bFXJel/HBYe/RuXnSyFwcsPotEgVIFOF5T7xxMQNQNtUVgh9ZGyUDlKDBxxUF8tS9OnmH24Fby3Y9lu86W4xkZmgIUcEaB/ARElP3ohUQ8+t5WZOXkIqCyJ1b/9X7UqFJ0OntnrCPLbE4BjtfU250JiLqhtgjs0NooGaicBHZFX8NTH+yU0VvUqYqVz3WFq6sLE5By8mZYCjizQOEERNTjvQ0n8dbavEc3ezWtiUXD23PabmduYBOXneM19cZnAqJuqC0CO7Q2SgYqBwHx4vnDc/JeJhXbijH3oUN9f/k174CUAzhDUsBgAmJRwg+3ROPs9bxryMB766BjA38UT1QMVm1Wx4ACHK+pNyoTEHVDbRHYobVRMlA5CPzrf0fx8bYYGVmseP7qo/cUnIUJSDmAMyQFDChwPTkD7244iYysHDkr1riejeREFtwo4EwCHK+ptxYTEHVDbRHYobVRMpBmAbHi+ZMLdyA3F6jn74PVf+0GH093JiCanRmOAmYQ2Bt7Hd/sPy+rGlLdGxsn9oC7m6sZqs46GkSA4zX1hmQCom6oLQI7tDZKBtIoIB696vfuFsRcTZZR//vnzrgvPKDIGXgHRCM4Q1HA4AJiVqzPd53F0YuJsqaju4fh5b7NDF5rVs9IAhyvqbcmExB1Q20R2KG1UTKQRoHXfziKRVvzHr0afl8oXnusxR3RmYBoBGcoCphA4FZ6Ft5dfxLib7HNHNQSf+yYt24INwo4ugDHa+otxARE3VBbBHZobZQMpEFAJBXirseiLdHIBVDdx0M+q+3l7qYhOkNQgAJmFzhzLRkfbY2RU/O6ubrg4xEd0L1xDbOzsP5OIMDxmnojMQFRN9QWgR1aGyUDaRCYv+k05m08VfAJ5aiuDRBew1dDZIagAAUokCdw+PxN/Hd33jpClT3dsGJMFzSvXZU8FHBoAY7X1JuHCYi6obYI7NDaKBlIUSAtMxu93t6M8zdSZaT7GwXi4RbBilF5OAUoQIE7BZLSMjHzp2PyB7WqVsK3z3VBsJ83qSjgsAIcr6k3DRMQdUNtEdihtVEykIKAeEH0pS8P4tvbs9Q0DvLFsPvqw9XFRSEqD6UABShQssAfO4bgle+P4LOdeXdCmtaqIie7qF7Zk2QUcEgBjtfUm4UJiLqhtgjs0NooGUhBQLzz8fqPUTJCQGVPjO3REN6efO9DgZSHUoACdxEQCxFmZefgz5/sxcbjV+Se99Suis8jO6GaD5MQdh7HE+B4Tb1NmICoG2qLwA6tjZKBbBTYcvIKhn+8Gzm5gJe7K/7SPRw1q1ayMRoPowAFKFC2QP5K6MnpWRixeDf2xCbIg1rW8cNnozrBz8ej7CDcgwJ2FOB4TR2bCYi6obYI7NDaKBnIBoHDcTfx9Ic7kZSeBfG01dBOoWgWzJdBbaDkIRSggI0C6ZnZWLw9Fmevp8gIdat7Y2SXBgV3YfOTFRvD8zAKaBHgeE2dkQmIuqG2COzQ2igZyEqBE5eT8NTCHUhIyZRHTnqoCarz0QcrFbk7BSigQ0BMgrF4WwzOJeRNgiFWSx8Z0QCVPNzABESHMGOoCnC8pioIMAFRN9QWgR1aGyUDWSEQezUZTyzcgStJ6fKoZyMa4JX+zfDf3eesiMJdKUABCugTEEnIx9tiEHc7CalTTSQh9RHZLUzfSRiJAjYKcLxmI1yhw5iAqBtqi8AOrY2SgSwUuHAjFU8s2FEw3e6QDiFyRWIXFxdwdXMLEbkbBShQLgKpGeJxrN+TEDFF7//GdUWNKl7lcj4GpYClAhyvWSpV+n5MQNQNtUVgh9ZGyUB3EchPLBLTMuUq51dvZci9W9f1wxPtQzjdLnsPBSjgMALiTsjSHbE4cy3vnZCwGpXl7FhcJ8RhmsiUBeF4Tb3ZmYCoG2qLwA6tjZKBykhAEpIz8NG2GFxPzks+xMvmT3esBzdXrvXBzkMBCjiWQEZWDj7beQanrtySBQvx98ayyM4I8fdxrIKyNKYR4HhNvamZgKgbaovADq2NkoHuIvCfn0/g460xSEzLknuJhQb/1CkUHm6udKMABSjgkAKZ2Tn47+6zOHYpSZavZhUvLH22I2fqc8jWMn6hOF5Tb2MmIOqG2iKwQ2ujZKBSBI6cvylnu0rOyJZ7iMW+nuoQAndXJh/sNBSggGMLZOfkYmfMNfx46KIsaBUvdywc1g5dwgMdu+AsneEEOF5Tb1ImIOqG2iKwQ2ujZKASBPaduY4Ri/cg6fadj7b1quMPberwsSv2FgpQwGkExAcmr678DZ/uPCPL7OnmirefbI0BrWs7TR1YUOcX4HhNvQ2ZgKgbaovADq2NkoGKCXzzaxymfHMY4llqsXUOC0D/VsF84Zw9hQIUcCoBsQ5Ibm4u5m08hbfWnigo+yv9m2NU1wZOVRcW1nkFOF5TbzsmIOqG2iKwQ2ujZKDbAuKRhVlrjmHh5ugCkx5NaqB3syA51S43ClCAAs4qIO7qfrv/PHJy82rQPrS6vBMi3mfjgoXO2qrOUW6O19TbiQmIuqG2COzQ2igZCEBSWibGf3EAG47FSw/xqMKMQS0L7oIQiQIUoICzCxy/lIhlu88iMzsvCxELFooZ/Z7r2dDZq8byO7AAx2vqjcMERN1QWwR2aG2Upg8kXjb/6/IDOBWfN21loK8nFj7THu1Cq3OBQdP3DgJQwFgCF2+m4vNdZwumFff2cMOCZ9qhe+Maxqooa+MwAhyvqTcFExB1Q20R2KG1UZo2kHjH470NJzFv02mIx6/E1jy4Kj4c3l5+Mig2rnBu2u7BilPAsAJi1fQV+84VTNMrnjD9S/dwvNCrESp5uBm23qxYxQhwvKbuzgRE3VBbBHZobZSmDCTuekxccbDgP2CBMKhtHbw+sAV8PN0LTJiAmLJ7sNIUMLxATm4ufjlxBeuOXsbt10LkyulvDGqFjg38DV9/VtB+AhyvqVszAVE31BaBHVobpakCXU5Mk+967I65VvAyZtVK7hh4bx00Da5qKgtWlgIUoIB49PSnIxdx8WZaAcbQzvXwt4ebokolDwJRQFmA4zVlQjABUTfUFoEdWhulKQLFJ6VhwaZofL7rDNJvT68rKt62XjU80rI2vD352IEpOgIrSQEK3CEwoHUwZq85jk925K0XIragql6Y0KcJHm9bl+sfsc8oCXC8psQnD2YCom6oLQI7tDZKQwc6cy1Z/qcqEo+0zLx1PcRWs4oX+raohSa1eNfD0B2AlaMABSwWENfLb349jyu30oskIg/fE4zGQb5yOnJO2WsxJ3e8LcDxmnpXYAKibqgtAju0NkrDBcrJycUvJ6/IxGPj8Xjk5j/gDCAssDI61PdHy7p+XFjQcC3PClGAAqoCmdk58vq55cRVZGT//qGNeD+kT7MgTOnXTPUUPN5kAhyvqTc4ExB1Q20R2KG1URom0EdbYvDr2QTsjL6Ga8kZReoVUNkTPZvWRKu61fg4gWFanBWhAAXKS0CsjbT+WDz2xl4veF9OnKtzmD+ee6AhujYM5AKt5YVvsLgcr6k3KBMQdUNtEdihtVE6faDjl5LwyY5YrNgbV+QTO7F2eeOgKrgvPAANa/ryjofTtzQrQAEK2FtAvD+35rfLiLqYWOTUrer6YfT94ehzT5BcTZ0bBUoT4HhNvW8wAVE31BaBHVobpVMGysrOkdNHLt0Ri53R14vUoZKHK9qH+qNTA38E+Ho5Zf1YaApQgAKOJHDhRio2nbiC3y7cLPJYa6CvF55oXxdDOoQgNKCyIxWZZXEQAY7X1BuCCYi6obYI7NDaKJ0q0NVb6fhi91m5km/haSNFJWpVrYT7wgLQOqQaPN35iZxTNSwLSwEKOIVApzB/LNh0Gt/uP4+s2wu45hc8omEAHm1dG72b14J/ZU+nqA8LWf4CHK+pGzMBUTfUFoEdWhulwwdKy8zGz1GX8d3+C9h8Ih6Z2b+/Ve7m6oKHW9TC8Pvq4+TlJD6T7PCtyQJSgAJGEEhMzZTv3O2JvY6ElMwiVXJ1gXz0tW+LYDx0Ty3UqMI70UZoc1vrwPGarXK/H8cERN1QWwR2aG2UDhnoZmqmfJl87W+Xsea3S7iVnlWknIG+nni6Yz083SkUtfwqyZ9x1XKHbEoWigIUMLCAWFH9dPwt7I69jmOXkpBd7K6IiwvQsb4/+rUMlh8WBVXNu15zM48Ax2vqbc0ERN1QWwR2aG2UDhHoZkomDp+/KZOOraeu4lDcjSIzr4hCipfKxcvkbepVR4vaVeHOFx8dou1YCApQgAJCQNytFknIkfM3cfrKrSKLvuYLtQutjt7Ng/Bgs5oIr5G3tgg3YwtwvKbevoZKQLKzszF79mwsWrQI586dQ0hICCIjIzFp0iS4uZW9KvSRI0cwefJkbN26Vcp27doVs2bNQosWLe6QtmZfS5uJHdpSKcfbT9zd+O38TRw6f1MmHeI/qzPXUkotaN3q3rg3pBpa1vFDlUoejlchlogCFKAABYoIpGdlQ8xQeORCIo5fSizy6Gz+jmJ69Ka1quDP94ehfX1/+Hq5U9GAAhyvqTeqoRKQsWPHYv78+Rg5ciS6dOmC7du3Y/HixRDfnzdv3l21Tp48iQ4dOsDf3x/jxo2T+7777ru4ceMGdu/ejUaNGhUcb82+1jQRO7Q1WhWzr1jQSiQW4pMw8efohUSZbMTeJdkQJa3s5Y7wGpXRsIavvONRzYcvM1ZMC/KsFKAABdQFMrJycDI+SX7gJJKS9KzfFzjMjy7e5xN3tjuFBUDcJRFTqNfz9+G6Ter8FR6B4zX1JjBMAnL48GG0bt1aJg9z5swpkBk/fjzmzp2LgwcPomXLlqWKDR48GKtXr0ZUVJS8cyI2cRelWbNm6Nu3L1asWFFwrDX7WtNE7NDWaOnfV6w2Lu5kXLmVjitJ6bicmIbzCam4cDMVcQmp8uuz11PumCWleEncXFzkOxy1q3mjTjVvhPh7y2eEXXlbXn+jMSIFKECBChbIyslB7NUUHLuUKNcWKf4Ce+HiidkMxWNa4oOo2tUqoWaVSgiq6iX/jxCzbPl5e8g/XIekghu1jNNzvKbePoZJQKZNm4YZM2YgOjoaDRo0KJCJiYlBWFgYpk6diunTp5coduvWLQQEBGDIkCFYunRpkX2GDx+O5cuX4+rVq/D19YU1+1rbPOzQ1oqVvL9IJJIzsuRL3rfSspAo/qRm4npyBhJSMnAjJRPX5d8ZSEjOlN8Tf67dyigzuSgp2Qjy85KJRp1qPvJv8Z8J3+XQ05aMQgEKUMCZBHJzc+WHWGItkV0x17Er+hrik9KtroKPp1tBMlL1dlKSn5wU/ruqtzsqe7rLu+ziGPG3/NrDDa5i6i5u5SLA8Zo6q2ESkIceekje5bh06dIdKkFBQWjTpo28w1HStmPHDvnIlnh8a8yYMUV2Ed8Tj3CJfTp37iz/tnRfa5vHnh06NSNbvhgtLpb5E8Dmyi/y/iW+Lvz9/L2Kfv/3ffOOzC1YzKn4fgWTzMq4ef8SE4uIR5rEFLRiET4x/7q4rS0+TcrKzpXfFz8X/87f5/fv3f5Zdi5SM7MLkg2ZdBSbXcradihp/ype7qjm4yEXARTTL9a4/bd43pfJhg5hxqAABShgPAHxf+y15Ay5xpO4qy6SkfjENPmBV3bef7rltnl7iITEDZU83OQ6Up5urvLOivjaw81Ffu0lv3aVj4WJP+JOvbhZL+7ki69dXZH3t/wDmdQUfC1/fvv7t/cRx+b/XLyML/7tgrx98n8mvw+xn/he/s/y9pXnlz+TBxaKdft7t39W+Dxix/xYXRsGwtuz7Hd+VdHtOV5TLaujHm+YBEQ8XuXp6Yl9+/bdYd22bVtkZmZCPKZV0vb1119DPFa1cuVKDBgwoMgu4nuPPfYYvvrqKzz++OOwZt+7NfrFixch/hTeDhw4gFGjRuGzzz6Tj36V53bpZipGLd1bnqdw+NjiYixWGBcXZ/FHfHokLlw+4tMk+bU7qlZyly8RigszNwpQgAIUoIAOAZF6iBm2ktOzkJKR9yFaWmYOxIvu6bf/TsvKQXpmtny/JP975Zuy6KhZxcb4aHh71PLzLvdCiMf1hw4dKictioiIKPfzGfEEhklAwsPDIe50iBfPi2/ijkV8fDxOnTpVYht++umnGDZsGNasWYM+ffoU2Wft2rUQd1fEPqKzWbPv3TrMq6++itdee82IfYp1ogAFKEABClCAAoYXEB8Y/+lPfzJ8PcujgoZJQIxwByQhIUG+BC8eF/P2Lv8Mvjw6VHnFzP+0wR53h8qrDhURl262q9PONju62eYmjqKdbXZ0s82Nfc52t9TUVMTGxsoPqAMDA20PZOIjDZOAGOEdEBP3wzKrzuctyyQqcQe62eYmjqKdbXZ0s82NfY5utgvYfiR/X22345FqAoZJQMQsVzNnziyXWbC++OILXLt2zaJZsArvq9Y0PLqwAC+StvUHutnmxsEg3WwXsP1I/r7aZkc329x4nbPdjUeqCxgmAREzYIlHl0pbB0S84N2qVSv5Mvrp06fh5+eH4ODgAkHxgrl4B+TYsWOoW7eu/H7+OiDi7op4+Tx/s2Zf9SZiBF4kbe8D/I+ZdrYL2HYk+5xtbrzO0c12AduP5O+r7XY8Uk3AMAmIYBBT6C5cuFCuhC5mJdi2bZtcCX306NFYsGCBlBLP7Il1QsT6HkuWLCnQO378ODp27CjXA3nhhRfk98VK6OLOh1gJvUmTJjbtq9Y8PDpfgBdJ2/oC3Wxz42CQbrYL2H4kf19ts6ObbW68ztnuxiPVBQyVgGRlZWHWrFlYtGgR4uLi5J2MyMhITJ48Ge7u7ndNQMQPDx06JPcViYvYunbtijfffFPeOSm+WbOvejMxgpiyWCSXIpksfOeKMncXoJvtPYR2ttnRzTY3cRTtbLOjm21u7HO2u/FIdQFDJSDqHIxAAQpQgAIUoAAFKEABCpSnABOQ8tRlbApQgAIUoAAFKEABClCgiAATEHYIClCAAhSgAAUoQAEKUMBuAkxA7EbNE1GAAhSgAAUoQAEKUIACTEDYByhAAQpQgAIUoAAFKEABuwkwAbEbNU9EAQpQgAIUoAAFKEABCjABYR+wi0B2djZmz54tp0gWCzyGhITIKZInERacJAAAC9pJREFUTZoENze3UsuQkpKCTz75BCtXrsThw4fluiz169dH//79MXXqVFSrVq3IsSNGjMDSpUtLjCfOm7/IpF0qreEktrqJU1trceTIETkN9datW2XJxTTUYlrrFi1aaKiJ/UPYape/VlBpJRZTeosFTfM3a53tL2HdGW/duoW33noL+/btw969e3Hp0qU71k0qK6I1fcmafcs6b0X+XMXN7Nc5FTszX+tU3Mx+navIawXPnSfABIQ9wS4CY8eOxfz58+UikV26dMH27dvlIpHi+/PmzSu1DGJwItZh6datG8SK9DVr1pQDI5HIiEREfF21atU7BoMiCXF1dS0Sd9CgQfDx8bFLfXWdxFa3wv8pW2Jx8uRJdOjQAf7+/hg3bpwsvliI88aNG3IhzkaNGumqkt3i2GqXnJyMb7/99o5yigRWJL0DBgyQCXHxBMQSZ7tVXuFE+QMTsd5Ou3bt8MMPP1iVgFjTl6zZV6FKdjlUxc3s1zkVOzNf61TczH6ds8tFgSe5qwATEHaQchcQdy5at24tB7Zz5swpON/48eMxd+5cHDx4EC1btiyxHFevXsWFCxfuWAzy448/xqhRo/D222/jpZdeumMwKD6hzl98stwrWE4nUHEr/J+yJRaDBw/G6tWrERUVJe9OiU0MuJs1a4a+fftixYoV5VTL8gmraldSqV5//XW88sor+PrrryGS2eIJiCXO5VNbvVHT09Mhfu/q1KkDsbirh4eHVQmINX3Jmn311lJ/NBU3M1/nREuo2Jn5WqfqZubrnP4rACNaK8AExFox7m+1wLRp0zBjxgxER0ejQYMGBcfHxMQgLCxMfqo8ffp0q+ImJibCz88Pzz77LD766KM7BoMZGRlITU2Fr6/vHXdCrDpRBe6s6pb/aFBZFuI2fkBAAIYMGXLH42vDhw/H8uXL5YBUWDrLpmpXUj0bN26M69evy4TY09PTkH2ueL2tTUCs6UvW7Oss/S6/nNa6lVY/M1znVPtc4QTEjNc63X3OjNc5Z7u+GKW8TECM0pIOXA/x6JS4yyGeJS++BQUFoU2bNvLTd2u248ePo2nTppgyZQpmzpx5x2CwSpUqSEpKgre3t/wEX7zLEB4ebs0pKnxfVbf8BKQsix07dsjH4sQjcmPGjClSb/E98SiT2Kdz584VbmJpAVTtip9HPDIYERGB559/Xt61K7xZ6mxp2R1pP2sH0tb0JWv2dSQTS8pirVtpMc1wndOZgJjxWqczATHrdc6S32nuo1+ACYh+U0YsJiAerxKfGIv3NYpvbdu2lS/0ikdmrNmGDRuGzz77DPv375ePd+VvIiER8cSz615eXti5c6ccMIr/mMQLtaGhodacpkL3VXWz1EI8UiQehRHvNYj3Gwpv4nuPPfYYvvrqKzz++OMV6mHNyVXtip9r9OjR+OCDD7Bnzx60b9++yI8tdbam/I6yr7UDaWv6kjX7OoqHpeWw1q20uGa4zulIQCz9HWSfu3sPNut1ztLfa+6nV4AJiF5PRitBQNx5EHc6xKcrxTfxyXt8fDxOnTplsZ0YCIoLpXj3Q7wDUta2bt069OnTx6rn2MuKaY+f63YTZS7J4tNPP4UY6KxZs0Y6Fd7Wrl0rX/4X+wwdOtQe1dZyDp124jnrWrVqyXcixMvClmzO2udUB4PW9CVr9rXE3JH20ZGAmOU6p9rnSmt3s1zr8uuv2ufMfJ1zpGuHmcrCBMRMrV1BddX5afR3330nP63v168fvvnmG4tfNBd3RC5evCif33eWTadb4ToXtzDip4I67b788ks89dRT8jE+MW20pZsz9jnVwaA1fcmafS01d5T9VAeDZrrOqfa5u7W5Ga51uhIQM1/nHOW6YbZyMAExW4tXQH11PY8vPo1/9NFH5fsKq1atQqVKlSyujZi1SEwnKl5SdJZNl1vx+ha3MOKz+DrtHnnkEXl3SMwKJqamtXRzxj6nOhi0pi9Zs6+l5o6yn0oCYrbrnGqfu1ubm+FapysBMfN1zlGuG2YrBxMQs7V4BdRXzHIlXhRXmQVr8+bN8mVy8cn2+vXrrZ6RSawlkpCQIAeRzrLpcCuprsUtypqN6IsvvpALQDrTLFi67MTECWLxSvFomkh6rdmcsc+pDgat6UvW7GuNuyPsa2sCYsbrnGqfu1t7m+FapyMBMft1zhGuGWYsAxMQM7a6nessZsASM12Vtg7IgQMH5Dof4uXx06dPy+l1C3/SvGvXLjz44INyCl/xH3T16tVLrIFYWEms/SFePi+8iWlkxRSz4r2RBQsW2Ln2tp9Oxc1aC/GCufiU/9ixYwWrxeevAyLuJojHZZxpU7ErXE/xjtHEiRPlVMRPPvnkHQTWOjuToSjr3QbSpf2+WtOXrNnXmexscTPrdc6aBKSkPmft7yD73J13cc1+nXOma4uRysoExEit6cB1EdO7Lly4UK6ELqYz3bZtm1wJvXBSkL+qq1h7YsmSJbI2Z86ckcmLmFL3jTfekC+zF97Ev3v37i2/JRIZcRt54MCBcuVuMfOWeMxj2bJlcnE98R988eMdmEwWzVY3ay3EdJ8dO3aU64G88MIL8txiJXRx50OshN6kSRNHp7qjfLbaFQ4kEmORiIlPCIsntkbtc6Je7733Hm7cuIGcnBz885//lL+D+YsviscghUtJv6/iWGv6kjX7OkMHtNXN7Nc5lT5n9mudrX2O1zlnuKIYu4xMQIzdvg5TO/GJoHiJd9GiRYiLi5OfskdGRmLy5MkFL5KXNKDZtGkTHnjggVLr0b17d4h9xCYGiRMmTJBTpYqXzcWnZSLxEFPLioXpAgMDHcbD0oLY6maLxaFDh2R7iORQbF27dsWbb755xyr0lpa9ovez1S6/3GKKZzFNtEhkxHooJW22OFe0iyXnr1+/vkz+S9rEBwdi7ZPSEhBxjDV9yZp9LSl7Re5jq5vZr3OizWy1s+V3kH3u998SM1/nKvJawXMDTEDYCyhAAQpQgAIUoAAFKEABuwkwAbEbNU9EAQpQgAIUoAAFKEABCjABYR+gAAUoQAEKUIACFKAABewmwATEbtQ8EQUoQAEKUIACFKAABSjABIR9gAIUoAAFKEABClCAAhSwmwATELtR80QUoAAFKEABClCAAhSgABMQ9gEKUIACFKAABShAAQpQwG4CTEDsRs0TUYACFKAABShAAQpQgAJMQNgHKEABClCAAhSgAAUoQAG7CTABsRs1T0QBClCAAhSgAAUoQAEKMAFhH6AABShAAQpQgAIUoAAF7CbABMRu1DwRBShAAQpQgAIUoAAFKMAEhH2AAhSgAAUoQAEKUIACFLCbABMQu1HzRBSgAAUoQAEKUIACFKAAExD2AQpQgAIUoAAFKEABClDAbgJMQOxGzRNRgAIUoAAFKEABClCAAkxA2AcoQAEKUIACFKAABShAAbsJMAGxGzVPRAEKUIACFKAABShAAQowAWEfoAAFKEABClCAAhSgAAXsJsAExG7UPBEFKEABClCAAhSgAAUowASEfYACFKAABShAAQpQgAIUsJsAExC7UfNEFKAABShAAQpQgAIUoAATEPYBClCAAhSgAAUoQAEKUMBuAkxA7EbNE1GAAhSgAAUoQAEKUIACTEDYByhAAQpQgAIUoAAFKEABuwkwAbEbNU9EAQpQgAIUoAAFKEABCjABYR+gAAUoQAEKUIACFKAABewmwATEbtQ8EQUoQAEKUIACFKAABSjABIR9gAIUoAAFKEABClCAAhSwmwATELtR80QUoAAFKEABClCAAhSgABMQ9gEKUIACFKAABShAAQpQwG4CTEDsRs0TUYACFKAABShAAQpQgAJMQNgHKEABClCAAhSgAAUoQAG7CTABsRs1T0QBClCAAhSgAAUoQAEKMAFhH6AABShAAQpQgAIUoAAF7CbABMRu1DwRBShAAQpQgAIUoAAFKMAEhH2AAhSgAAUoQAEKUIACFLCbABMQu1HzRBSgAAUoQAEKUIACFKAAExD2AQpQgAIUoAAFKEABClDAbgJMQOxGzRNRgAIUoAAFKEABClCAAv8fED6u1oHNoywAAAAASUVORK5CYII=\" width=\"640\">"
      ],
      "text/plain": [
       "<IPython.core.display.HTML object>"
      ]
     },
     "metadata": {},
     "output_type": "display_data"
    },
    {
     "data": {
      "text/plain": [
       "<matplotlib.axes._subplots.AxesSubplot at 0x285f748d808>"
      ]
     },
     "execution_count": 35,
     "metadata": {},
     "output_type": "execute_result"
    }
   ],
   "source": [
    "# First inport numpy\n",
    "import numpy as np\n",
    "# import matplotlib to display the distribution plot\n",
    "import matplotlib.pyplot as plt\n",
    "# import seaborn\n",
    "import seaborn as sns\n",
    "# define the random number generator\n",
    "rng= np.random.default_rng()\n",
    "x = rng.normal(1,0.2,100000)\n",
    "\n",
    "# y generates the best fit line\n",
    "\n",
    "sns.distplot(x)\n"
   ]
  }
 ],
 "metadata": {
  "kernelspec": {
   "display_name": "Python 3",
   "language": "python",
   "name": "python3"
  },
  "language_info": {
   "codemirror_mode": {
    "name": "ipython",
    "version": 3
   },
   "file_extension": ".py",
   "mimetype": "text/x-python",
   "name": "python",
   "nbconvert_exporter": "python",
   "pygments_lexer": "ipython3",
   "version": "3.7.4"
  }
 },
 "nbformat": 4,
 "nbformat_minor": 2
}
