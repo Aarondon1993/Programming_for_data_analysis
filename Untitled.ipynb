{
 "cells": [
  {
   "cell_type": "markdown",
   "metadata": {},
   "source": [
    "### Assignment- Programming for Data Analysis\n",
    "***\n",
    "#### Aaron Donnelly-G00299531\n",
    "***\n",
    "\n",
    "#### Investigating the numpy.random package in Numpy"
   ]
  },
  {
   "cell_type": "markdown",
   "metadata": {},
   "source": [
    "### Section 1- The overall purpose of the numpy.random package\n",
    "\n",
    "\n",
    "##### NumPy also known as numerical python is a fundamental library for analysing scientifc data using python and is the foundation on which many other python libraries have been built. Numpy was built by an Americandata scientist called Travis Oliphant. NumPy is however open source, with many contributers. The main benefit of NumPy is how it deals with lists. A normal python list is tedious when carrying out calculations across the list. NumPy makes this process much more efficient by its ablility to carry out the calculation across entire lists known as numpy arrays(nparray). Numpy is a very important python library in the ever growing areas of neural networks and artificial intelligence. Numpy.random is a sub package of the Numpy library. This package is primarly used to generate random numbers for a user i.e. numbers that cannot be predicted logically [2]. The ability to generate random numbers is a big business in this day and age. The area of cryptography is  heavily reliant on the ability to use random numbers along with much of the current popular game shows. Random numbers are also used in areas such as gambling and can be used to simulate many of these games from ones computer. In the science field random numbers can be used to simulate potential events an example here would be virus infections This package works to produce “pseudo random” numbers using a combination of a “Bitgenerator”and “generators” [3]. The word pseudo random relates to the fact that the package uses an algorithm to generate therandom numbers and so they can’t be considered truly random. Advantages of these types of random numbers is that they can be generated quickly. The series of numbers can also be saved to memory and recalled at a different time. One downside to these algorithms is that they are ‘periodic’ meaning that eventually the sequence of numbers will eventually repeat.\n"
   ]
  }
 ],
 "metadata": {
  "kernelspec": {
   "display_name": "Python 3",
   "language": "python",
   "name": "python3"
  },
  "language_info": {
   "codemirror_mode": {
    "name": "ipython",
    "version": 3
   },
   "file_extension": ".py",
   "mimetype": "text/x-python",
   "name": "python",
   "nbconvert_exporter": "python",
   "pygments_lexer": "ipython3",
   "version": "3.7.4"
  }
 },
 "nbformat": 4,
 "nbformat_minor": 2
}
