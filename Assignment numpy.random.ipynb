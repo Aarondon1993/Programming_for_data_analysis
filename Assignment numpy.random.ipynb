{
 "cells": [
  {
   "cell_type": "markdown",
   "metadata": {},
   "source": [
    "### Assignment- Programming for Data Analysis\n",
    "***\n",
    "#### Aaron Donnelly-G00299531\n",
    "***\n",
    "\n",
    "#### Investigating the numpy.random package in Numpy"
   ]
  },
  {
   "cell_type": "markdown",
   "metadata": {},
   "source": [
    "### Section 1- The overall purpose of the numpy.random package\n",
    "\n",
    "\n",
    "##### NumPy also known as numerical python is a fundamental library for analysing scientifc data using python and is the foundation on which many other python libraries have been built. Numpy was built by an Americandata scientist called Travis Oliphant. NumPy is however open source, with many contributers. The main benefit of NumPy is how it deals with lists. A normal python list is tedious when carrying out calculations across the list. NumPy makes this process much more efficient by its ablility to carry out the calculation across entire lists known as numpy arrays(nparray). Numpy is a very important python library in the ever growing areas of neural networks and artificial intelligence. Numpy.random is a sub package of the Numpy library. This package is primarly used to generate random numbers for a user i.e. numbers that cannot be predicted logically [2]. The ability to generate random numbers is a big business in this day and age. The area of cryptography is  heavily reliant on the ability to use random numbers along with much of the current popular game shows. Random numbers are also used in areas such as gambling and can be used to simulate many of these games from ones computer. In the science field random numbers can be used to simulate potential events an example here would be virus infections This package works to produce “pseudo random” numbers using a combination of a “Bitgenerator”and “generators” [3]. The word pseudo random relates to the fact that the package uses an algorithm to generate therandom numbers and so they can’t be considered truly random. Advantages of these types of random numbers is that they can be generated quickly. The series of numbers can also be saved to memory and recalled at a different time. One downside to these algorithms is that they are ‘periodic’ meaning that eventually the sequence of numbers will eventually repeat.\n"
   ]
  },
  {
   "cell_type": "markdown",
   "metadata": {},
   "source": [
    "### Section 2 - Simple Random Data and Permutations functions\n"
   ]
  },
  {
   "cell_type": "markdown",
   "metadata": {},
   "source": [
    "##### The Simple Random Data function in Numpy is made up of 4 functions. These functions are integers, random, choice and bytes. A breakdown of these 4 functions with examples can be seen below."
   ]
  },
  {
   "cell_type": "markdown",
   "metadata": {},
   "source": [
    "#### Integers"
   ]
  },
  {
   "cell_type": "markdown",
   "metadata": {},
   "source": [
    "##### The integer function works by returning 'random integers' from 'low to high exclusive' or hight to low depending on if then enpoint is set to true. An example of this function can be seen below."
   ]
  },
  {
   "cell_type": "code",
   "execution_count": 2,
   "metadata": {},
   "outputs": [
    {
     "data": {
      "text/plain": [
       "array([0, 0, 1, 1, 0, 1, 1, 0, 1, 0, 0, 1, 0, 0, 1, 1, 1, 0, 1, 1],\n",
       "      dtype=int64)"
      ]
     },
     "execution_count": 2,
     "metadata": {},
     "output_type": "execute_result"
    }
   ],
   "source": [
    "import numpy as np\n",
    "rng = np.random.default_rng()\n",
    "x = rng.integers(2, size= 20)\n",
    "# The above will produce 20 integers (size = 20) between 0 and . This assumes the high= 2 the 2nd value between 0 and 1\n",
    "x\n"
   ]
  },
  {
   "cell_type": "code",
   "execution_count": 3,
   "metadata": {},
   "outputs": [
    {
     "data": {
      "text/plain": [
       "array([6, 0, 5, 7, 6, 1, 5, 1, 5, 7, 0, 1, 2, 9, 1, 8, 5, 7, 6, 1],\n",
       "      dtype=int64)"
      ]
     },
     "execution_count": 3,
     "metadata": {},
     "output_type": "execute_result"
    }
   ],
   "source": [
    "x = rng.integers(10, size= 20)\n",
    "# The above will produce 20 integers between 0 and 9 again assuming the high =9 i.e the 10th value between 0 and 9\n",
    "x"
   ]
  },
  {
   "cell_type": "code",
   "execution_count": 5,
   "metadata": {},
   "outputs": [
    {
     "data": {
      "text/plain": [
       "array([28, 21, 22, 26, 25, 29, 24, 22, 23, 25, 24, 21, 24, 23, 29, 21, 27,\n",
       "       24, 23, 20], dtype=int64)"
      ]
     },
     "execution_count": 5,
     "metadata": {},
     "output_type": "execute_result"
    }
   ],
   "source": [
    "x = rng.integers(20,high=30,size= 20,)\n",
    "# This numpy array specifys a high value of 30 and a low value of 20 and so will give 20 integers between 20 and 29\n",
    "x"
   ]
  },
  {
   "cell_type": "markdown",
   "metadata": {},
   "source": [
    "##### Random\n"
   ]
  }
 ],
 "metadata": {
  "kernelspec": {
   "display_name": "Python 3",
   "language": "python",
   "name": "python3"
  },
  "language_info": {
   "codemirror_mode": {
    "name": "ipython",
    "version": 3
   },
   "file_extension": ".py",
   "mimetype": "text/x-python",
   "name": "python",
   "nbconvert_exporter": "python",
   "pygments_lexer": "ipython3",
   "version": "3.7.4"
  }
 },
 "nbformat": 4,
 "nbformat_minor": 2
}
